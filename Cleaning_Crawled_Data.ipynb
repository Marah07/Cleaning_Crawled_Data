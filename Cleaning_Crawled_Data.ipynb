{
  "cells": [
    {
      "cell_type": "code",
      "execution_count": null,
      "metadata": {
        "id": "XqmG8pplWLka",
        "colab": {
          "base_uri": "https://localhost:8080/"
        },
        "outputId": "5680059f-b282-4b1c-c24b-b4201af8bfbe"
      },
      "outputs": [
        {
          "output_type": "stream",
          "name": "stdout",
          "text": [
            "Mounted at /content/drive\n"
          ]
        }
      ],
      "source": [
        "from google.colab import drive\n",
        "drive.mount('/content/drive')"
      ]
    },
    {
      "cell_type": "code",
      "execution_count": null,
      "metadata": {
        "id": "w4Tha_X65ekz"
      },
      "outputs": [],
      "source": [
        "import pandas as pd\n",
        "import os"
      ]
    },
    {
      "cell_type": "markdown",
      "metadata": {
        "id": "uvq_gMk7nQ9H"
      },
      "source": [
        "# Explore data\n",
        "\n"
      ]
    },
    {
      "cell_type": "code",
      "execution_count": null,
      "metadata": {
        "id": "uxY-ZNq6BGrq",
        "colab": {
          "base_uri": "https://localhost:8080/"
        },
        "outputId": "3375bdd7-f641-4b63-cf5d-62bf5c36a2ab"
      },
      "outputs": [
        {
          "output_type": "stream",
          "name": "stderr",
          "text": [
            "<ipython-input-3-e03dea8bfb0e>:1: DtypeWarning: Columns (19,20) have mixed types. Specify dtype option on import or set low_memory=False.\n",
            "  crawling_all= pd.read_csv('/content/drive/MyDrive/WiWi/Crawling_all.csv', parse_dates=['Last Modified'])\n"
          ]
        }
      ],
      "source": [
        "crawling_all= pd.read_csv('/content/drive/MyDrive/WiWi/Crawling_all.csv', parse_dates=['Last Modified'])"
      ]
    },
    {
      "cell_type": "code",
      "execution_count": null,
      "metadata": {
        "id": "F3XoLFmtBGuA",
        "colab": {
          "base_uri": "https://localhost:8080/"
        },
        "outputId": "53cf0035-f831-42c0-89f6-4df10b049a76"
      },
      "outputs": [
        {
          "output_type": "execute_result",
          "data": {
            "text/plain": [
              "(1487191, 88)"
            ]
          },
          "metadata": {},
          "execution_count": 4
        }
      ],
      "source": [
        "crawling_all.shape"
      ]
    },
    {
      "cell_type": "code",
      "execution_count": null,
      "metadata": {
        "id": "63kXgH0BBGwv"
      },
      "outputs": [],
      "source": [
        "file_size=os.path.getsize(\"/content/drive/MyDrive/WiWi/Crawling_all.csv\")"
      ]
    },
    {
      "cell_type": "code",
      "execution_count": null,
      "metadata": {
        "id": "327ZI5XzBGy1",
        "colab": {
          "base_uri": "https://localhost:8080/"
        },
        "outputId": "e9a0dfab-c484-4ae9-cb29-4fe35b07792b"
      },
      "outputs": [
        {
          "output_type": "stream",
          "name": "stdout",
          "text": [
            "1.3837974593043327\n"
          ]
        }
      ],
      "source": [
        "size = file_size / 1024 ** 3\n",
        "print(size)"
      ]
    },
    {
      "cell_type": "code",
      "execution_count": null,
      "metadata": {
        "id": "7mvWXdMOybrx",
        "colab": {
          "base_uri": "https://localhost:8080/",
          "height": 551
        },
        "outputId": "c11aeb9c-3980-479d-a978-b6d2bc059c38"
      },
      "outputs": [
        {
          "output_type": "execute_result",
          "data": {
            "text/plain": [
              "                                             Address  \\\n",
              "0  http://www.fsjpst.rnu.tn/fr/mastere-de-gouvern...   \n",
              "1  http://www.utm.rnu.tn/visirech/Fr/utm/fsegt/if...   \n",
              "2  https://www.justice.gov.tn/index.php?id=192&tx...   \n",
              "3  http://opendata.interieur.gov.tn/ar/datas/inde...   \n",
              "4  http://opendata.interieur.gov.tn/fr/outils/ind...   \n",
              "\n",
              "               Content Type  Status Code Status Indexability  \\\n",
              "0  text/html; charset=UTF-8          200     OK    Indexable   \n",
              "1  text/html; charset=UTF-8          200     OK    Indexable   \n",
              "2   text/html;charset=utf-8          200     OK    Indexable   \n",
              "3  text/html; charset=UTF-8          200     OK    Indexable   \n",
              "4  text/html; charset=UTF-8          200     OK    Indexable   \n",
              "\n",
              "  Indexability Status                                 Title 1  Title 1 Length  \\\n",
              "0                 NaN                                     NaN               0   \n",
              "1                 NaN                                VISIRECH               8   \n",
              "2                 NaN              وزارة العدل : طلبات العروض              26   \n",
              "3                 NaN  موقع البيانات المفتوحة لوزارة الداخلية              38   \n",
              "4                 NaN                                   قائمة               5   \n",
              "\n",
              "   Title 1 Pixel Width                                 Meta Description 1  \\\n",
              "0                    0                                                NaN   \n",
              "1                   85  Plateforme de la recherche scientifique de l'U...   \n",
              "2                  214  ﻭﺯﺍﺭﺓ ﺍﻟــــــﻌـــــــﺪﻝ ﺍﻟﺠـــــﻤﻬـــﻮﺭﻳﺔ ﺍﻟﺘ...   \n",
              "3                  326  Le site officiel des données ouvertes du Minis...   \n",
              "4                   45  Le site officiel des données ouvertes du Minis...   \n",
              "\n",
              "   ...  Mobile Usability  Mobile Usability Issues AMP Results  AMP Issues  \\\n",
              "0  ...               NaN                      NaN         NaN         NaN   \n",
              "1  ...               NaN                      NaN         NaN         NaN   \n",
              "2  ...               NaN                      NaN         NaN         NaN   \n",
              "3  ...               NaN                      NaN         NaN         NaN   \n",
              "4  ...               NaN                      NaN         NaN         NaN   \n",
              "\n",
              "  Rich Results  Rich Results Types Rich Results Type Errors  \\\n",
              "0          NaN                 NaN                      NaN   \n",
              "1          NaN                 NaN                      NaN   \n",
              "2          NaN                 NaN                      NaN   \n",
              "3          NaN                 NaN                      NaN   \n",
              "4          NaN                 NaN                      NaN   \n",
              "\n",
              "   Rich Results Type Warnings  \\\n",
              "0                         NaN   \n",
              "1                         NaN   \n",
              "2                         NaN   \n",
              "3                         NaN   \n",
              "4                         NaN   \n",
              "\n",
              "                                 URL Encoded Address      Crawl Timestamp  \n",
              "0  http://www.fsjpst.rnu.tn/fr/mastere-de-gouvern...  2023-07-29 17:51:47  \n",
              "1  http://www.utm.rnu.tn/visirech/Fr/utm/fsegt/if...  2023-07-27 17:11:19  \n",
              "2  https://www.justice.gov.tn/index.php?id=192&tx...  2023-07-22 20:25:29  \n",
              "3  http://opendata.interieur.gov.tn/ar/datas/inde...  2023-07-24 22:17:58  \n",
              "4  http://opendata.interieur.gov.tn/fr/outils/ind...  2023-07-27 21:55:58  \n",
              "\n",
              "[5 rows x 88 columns]"
            ],
            "text/html": [
              "\n",
              "  <div id=\"df-2febff2a-b350-4304-bf1d-4d5321ca4d95\" class=\"colab-df-container\">\n",
              "    <div>\n",
              "<style scoped>\n",
              "    .dataframe tbody tr th:only-of-type {\n",
              "        vertical-align: middle;\n",
              "    }\n",
              "\n",
              "    .dataframe tbody tr th {\n",
              "        vertical-align: top;\n",
              "    }\n",
              "\n",
              "    .dataframe thead th {\n",
              "        text-align: right;\n",
              "    }\n",
              "</style>\n",
              "<table border=\"1\" class=\"dataframe\">\n",
              "  <thead>\n",
              "    <tr style=\"text-align: right;\">\n",
              "      <th></th>\n",
              "      <th>Address</th>\n",
              "      <th>Content Type</th>\n",
              "      <th>Status Code</th>\n",
              "      <th>Status</th>\n",
              "      <th>Indexability</th>\n",
              "      <th>Indexability Status</th>\n",
              "      <th>Title 1</th>\n",
              "      <th>Title 1 Length</th>\n",
              "      <th>Title 1 Pixel Width</th>\n",
              "      <th>Meta Description 1</th>\n",
              "      <th>...</th>\n",
              "      <th>Mobile Usability</th>\n",
              "      <th>Mobile Usability Issues</th>\n",
              "      <th>AMP Results</th>\n",
              "      <th>AMP Issues</th>\n",
              "      <th>Rich Results</th>\n",
              "      <th>Rich Results Types</th>\n",
              "      <th>Rich Results Type Errors</th>\n",
              "      <th>Rich Results Type Warnings</th>\n",
              "      <th>URL Encoded Address</th>\n",
              "      <th>Crawl Timestamp</th>\n",
              "    </tr>\n",
              "  </thead>\n",
              "  <tbody>\n",
              "    <tr>\n",
              "      <th>0</th>\n",
              "      <td>http://www.fsjpst.rnu.tn/fr/mastere-de-gouvern...</td>\n",
              "      <td>text/html; charset=UTF-8</td>\n",
              "      <td>200</td>\n",
              "      <td>OK</td>\n",
              "      <td>Indexable</td>\n",
              "      <td>NaN</td>\n",
              "      <td>NaN</td>\n",
              "      <td>0</td>\n",
              "      <td>0</td>\n",
              "      <td>NaN</td>\n",
              "      <td>...</td>\n",
              "      <td>NaN</td>\n",
              "      <td>NaN</td>\n",
              "      <td>NaN</td>\n",
              "      <td>NaN</td>\n",
              "      <td>NaN</td>\n",
              "      <td>NaN</td>\n",
              "      <td>NaN</td>\n",
              "      <td>NaN</td>\n",
              "      <td>http://www.fsjpst.rnu.tn/fr/mastere-de-gouvern...</td>\n",
              "      <td>2023-07-29 17:51:47</td>\n",
              "    </tr>\n",
              "    <tr>\n",
              "      <th>1</th>\n",
              "      <td>http://www.utm.rnu.tn/visirech/Fr/utm/fsegt/if...</td>\n",
              "      <td>text/html; charset=UTF-8</td>\n",
              "      <td>200</td>\n",
              "      <td>OK</td>\n",
              "      <td>Indexable</td>\n",
              "      <td>NaN</td>\n",
              "      <td>VISIRECH</td>\n",
              "      <td>8</td>\n",
              "      <td>85</td>\n",
              "      <td>Plateforme de la recherche scientifique de l'U...</td>\n",
              "      <td>...</td>\n",
              "      <td>NaN</td>\n",
              "      <td>NaN</td>\n",
              "      <td>NaN</td>\n",
              "      <td>NaN</td>\n",
              "      <td>NaN</td>\n",
              "      <td>NaN</td>\n",
              "      <td>NaN</td>\n",
              "      <td>NaN</td>\n",
              "      <td>http://www.utm.rnu.tn/visirech/Fr/utm/fsegt/if...</td>\n",
              "      <td>2023-07-27 17:11:19</td>\n",
              "    </tr>\n",
              "    <tr>\n",
              "      <th>2</th>\n",
              "      <td>https://www.justice.gov.tn/index.php?id=192&amp;tx...</td>\n",
              "      <td>text/html;charset=utf-8</td>\n",
              "      <td>200</td>\n",
              "      <td>OK</td>\n",
              "      <td>Indexable</td>\n",
              "      <td>NaN</td>\n",
              "      <td>وزارة العدل : طلبات العروض</td>\n",
              "      <td>26</td>\n",
              "      <td>214</td>\n",
              "      <td>ﻭﺯﺍﺭﺓ ﺍﻟــــــﻌـــــــﺪﻝ ﺍﻟﺠـــــﻤﻬـــﻮﺭﻳﺔ ﺍﻟﺘ...</td>\n",
              "      <td>...</td>\n",
              "      <td>NaN</td>\n",
              "      <td>NaN</td>\n",
              "      <td>NaN</td>\n",
              "      <td>NaN</td>\n",
              "      <td>NaN</td>\n",
              "      <td>NaN</td>\n",
              "      <td>NaN</td>\n",
              "      <td>NaN</td>\n",
              "      <td>https://www.justice.gov.tn/index.php?id=192&amp;tx...</td>\n",
              "      <td>2023-07-22 20:25:29</td>\n",
              "    </tr>\n",
              "    <tr>\n",
              "      <th>3</th>\n",
              "      <td>http://opendata.interieur.gov.tn/ar/datas/inde...</td>\n",
              "      <td>text/html; charset=UTF-8</td>\n",
              "      <td>200</td>\n",
              "      <td>OK</td>\n",
              "      <td>Indexable</td>\n",
              "      <td>NaN</td>\n",
              "      <td>موقع البيانات المفتوحة لوزارة الداخلية</td>\n",
              "      <td>38</td>\n",
              "      <td>326</td>\n",
              "      <td>Le site officiel des données ouvertes du Minis...</td>\n",
              "      <td>...</td>\n",
              "      <td>NaN</td>\n",
              "      <td>NaN</td>\n",
              "      <td>NaN</td>\n",
              "      <td>NaN</td>\n",
              "      <td>NaN</td>\n",
              "      <td>NaN</td>\n",
              "      <td>NaN</td>\n",
              "      <td>NaN</td>\n",
              "      <td>http://opendata.interieur.gov.tn/ar/datas/inde...</td>\n",
              "      <td>2023-07-24 22:17:58</td>\n",
              "    </tr>\n",
              "    <tr>\n",
              "      <th>4</th>\n",
              "      <td>http://opendata.interieur.gov.tn/fr/outils/ind...</td>\n",
              "      <td>text/html; charset=UTF-8</td>\n",
              "      <td>200</td>\n",
              "      <td>OK</td>\n",
              "      <td>Indexable</td>\n",
              "      <td>NaN</td>\n",
              "      <td>قائمة</td>\n",
              "      <td>5</td>\n",
              "      <td>45</td>\n",
              "      <td>Le site officiel des données ouvertes du Minis...</td>\n",
              "      <td>...</td>\n",
              "      <td>NaN</td>\n",
              "      <td>NaN</td>\n",
              "      <td>NaN</td>\n",
              "      <td>NaN</td>\n",
              "      <td>NaN</td>\n",
              "      <td>NaN</td>\n",
              "      <td>NaN</td>\n",
              "      <td>NaN</td>\n",
              "      <td>http://opendata.interieur.gov.tn/fr/outils/ind...</td>\n",
              "      <td>2023-07-27 21:55:58</td>\n",
              "    </tr>\n",
              "  </tbody>\n",
              "</table>\n",
              "<p>5 rows × 88 columns</p>\n",
              "</div>\n",
              "    <div class=\"colab-df-buttons\">\n",
              "\n",
              "  <div class=\"colab-df-container\">\n",
              "    <button class=\"colab-df-convert\" onclick=\"convertToInteractive('df-2febff2a-b350-4304-bf1d-4d5321ca4d95')\"\n",
              "            title=\"Convert this dataframe to an interactive table.\"\n",
              "            style=\"display:none;\">\n",
              "\n",
              "  <svg xmlns=\"http://www.w3.org/2000/svg\" height=\"24px\" viewBox=\"0 -960 960 960\">\n",
              "    <path d=\"M120-120v-720h720v720H120Zm60-500h600v-160H180v160Zm220 220h160v-160H400v160Zm0 220h160v-160H400v160ZM180-400h160v-160H180v160Zm440 0h160v-160H620v160ZM180-180h160v-160H180v160Zm440 0h160v-160H620v160Z\"/>\n",
              "  </svg>\n",
              "    </button>\n",
              "\n",
              "  <style>\n",
              "    .colab-df-container {\n",
              "      display:flex;\n",
              "      gap: 12px;\n",
              "    }\n",
              "\n",
              "    .colab-df-convert {\n",
              "      background-color: #E8F0FE;\n",
              "      border: none;\n",
              "      border-radius: 50%;\n",
              "      cursor: pointer;\n",
              "      display: none;\n",
              "      fill: #1967D2;\n",
              "      height: 32px;\n",
              "      padding: 0 0 0 0;\n",
              "      width: 32px;\n",
              "    }\n",
              "\n",
              "    .colab-df-convert:hover {\n",
              "      background-color: #E2EBFA;\n",
              "      box-shadow: 0px 1px 2px rgba(60, 64, 67, 0.3), 0px 1px 3px 1px rgba(60, 64, 67, 0.15);\n",
              "      fill: #174EA6;\n",
              "    }\n",
              "\n",
              "    .colab-df-buttons div {\n",
              "      margin-bottom: 4px;\n",
              "    }\n",
              "\n",
              "    [theme=dark] .colab-df-convert {\n",
              "      background-color: #3B4455;\n",
              "      fill: #D2E3FC;\n",
              "    }\n",
              "\n",
              "    [theme=dark] .colab-df-convert:hover {\n",
              "      background-color: #434B5C;\n",
              "      box-shadow: 0px 1px 3px 1px rgba(0, 0, 0, 0.15);\n",
              "      filter: drop-shadow(0px 1px 2px rgba(0, 0, 0, 0.3));\n",
              "      fill: #FFFFFF;\n",
              "    }\n",
              "  </style>\n",
              "\n",
              "    <script>\n",
              "      const buttonEl =\n",
              "        document.querySelector('#df-2febff2a-b350-4304-bf1d-4d5321ca4d95 button.colab-df-convert');\n",
              "      buttonEl.style.display =\n",
              "        google.colab.kernel.accessAllowed ? 'block' : 'none';\n",
              "\n",
              "      async function convertToInteractive(key) {\n",
              "        const element = document.querySelector('#df-2febff2a-b350-4304-bf1d-4d5321ca4d95');\n",
              "        const dataTable =\n",
              "          await google.colab.kernel.invokeFunction('convertToInteractive',\n",
              "                                                    [key], {});\n",
              "        if (!dataTable) return;\n",
              "\n",
              "        const docLinkHtml = 'Like what you see? Visit the ' +\n",
              "          '<a target=\"_blank\" href=https://colab.research.google.com/notebooks/data_table.ipynb>data table notebook</a>'\n",
              "          + ' to learn more about interactive tables.';\n",
              "        element.innerHTML = '';\n",
              "        dataTable['output_type'] = 'display_data';\n",
              "        await google.colab.output.renderOutput(dataTable, element);\n",
              "        const docLink = document.createElement('div');\n",
              "        docLink.innerHTML = docLinkHtml;\n",
              "        element.appendChild(docLink);\n",
              "      }\n",
              "    </script>\n",
              "  </div>\n",
              "\n",
              "\n",
              "<div id=\"df-0c05fb02-7019-4bfb-8c33-e3a72dedecea\">\n",
              "  <button class=\"colab-df-quickchart\" onclick=\"quickchart('df-0c05fb02-7019-4bfb-8c33-e3a72dedecea')\"\n",
              "            title=\"Suggest charts.\"\n",
              "            style=\"display:none;\">\n",
              "\n",
              "<svg xmlns=\"http://www.w3.org/2000/svg\" height=\"24px\"viewBox=\"0 0 24 24\"\n",
              "     width=\"24px\">\n",
              "    <g>\n",
              "        <path d=\"M19 3H5c-1.1 0-2 .9-2 2v14c0 1.1.9 2 2 2h14c1.1 0 2-.9 2-2V5c0-1.1-.9-2-2-2zM9 17H7v-7h2v7zm4 0h-2V7h2v10zm4 0h-2v-4h2v4z\"/>\n",
              "    </g>\n",
              "</svg>\n",
              "  </button>\n",
              "\n",
              "<style>\n",
              "  .colab-df-quickchart {\n",
              "    background-color: #E8F0FE;\n",
              "    border: none;\n",
              "    border-radius: 50%;\n",
              "    cursor: pointer;\n",
              "    display: none;\n",
              "    fill: #1967D2;\n",
              "    height: 32px;\n",
              "    padding: 0 0 0 0;\n",
              "    width: 32px;\n",
              "  }\n",
              "\n",
              "  .colab-df-quickchart:hover {\n",
              "    background-color: #E2EBFA;\n",
              "    box-shadow: 0px 1px 2px rgba(60, 64, 67, 0.3), 0px 1px 3px 1px rgba(60, 64, 67, 0.15);\n",
              "    fill: #174EA6;\n",
              "  }\n",
              "\n",
              "  [theme=dark] .colab-df-quickchart {\n",
              "    background-color: #3B4455;\n",
              "    fill: #D2E3FC;\n",
              "  }\n",
              "\n",
              "  [theme=dark] .colab-df-quickchart:hover {\n",
              "    background-color: #434B5C;\n",
              "    box-shadow: 0px 1px 3px 1px rgba(0, 0, 0, 0.15);\n",
              "    filter: drop-shadow(0px 1px 2px rgba(0, 0, 0, 0.3));\n",
              "    fill: #FFFFFF;\n",
              "  }\n",
              "</style>\n",
              "\n",
              "  <script>\n",
              "    async function quickchart(key) {\n",
              "      const charts = await google.colab.kernel.invokeFunction(\n",
              "          'suggestCharts', [key], {});\n",
              "    }\n",
              "    (() => {\n",
              "      let quickchartButtonEl =\n",
              "        document.querySelector('#df-0c05fb02-7019-4bfb-8c33-e3a72dedecea button');\n",
              "      quickchartButtonEl.style.display =\n",
              "        google.colab.kernel.accessAllowed ? 'block' : 'none';\n",
              "    })();\n",
              "  </script>\n",
              "</div>\n",
              "    </div>\n",
              "  </div>\n"
            ]
          },
          "metadata": {},
          "execution_count": 7
        }
      ],
      "source": [
        "crawling_all.head()"
      ]
    },
    {
      "cell_type": "code",
      "execution_count": null,
      "metadata": {
        "id": "D-o3q0NBv5NN",
        "colab": {
          "base_uri": "https://localhost:8080/"
        },
        "outputId": "36353cf8-c6c8-4c04-ca3f-52e4d06412db"
      },
      "outputs": [
        {
          "output_type": "execute_result",
          "data": {
            "text/plain": [
              "Index(['Address', 'Content Type', 'Status Code', 'Status', 'Indexability',\n",
              "       'Indexability Status', 'Title 1', 'Title 1 Length',\n",
              "       'Title 1 Pixel Width', 'Meta Description 1',\n",
              "       'Meta Description 1 Length', 'Meta Description 1 Pixel Width',\n",
              "       'Meta Keywords 1', 'Meta Keywords 1 Length', 'H1-1', 'H1-1 Length',\n",
              "       'H2-1', 'H2-1 Length', 'Meta Robots 1', 'X-Robots-Tag 1',\n",
              "       'Meta Refresh 1', 'Canonical Link Element 1', 'rel=\"next\" 1',\n",
              "       'rel=\"prev\" 1', 'HTTP rel=\"next\" 1', 'HTTP rel=\"prev\" 1',\n",
              "       'amphtml Link Element', 'Size (bytes)', 'Word Count', 'Sentence Count',\n",
              "       'Average Words Per Sentence', 'Flesch Reading Ease Score',\n",
              "       'Readability', 'Text Ratio', 'Crawl Depth', 'Link Score', 'Inlinks',\n",
              "       'Unique Inlinks', 'Unique JS Inlinks', '% of Total', 'Outlinks',\n",
              "       'Unique Outlinks', 'Unique JS Outlinks', 'External Outlinks',\n",
              "       'Unique External Outlinks', 'Unique External JS Outlinks',\n",
              "       'Closest Similarity Match', 'No. Near Duplicates', 'Spelling Errors',\n",
              "       'Grammar Errors', 'Hash', 'Response Time', 'Last Modified',\n",
              "       'Redirect URL', 'Redirect Type', 'Cookies', 'PDF Subject', 'PDF Author',\n",
              "       'PDF Created', 'PDF Modified', 'PDF Page Count', 'HTTP Version',\n",
              "       'Clicks', 'Impressions', 'CTR', 'Position', 'URL Inspection API Status',\n",
              "       'URL Inspection API Error', 'Summary', 'Coverage', 'Last Crawl',\n",
              "       'Days Since Last Crawled', 'Crawled As', 'Crawl Allowed', 'Page Fetch',\n",
              "       'Indexing Allowed', 'User-Declared Canonical',\n",
              "       'Google-Selected Canonical', 'Mobile Usability',\n",
              "       'Mobile Usability Issues', 'AMP Results', 'AMP Issues', 'Rich Results',\n",
              "       'Rich Results Types', 'Rich Results Type Errors',\n",
              "       'Rich Results Type Warnings', 'URL Encoded Address', 'Crawl Timestamp'],\n",
              "      dtype='object')"
            ]
          },
          "metadata": {},
          "execution_count": 8
        }
      ],
      "source": [
        "crawling_all.columns"
      ]
    },
    {
      "cell_type": "markdown",
      "metadata": {
        "id": "xsr7kJDun3P-"
      },
      "source": [
        "# Check columns"
      ]
    },
    {
      "cell_type": "code",
      "execution_count": null,
      "metadata": {
        "id": "dJeA_BOInzj5",
        "colab": {
          "base_uri": "https://localhost:8080/"
        },
        "outputId": "d73b8b54-8103-4ac0-d71d-c9973ef551b5"
      },
      "outputs": [
        {
          "output_type": "stream",
          "name": "stdout",
          "text": [
            "Canonical Link Element 1\n",
            "rel=\"next\" 1\n",
            "rel=\"prev\" 1\n",
            "HTTP rel=\"next\" 1\n",
            "HTTP rel=\"prev\" 1\n",
            "amphtml Link Element\n",
            "Link Score\n",
            "Inlinks\n",
            "Unique Inlinks\n",
            "Unique JS Inlinks\n",
            "% of Total\n",
            "Outlinks\n",
            "Unique Outlinks\n",
            "Unique JS Outlinks\n",
            "External Outlinks\n",
            "Unique External Outlinks\n",
            "Unique External JS Outlinks\n",
            "Closest Similarity Match\n",
            "No. Near Duplicates\n",
            "Spelling Errors\n",
            "Grammar Errors\n",
            "Clicks\n",
            "Impressions\n",
            "CTR\n",
            "Position\n",
            "URL Inspection API Status\n",
            "URL Inspection API Error\n",
            "Summary\n",
            "Coverage\n",
            "Last Crawl\n",
            "Days Since Last Crawled\n",
            "Crawled As\n",
            "Crawl Allowed\n",
            "Page Fetch\n",
            "Indexing Allowed\n",
            "User-Declared Canonical\n",
            "Google-Selected Canonical\n",
            "Mobile Usability\n",
            "Mobile Usability Issues\n",
            "AMP Results\n",
            "AMP Issues\n",
            "Rich Results\n",
            "Rich Results Types\n",
            "Rich Results Type Errors\n",
            "Rich Results Type Warnings\n"
          ]
        }
      ],
      "source": [
        "#Check columns with 100% empty cells\n",
        "for col in crawling_all.columns:\n",
        "    if crawling_all[col].isnull().all():\n",
        "        print(col)"
      ]
    },
    {
      "cell_type": "code",
      "execution_count": null,
      "metadata": {
        "id": "Bw09OZC-nzmP"
      },
      "outputs": [],
      "source": [
        "# Drop columns with empty cells\n",
        "crawling_all.dropna(how='all', axis=1, inplace=True)"
      ]
    },
    {
      "cell_type": "code",
      "execution_count": null,
      "metadata": {
        "id": "9vmgksuUnzot",
        "colab": {
          "base_uri": "https://localhost:8080/"
        },
        "outputId": "d9d9a69c-97b3-40bd-a969-2a33450eaacc"
      },
      "outputs": [
        {
          "output_type": "execute_result",
          "data": {
            "text/plain": [
              "(1487191, 43)"
            ]
          },
          "metadata": {},
          "execution_count": 11
        }
      ],
      "source": [
        "crawling_all.shape"
      ]
    },
    {
      "cell_type": "markdown",
      "metadata": {
        "id": "zDe0YXiaom8o"
      },
      "source": [
        "# Create a copy from crawling_all\n"
      ]
    },
    {
      "cell_type": "code",
      "execution_count": null,
      "metadata": {
        "id": "3mRi2btGnzq5"
      },
      "outputs": [],
      "source": [
        "df = crawling_all.copy()"
      ]
    },
    {
      "cell_type": "code",
      "execution_count": null,
      "metadata": {
        "id": "nFrEXgAXnz3U",
        "colab": {
          "base_uri": "https://localhost:8080/"
        },
        "outputId": "213dc079-2e61-4e33-9e06-4f743a3d33aa"
      },
      "outputs": [
        {
          "output_type": "execute_result",
          "data": {
            "text/plain": [
              "Index(['Address', 'Content Type', 'Status Code', 'Status', 'Indexability',\n",
              "       'Indexability Status', 'Title 1', 'Title 1 Length',\n",
              "       'Title 1 Pixel Width', 'Meta Description 1',\n",
              "       'Meta Description 1 Length', 'Meta Description 1 Pixel Width',\n",
              "       'Meta Keywords 1', 'Meta Keywords 1 Length', 'H1-1', 'H1-1 Length',\n",
              "       'H2-1', 'H2-1 Length', 'Meta Robots 1', 'X-Robots-Tag 1',\n",
              "       'Meta Refresh 1', 'Size (bytes)', 'Word Count', 'Sentence Count',\n",
              "       'Average Words Per Sentence', 'Flesch Reading Ease Score',\n",
              "       'Readability', 'Text Ratio', 'Crawl Depth', 'Hash', 'Response Time',\n",
              "       'Last Modified', 'Redirect URL', 'Redirect Type', 'Cookies',\n",
              "       'PDF Subject', 'PDF Author', 'PDF Created', 'PDF Modified',\n",
              "       'PDF Page Count', 'HTTP Version', 'URL Encoded Address',\n",
              "       'Crawl Timestamp'],\n",
              "      dtype='object')"
            ]
          },
          "metadata": {},
          "execution_count": 13
        }
      ],
      "source": [
        "df.columns"
      ]
    },
    {
      "cell_type": "markdown",
      "source": [
        "# Take only rows with Content Type = PDF or HTML"
      ],
      "metadata": {
        "id": "HaYFnH3zBafI"
      }
    },
    {
      "cell_type": "code",
      "source": [
        "df.shape"
      ],
      "metadata": {
        "id": "ouID88qxC-eK",
        "colab": {
          "base_uri": "https://localhost:8080/"
        },
        "outputId": "ee248c61-d563-4db4-c2fe-388a40aaded6"
      },
      "execution_count": null,
      "outputs": [
        {
          "output_type": "execute_result",
          "data": {
            "text/plain": [
              "(1487191, 43)"
            ]
          },
          "metadata": {},
          "execution_count": 14
        }
      ]
    },
    {
      "cell_type": "code",
      "source": [
        "df = df[(df['Content Type'].str.contains('HTML', case=False)) | (df['Content Type'].str.contains('PDF', case=False)) ]"
      ],
      "metadata": {
        "id": "jsI5pr_xC-wl"
      },
      "execution_count": null,
      "outputs": []
    },
    {
      "cell_type": "code",
      "source": [
        "df.shape"
      ],
      "metadata": {
        "id": "pGnFe6FOC-0N",
        "colab": {
          "base_uri": "https://localhost:8080/"
        },
        "outputId": "f68c587b-7c8f-4dc0-ae93-721d8d0250d0"
      },
      "execution_count": null,
      "outputs": [
        {
          "output_type": "execute_result",
          "data": {
            "text/plain": [
              "(1381376, 43)"
            ]
          },
          "metadata": {},
          "execution_count": 16
        }
      ]
    },
    {
      "cell_type": "code",
      "source": [
        "df['Content Type'].value_counts()"
      ],
      "metadata": {
        "colab": {
          "base_uri": "https://localhost:8080/"
        },
        "id": "bSccWezsu6BW",
        "outputId": "f157e741-c4ac-41f2-d62d-aa2372cb55dd"
      },
      "execution_count": null,
      "outputs": [
        {
          "output_type": "execute_result",
          "data": {
            "text/plain": [
              "text/html; charset=UTF-8                                                                                                                                                                                                                                                  1035785\n",
              "text/html; charset=utf-8                                                                                                                                                                                                                                                   217593\n",
              "application/pdf                                                                                                                                                                                                                                                             68399\n",
              "text/html; charset=iso-8859-1                                                                                                                                                                                                                                               22899\n",
              "text/html                                                                                                                                                                                                                                                                   21803\n",
              "text/html;charset=utf-8                                                                                                                                                                                                                                                     13327\n",
              "text/html;charset=UTF-8                                                                                                                                                                                                                                                       613\n",
              "text/html;charset=ISO-8859-1                                                                                                                                                                                                                                                  578\n",
              "text/html; charset=WINDOWS-1256                                                                                                                                                                                                                                               178\n",
              "text/html;charset=windows-1256                                                                                                                                                                                                                                                124\n",
              "text/html; Charset=windows-1256                                                                                                                                                                                                                                                40\n",
              "text/html; charset=us-ascii                                                                                                                                                                                                                                                     6\n",
              "text/html; charset=windows-1256                                                                                                                                                                                                                                                 5\n",
              "text/html; charset=ISO-8859-15                                                                                                                                                                                                                                                  2\n",
              "text/html; charset=.cp-1256                                                                                                                                                                                                                                                     2\n",
              "application/pdf; name=\"catalogue bonnes pratiques INHERE fr.pdf\"                                                                                                                                                                                                                1\n",
              "application/pdf; name=\"infirmiers_en_hd.pdf\"                                                                                                                                                                                                                                    1\n",
              "application/pdf; name=\"CP_lancement_campagne_com_ENGLISH_comm_.pdf\"                                                                                                                                                                                                             1\n",
              "application/pdf; name=\"REGLEMENT PARTICIPATION 2019_0.pdf\"                                                                                                                                                                                                                      1\n",
              "application/pdf; name=\"Liste des =?utf-8?Q?=C3=A9tablissements?= publics relevant du ministre =?utf-8?Q?charg=C3=A9?= de l'enseignement =?utf-8?Q?sup=C3=A9rieur?= entrant dans le champ du paiement des frais d'inscription =?utf-8?Q?diff=C3=A9renci=C3=A9s=2Epdf?=\"          1\n",
              "application/pdf; name=\"CF FICHE PROCEDURE L1.pdf\"                                                                                                                                                                                                                               1\n",
              "application/pdf; name=\"CF FICHE PROCEDUR MASTER.pdf\"                                                                                                                                                                                                                            1\n",
              "application/pdf; name=\"CF FICHE PROCEDURE L2 L3.pdf\"                                                                                                                                                                                                                            1\n",
              "application/pdf; name=\"Procedure_visale_FR.pdf\"                                                                                                                                                                                                                                 1\n",
              "application/pdf; name=\"architecture_en_hd.pdf\"                                                                                                                                                                                                                                  1\n",
              "application/pdf; name=\"Flyer_ConnexionEtudiantEtranger_EN.pdf\"                                                                                                                                                                                                                  1\n",
              "application/pdf; name=\"=?utf-8?Q?Proc=C3=A9dures?= je suis =?utf-8?Q?accept=C3=A9?= - Tutoriels 2020-2021.pdf\"                                                                                                                                                                  1\n",
              "application/pdf; name=\"=?utf-8?Q?Proc=C3=A9dures?= Parcours et =?utf-8?Q?dipl=C3=B4mes?= 2020-2021.pdf\"                                                                                                                                                                         1\n",
              "application/pdf; name=\"Calendrier-2022_2023-260x450mm to print.pdf\"                                                                                                                                                                                                             1\n",
              "application/pdf; name=\"=?utf-8?Q?Proc=C3=A9dure?= 2022.pdf\"                                                                                                                                                                                                                     1\n",
              "application/pdf; name=\"Calendrier 2022 2023 web.pdf\"                                                                                                                                                                                                                            1\n",
              "application/pdf; charset=utf-8                                                                                                                                                                                                                                                  1\n",
              "text/html; charset=US-ASCII                                                                                                                                                                                                                                                     1\n",
              "application/pdf; name=\"=?utf-8?Q?Proc=C3=A9dures?= je suis candidat - tutoriels 2020-2021_NigerEEF.pdf\"                                                                                                                                                                         1\n",
              "application/pdf; name=\"Corte_Corse_fr.pdf\"                                                                                                                                                                                                                                      1\n",
              "application/pdf; name=\"Tours_fr.pdf\"                                                                                                                                                                                                                                            1\n",
              "application/pdf; name=\"CALENDRIER.2023.pdf\"                                                                                                                                                                                                                                     1\n",
              "Name: Content Type, dtype: int64"
            ]
          },
          "metadata": {},
          "execution_count": 17
        }
      ]
    },
    {
      "cell_type": "code",
      "source": [
        "# Replace 'html' and 'pdf' values in the 'Content Type' column\n",
        "df.loc[df['Content Type'].str.contains('html', case=False), 'Content Type'] = 'html'\n",
        "df.loc[df['Content Type'].str.contains('pdf', case=False), 'Content Type'] = 'pdf'"
      ],
      "metadata": {
        "id": "bCHpyWtHuhFd"
      },
      "execution_count": null,
      "outputs": []
    },
    {
      "cell_type": "code",
      "source": [
        "df['Content Type'].value_counts()"
      ],
      "metadata": {
        "colab": {
          "base_uri": "https://localhost:8080/"
        },
        "id": "vAqJoL1zusgB",
        "outputId": "9d916e74-626b-4ca7-9fd8-a6ded2d79488"
      },
      "execution_count": null,
      "outputs": [
        {
          "output_type": "execute_result",
          "data": {
            "text/plain": [
              "html    1312956\n",
              "pdf       68420\n",
              "Name: Content Type, dtype: int64"
            ]
          },
          "metadata": {},
          "execution_count": 19
        }
      ]
    },
    {
      "cell_type": "markdown",
      "metadata": {
        "id": "xfKue-nHpZdk"
      },
      "source": [
        "# Take rows with Status Code = 200"
      ]
    },
    {
      "cell_type": "code",
      "execution_count": null,
      "metadata": {
        "id": "DY0arsBTs9-l",
        "colab": {
          "base_uri": "https://localhost:8080/"
        },
        "outputId": "c1f5b644-8d6a-40f5-813e-d434247326bc"
      },
      "outputs": [
        {
          "output_type": "execute_result",
          "data": {
            "text/plain": [
              "200    1315200\n",
              "404      28722\n",
              "302      16372\n",
              "301      10270\n",
              "503       4661\n",
              "303       4574\n",
              "500        682\n",
              "403        519\n",
              "401        202\n",
              "307        172\n",
              "400          2\n",
              "Name: Status Code, dtype: int64"
            ]
          },
          "metadata": {},
          "execution_count": 20
        }
      ],
      "source": [
        "df['Status Code'].value_counts()"
      ]
    },
    {
      "cell_type": "code",
      "execution_count": null,
      "metadata": {
        "id": "1e7KKpsYnz6Y"
      },
      "outputs": [],
      "source": [
        "df = df[df['Status Code'] == 200]"
      ]
    },
    {
      "cell_type": "code",
      "execution_count": null,
      "metadata": {
        "id": "jbpIhPjQqIS_",
        "colab": {
          "base_uri": "https://localhost:8080/"
        },
        "outputId": "acbfceb9-b08b-4aa4-9bb6-ddb328ee30d9"
      },
      "outputs": [
        {
          "output_type": "execute_result",
          "data": {
            "text/plain": [
              "(1315200, 43)"
            ]
          },
          "metadata": {},
          "execution_count": 22
        }
      ],
      "source": [
        "df.shape"
      ]
    },
    {
      "cell_type": "markdown",
      "source": [
        "# Check for duplicated hash values and remove duplicates"
      ],
      "metadata": {
        "id": "IYD6XXVIvtsM"
      }
    },
    {
      "cell_type": "code",
      "source": [
        "df['Hash'].duplicated().value_counts()"
      ],
      "metadata": {
        "id": "Lh_8laG7v162",
        "colab": {
          "base_uri": "https://localhost:8080/"
        },
        "outputId": "26c85a55-f57f-47b4-a0c1-8b3715f40e92"
      },
      "execution_count": null,
      "outputs": [
        {
          "output_type": "execute_result",
          "data": {
            "text/plain": [
              "False    1151803\n",
              "True      163397\n",
              "Name: Hash, dtype: int64"
            ]
          },
          "metadata": {},
          "execution_count": 23
        }
      ]
    },
    {
      "cell_type": "code",
      "source": [
        "# Drop rows with duplicated hash values and keep the first occurrence\n",
        "mask = df.duplicated(subset='Hash', keep='first') & ~df['Hash'].isna()\n",
        "\n",
        "# Filter the DataFrame using the mask\n",
        "df = df[~mask]"
      ],
      "metadata": {
        "id": "sp9DOk5cv19R"
      },
      "execution_count": null,
      "outputs": []
    },
    {
      "cell_type": "code",
      "source": [
        "df['Hash'].duplicated().value_counts()"
      ],
      "metadata": {
        "id": "sZH29JqUw7LU",
        "colab": {
          "base_uri": "https://localhost:8080/"
        },
        "outputId": "73268631-e69f-49a9-a04a-3511ae5bb107"
      },
      "execution_count": null,
      "outputs": [
        {
          "output_type": "execute_result",
          "data": {
            "text/plain": [
              "False    1151803\n",
              "True       68747\n",
              "Name: Hash, dtype: int64"
            ]
          },
          "metadata": {},
          "execution_count": 25
        }
      ]
    },
    {
      "cell_type": "code",
      "source": [
        "df[df['Content Type'].str.contains('pdf',case=False)].shape"
      ],
      "metadata": {
        "colab": {
          "base_uri": "https://localhost:8080/"
        },
        "id": "19oXf4UWcWRH",
        "outputId": "f0e29971-632c-4b0f-9e71-f637c570849a"
      },
      "execution_count": null,
      "outputs": [
        {
          "output_type": "execute_result",
          "data": {
            "text/plain": [
              "(68420, 43)"
            ]
          },
          "metadata": {},
          "execution_count": 26
        }
      ]
    },
    {
      "cell_type": "code",
      "source": [
        "df.shape"
      ],
      "metadata": {
        "colab": {
          "base_uri": "https://localhost:8080/"
        },
        "id": "0r0wjEoj_PUu",
        "outputId": "dc5fcdce-511d-4685-efdc-c132fc73f037"
      },
      "execution_count": null,
      "outputs": [
        {
          "output_type": "execute_result",
          "data": {
            "text/plain": [
              "(1220550, 43)"
            ]
          },
          "metadata": {},
          "execution_count": 27
        }
      ]
    },
    {
      "cell_type": "markdown",
      "source": [
        "# Remove addresses with obvious irrelevant keywords"
      ],
      "metadata": {
        "id": "ldyMjf9PyyUH"
      }
    },
    {
      "cell_type": "code",
      "source": [
        "df = df[~df['Address'].str.contains('login')]"
      ],
      "metadata": {
        "id": "5pPjHgXKy6Kq"
      },
      "execution_count": null,
      "outputs": []
    },
    {
      "cell_type": "code",
      "source": [
        "df = df[~df['Address'].str.contains('register',case=False)]"
      ],
      "metadata": {
        "id": "ErDzNwjY0FHr"
      },
      "execution_count": null,
      "outputs": []
    },
    {
      "cell_type": "code",
      "source": [
        "df = df[~df['Address'].str.contains('user',case=False)]"
      ],
      "metadata": {
        "id": "Zep-OHW9lhey"
      },
      "execution_count": null,
      "outputs": []
    },
    {
      "cell_type": "code",
      "source": [
        "df = df[~df['Address'].str.contains('password',case=False)]"
      ],
      "metadata": {
        "id": "Pt2QqPNDlu8u"
      },
      "execution_count": null,
      "outputs": []
    },
    {
      "cell_type": "code",
      "source": [
        "df = df[~df['Address'].str.contains('contact',case=False)]"
      ],
      "metadata": {
        "id": "uERJfKwTo6NC"
      },
      "execution_count": null,
      "outputs": []
    },
    {
      "cell_type": "code",
      "source": [
        "df = df[~df['Address'].str.contains('profile',case=False)]"
      ],
      "metadata": {
        "id": "kukNMd4Lp2r4"
      },
      "execution_count": null,
      "outputs": []
    },
    {
      "cell_type": "code",
      "source": [
        "# Remove addresses of campus france of other countries != tunisie\n",
        "df = df[~(df['Address'].str.contains('campusfrance',case=False) & ~df['Address'].str.contains('tunisie',case=False))]"
      ],
      "metadata": {
        "id": "BZLQvoR5qkw1"
      },
      "execution_count": null,
      "outputs": []
    },
    {
      "cell_type": "code",
      "source": [
        "df = df[~df['Address'].str.contains('agenda',case=False)]"
      ],
      "metadata": {
        "id": "TJUbNwyts9oq"
      },
      "execution_count": null,
      "outputs": []
    },
    {
      "cell_type": "code",
      "source": [
        "df = df[~df['Address'].str.contains('partenaire',case=False)]"
      ],
      "metadata": {
        "id": "036sa2THn5el"
      },
      "execution_count": null,
      "outputs": []
    },
    {
      "cell_type": "code",
      "source": [
        "df = df[~df['Address'].str.contains('add-to-cart',case=False)]"
      ],
      "metadata": {
        "id": "AyDPWAWVqoIA"
      },
      "execution_count": null,
      "outputs": []
    },
    {
      "cell_type": "code",
      "source": [
        "df = df[~df['Address'].str.contains('produit',case=False)]"
      ],
      "metadata": {
        "id": "eDUagIY-tJee"
      },
      "execution_count": null,
      "outputs": []
    },
    {
      "cell_type": "code",
      "source": [
        "df = df[~df['Address'].str.contains('product',case=False)]"
      ],
      "metadata": {
        "id": "MyFxhJzotVwC"
      },
      "execution_count": null,
      "outputs": []
    },
    {
      "cell_type": "code",
      "source": [
        "df = df[~df['Address'].str.contains('نعي',case=False)]"
      ],
      "metadata": {
        "id": "nCL0S1j6fYBw"
      },
      "execution_count": null,
      "outputs": []
    },
    {
      "cell_type": "code",
      "source": [
        "df = df[~df['Address'].str.contains('send',case=False)]"
      ],
      "metadata": {
        "id": "6Pvo-1gTfcWf"
      },
      "execution_count": null,
      "outputs": []
    },
    {
      "cell_type": "code",
      "source": [
        "df = df[~df['Address'].str.contains('mail',case=False)]"
      ],
      "metadata": {
        "id": "W9BTZOlBfxrd"
      },
      "execution_count": null,
      "outputs": []
    },
    {
      "cell_type": "code",
      "source": [
        "df = df[~df['Address'].str.contains('photo',case=False)]"
      ],
      "metadata": {
        "id": "sG4pU-qYgrzK"
      },
      "execution_count": null,
      "outputs": []
    },
    {
      "cell_type": "code",
      "source": [
        "df = df[~df['Address'].str.contains('video',case=False)]"
      ],
      "metadata": {
        "id": "rNXZW0hJgr2p"
      },
      "execution_count": null,
      "outputs": []
    },
    {
      "cell_type": "code",
      "source": [
        "df = df[~df['Address'].str.contains('album',case=False)]"
      ],
      "metadata": {
        "id": "ta-C3OOegsHa"
      },
      "execution_count": null,
      "outputs": []
    },
    {
      "cell_type": "code",
      "source": [
        "df = df[~df['Address'].str.contains('fete',case=False)]"
      ],
      "metadata": {
        "id": "-YIQ1GfBNz-O"
      },
      "execution_count": null,
      "outputs": []
    },
    {
      "cell_type": "code",
      "source": [
        "df = df[~df['Address'].str.contains('lost_pwd',case=False)]"
      ],
      "metadata": {
        "id": "OQaqgRoGfldB"
      },
      "execution_count": null,
      "outputs": []
    },
    {
      "cell_type": "code",
      "source": [
        "df = df[~df['Address'].str.contains('authentif',case=False)]"
      ],
      "metadata": {
        "id": "SV7f-m3tc22_"
      },
      "execution_count": null,
      "outputs": []
    },
    {
      "cell_type": "code",
      "source": [
        "df = df[~df['Address'].str.contains('ميديا')]"
      ],
      "metadata": {
        "id": "KKLOQQ_GJVAV"
      },
      "execution_count": null,
      "outputs": []
    },
    {
      "cell_type": "code",
      "source": [
        "df.shape"
      ],
      "metadata": {
        "id": "_Zi1ndiGy6OB",
        "colab": {
          "base_uri": "https://localhost:8080/"
        },
        "outputId": "27d9a4b2-e224-4c9e-a962-9c3f217b5c50"
      },
      "execution_count": null,
      "outputs": [
        {
          "output_type": "execute_result",
          "data": {
            "text/plain": [
              "(1132960, 43)"
            ]
          },
          "metadata": {},
          "execution_count": 50
        }
      ]
    },
    {
      "cell_type": "markdown",
      "source": [
        "# Crawl Depth"
      ],
      "metadata": {
        "id": "Iwd9X8Snyscy"
      }
    },
    {
      "cell_type": "code",
      "source": [
        "# Check rows with high Crawl Depth\n",
        "high_depth = df[df['Crawl Depth']>1000][['Address','Content Type', 'Crawl Depth', 'Size (bytes)','Word Count', 'Sentence Count']].sort_values(by='Crawl Depth', ascending=False)\n",
        "high_depth.shape"
      ],
      "metadata": {
        "id": "YDObU96Qyufd",
        "colab": {
          "base_uri": "https://localhost:8080/"
        },
        "outputId": "c2069ef5-60e3-4835-b97e-b8ee2c23a5da"
      },
      "execution_count": null,
      "outputs": [
        {
          "output_type": "execute_result",
          "data": {
            "text/plain": [
              "(34303, 6)"
            ]
          },
          "metadata": {},
          "execution_count": 51
        }
      ]
    },
    {
      "cell_type": "markdown",
      "source": [
        "## Check addresses related to ONSR website"
      ],
      "metadata": {
        "id": "ecN6vrwvALG2"
      }
    },
    {
      "cell_type": "code",
      "source": [
        "high_depth[high_depth['Address'].str.contains('onsr', case=False)].shape"
      ],
      "metadata": {
        "id": "iWZjiSgm9Os4",
        "colab": {
          "base_uri": "https://localhost:8080/"
        },
        "outputId": "fa513535-abac-44da-b502-a56e22f27b69"
      },
      "execution_count": null,
      "outputs": [
        {
          "output_type": "execute_result",
          "data": {
            "text/plain": [
              "(34303, 6)"
            ]
          },
          "metadata": {},
          "execution_count": 52
        }
      ]
    },
    {
      "cell_type": "code",
      "source": [
        "high_depth_onsr= high_depth[high_depth['Address'].str.contains('onsr', case=False)]"
      ],
      "metadata": {
        "id": "QFH8iBVa-qa2"
      },
      "execution_count": null,
      "outputs": []
    },
    {
      "cell_type": "code",
      "source": [
        "high_depth_onsr_html=high_depth_onsr[high_depth_onsr['Content Type'].str.contains('html', case=False)]\n",
        "high_depth_onsr_html.shape"
      ],
      "metadata": {
        "id": "vHUiSITJ-wSL",
        "colab": {
          "base_uri": "https://localhost:8080/"
        },
        "outputId": "3dbf8f23-1fcb-4ff3-f260-ae74de2e1bf4"
      },
      "execution_count": null,
      "outputs": [
        {
          "output_type": "execute_result",
          "data": {
            "text/plain": [
              "(12664, 6)"
            ]
          },
          "metadata": {},
          "execution_count": 54
        }
      ]
    },
    {
      "cell_type": "code",
      "source": [
        "df_onsr=df[df['Address'].str.contains('onsr', case=False)]\n",
        "df_onsr.shape"
      ],
      "metadata": {
        "id": "g5VueNhX_wtQ",
        "colab": {
          "base_uri": "https://localhost:8080/"
        },
        "outputId": "17256c9c-6c6c-4d1d-afad-697186e9ac41"
      },
      "execution_count": null,
      "outputs": [
        {
          "output_type": "execute_result",
          "data": {
            "text/plain": [
              "(37345, 43)"
            ]
          },
          "metadata": {},
          "execution_count": 55
        }
      ]
    },
    {
      "cell_type": "code",
      "source": [
        "df_onsr_html=df_onsr[df_onsr['Content Type'].str.contains('html', case=False)]\n",
        "df_onsr_html.shape"
      ],
      "metadata": {
        "id": "6MD9U8TW_7nu",
        "colab": {
          "base_uri": "https://localhost:8080/"
        },
        "outputId": "4ac35816-73ad-4fa9-9a03-7d7133be98f7"
      },
      "execution_count": null,
      "outputs": [
        {
          "output_type": "execute_result",
          "data": {
            "text/plain": [
              "(13815, 43)"
            ]
          },
          "metadata": {},
          "execution_count": 56
        }
      ]
    },
    {
      "cell_type": "markdown",
      "source": [
        "There are 12664 rows with Crawl Depth >1000\n",
        "While checking the addresses of these rows I found out that all of them are from one website (onsr: https://onsr.nat.tn/onsr/...) and their content type is html.\n",
        "While clicking on some of these links I didn't find any content they are all empty, I only found the principal menu and the side bar\n",
        "--> All links related to onsr must be removed\n"
      ],
      "metadata": {
        "id": "fJhWEDwm85h9"
      }
    },
    {
      "cell_type": "code",
      "source": [
        "df = df[~df['Address'].str.contains('onsr', case=False)]"
      ],
      "metadata": {
        "id": "vl8MPmX_AFla"
      },
      "execution_count": null,
      "outputs": []
    },
    {
      "cell_type": "code",
      "source": [
        "df[df['Address'].str.contains('onsr', case=False)].shape"
      ],
      "metadata": {
        "id": "T3lynysY7RkB",
        "colab": {
          "base_uri": "https://localhost:8080/"
        },
        "outputId": "b45b8495-68c6-497e-b6dc-c7824609aa89"
      },
      "execution_count": null,
      "outputs": [
        {
          "output_type": "execute_result",
          "data": {
            "text/plain": [
              "(0, 43)"
            ]
          },
          "metadata": {},
          "execution_count": 58
        }
      ]
    },
    {
      "cell_type": "code",
      "source": [
        "df.shape"
      ],
      "metadata": {
        "id": "6Qkw-JH3ArXr",
        "colab": {
          "base_uri": "https://localhost:8080/"
        },
        "outputId": "e87d8c01-472c-4aea-e715-71ada9c1a269"
      },
      "execution_count": null,
      "outputs": [
        {
          "output_type": "execute_result",
          "data": {
            "text/plain": [
              "(1095615, 43)"
            ]
          },
          "metadata": {},
          "execution_count": 59
        }
      ]
    },
    {
      "cell_type": "markdown",
      "source": [
        "Now let's go back to Crawl Depth"
      ],
      "metadata": {
        "id": "grcSFiiOA_MQ"
      }
    },
    {
      "cell_type": "markdown",
      "source": [
        "## Back to Crawl Depth"
      ],
      "metadata": {
        "id": "uLJZ1FOWBHFp"
      }
    },
    {
      "cell_type": "markdown",
      "source": [
        "Now the dataset doesen't contain in Crawl Depth > 1000, let's check the higher value it contains"
      ],
      "metadata": {
        "id": "KapQSLMCBePO"
      }
    },
    {
      "cell_type": "code",
      "source": [
        "df['Crawl Depth'].max()"
      ],
      "metadata": {
        "id": "zT1nYjm7CLrn",
        "colab": {
          "base_uri": "https://localhost:8080/"
        },
        "outputId": "b5b6eb6f-78b2-41c2-cad5-0a5eb42c7205"
      },
      "execution_count": null,
      "outputs": [
        {
          "output_type": "execute_result",
          "data": {
            "text/plain": [
              "261.0"
            ]
          },
          "metadata": {},
          "execution_count": 60
        }
      ]
    },
    {
      "cell_type": "code",
      "source": [
        "df[df['Crawl Depth']==261]"
      ],
      "metadata": {
        "id": "xXUY1ahICPnK",
        "colab": {
          "base_uri": "https://localhost:8080/",
          "height": 318
        },
        "outputId": "6fc67630-b55e-4b3e-9b13-196e557d4c8a"
      },
      "execution_count": null,
      "outputs": [
        {
          "output_type": "execute_result",
          "data": {
            "text/plain": [
              "                                                  Address Content Type  \\\n",
              "314184  http://www.utm.rnu.tn/visirech/Fr/utm/annuaire...         html   \n",
              "314210  http://www.utm.rnu.tn/visirech/Fr/utm/annuaire...         html   \n",
              "\n",
              "        Status Code Status Indexability Indexability Status   Title 1  \\\n",
              "314184          200     OK    Indexable                 NaN  VISIRECH   \n",
              "314210          200     OK    Indexable                 NaN  VISIRECH   \n",
              "\n",
              "        Title 1 Length  Title 1 Pixel Width  \\\n",
              "314184               8                   85   \n",
              "314210               8                   85   \n",
              "\n",
              "                                       Meta Description 1  ...  Redirect Type  \\\n",
              "314184  Plateforme de la recherche scientifique de l'U...  ...            NaN   \n",
              "314210  Plateforme de la recherche scientifique de l'U...  ...            NaN   \n",
              "\n",
              "        Cookies PDF Subject  PDF Author PDF Created  PDF Modified  \\\n",
              "314184        1         NaN         NaN         NaN           NaN   \n",
              "314210        1         NaN         NaN         NaN           NaN   \n",
              "\n",
              "       PDF Page Count  HTTP Version  \\\n",
              "314184              0           1.1   \n",
              "314210              0           1.1   \n",
              "\n",
              "                                      URL Encoded Address      Crawl Timestamp  \n",
              "314184  http://www.utm.rnu.tn/visirech/Fr/utm/annuaire...  2023-07-28 18:32:51  \n",
              "314210  http://www.utm.rnu.tn/visirech/Fr/utm/annuaire...  2023-07-28 18:32:51  \n",
              "\n",
              "[2 rows x 43 columns]"
            ],
            "text/html": [
              "\n",
              "  <div id=\"df-7f86197e-09e6-402f-ad84-710da57f326e\" class=\"colab-df-container\">\n",
              "    <div>\n",
              "<style scoped>\n",
              "    .dataframe tbody tr th:only-of-type {\n",
              "        vertical-align: middle;\n",
              "    }\n",
              "\n",
              "    .dataframe tbody tr th {\n",
              "        vertical-align: top;\n",
              "    }\n",
              "\n",
              "    .dataframe thead th {\n",
              "        text-align: right;\n",
              "    }\n",
              "</style>\n",
              "<table border=\"1\" class=\"dataframe\">\n",
              "  <thead>\n",
              "    <tr style=\"text-align: right;\">\n",
              "      <th></th>\n",
              "      <th>Address</th>\n",
              "      <th>Content Type</th>\n",
              "      <th>Status Code</th>\n",
              "      <th>Status</th>\n",
              "      <th>Indexability</th>\n",
              "      <th>Indexability Status</th>\n",
              "      <th>Title 1</th>\n",
              "      <th>Title 1 Length</th>\n",
              "      <th>Title 1 Pixel Width</th>\n",
              "      <th>Meta Description 1</th>\n",
              "      <th>...</th>\n",
              "      <th>Redirect Type</th>\n",
              "      <th>Cookies</th>\n",
              "      <th>PDF Subject</th>\n",
              "      <th>PDF Author</th>\n",
              "      <th>PDF Created</th>\n",
              "      <th>PDF Modified</th>\n",
              "      <th>PDF Page Count</th>\n",
              "      <th>HTTP Version</th>\n",
              "      <th>URL Encoded Address</th>\n",
              "      <th>Crawl Timestamp</th>\n",
              "    </tr>\n",
              "  </thead>\n",
              "  <tbody>\n",
              "    <tr>\n",
              "      <th>314184</th>\n",
              "      <td>http://www.utm.rnu.tn/visirech/Fr/utm/annuaire...</td>\n",
              "      <td>html</td>\n",
              "      <td>200</td>\n",
              "      <td>OK</td>\n",
              "      <td>Indexable</td>\n",
              "      <td>NaN</td>\n",
              "      <td>VISIRECH</td>\n",
              "      <td>8</td>\n",
              "      <td>85</td>\n",
              "      <td>Plateforme de la recherche scientifique de l'U...</td>\n",
              "      <td>...</td>\n",
              "      <td>NaN</td>\n",
              "      <td>1</td>\n",
              "      <td>NaN</td>\n",
              "      <td>NaN</td>\n",
              "      <td>NaN</td>\n",
              "      <td>NaN</td>\n",
              "      <td>0</td>\n",
              "      <td>1.1</td>\n",
              "      <td>http://www.utm.rnu.tn/visirech/Fr/utm/annuaire...</td>\n",
              "      <td>2023-07-28 18:32:51</td>\n",
              "    </tr>\n",
              "    <tr>\n",
              "      <th>314210</th>\n",
              "      <td>http://www.utm.rnu.tn/visirech/Fr/utm/annuaire...</td>\n",
              "      <td>html</td>\n",
              "      <td>200</td>\n",
              "      <td>OK</td>\n",
              "      <td>Indexable</td>\n",
              "      <td>NaN</td>\n",
              "      <td>VISIRECH</td>\n",
              "      <td>8</td>\n",
              "      <td>85</td>\n",
              "      <td>Plateforme de la recherche scientifique de l'U...</td>\n",
              "      <td>...</td>\n",
              "      <td>NaN</td>\n",
              "      <td>1</td>\n",
              "      <td>NaN</td>\n",
              "      <td>NaN</td>\n",
              "      <td>NaN</td>\n",
              "      <td>NaN</td>\n",
              "      <td>0</td>\n",
              "      <td>1.1</td>\n",
              "      <td>http://www.utm.rnu.tn/visirech/Fr/utm/annuaire...</td>\n",
              "      <td>2023-07-28 18:32:51</td>\n",
              "    </tr>\n",
              "  </tbody>\n",
              "</table>\n",
              "<p>2 rows × 43 columns</p>\n",
              "</div>\n",
              "    <div class=\"colab-df-buttons\">\n",
              "\n",
              "  <div class=\"colab-df-container\">\n",
              "    <button class=\"colab-df-convert\" onclick=\"convertToInteractive('df-7f86197e-09e6-402f-ad84-710da57f326e')\"\n",
              "            title=\"Convert this dataframe to an interactive table.\"\n",
              "            style=\"display:none;\">\n",
              "\n",
              "  <svg xmlns=\"http://www.w3.org/2000/svg\" height=\"24px\" viewBox=\"0 -960 960 960\">\n",
              "    <path d=\"M120-120v-720h720v720H120Zm60-500h600v-160H180v160Zm220 220h160v-160H400v160Zm0 220h160v-160H400v160ZM180-400h160v-160H180v160Zm440 0h160v-160H620v160ZM180-180h160v-160H180v160Zm440 0h160v-160H620v160Z\"/>\n",
              "  </svg>\n",
              "    </button>\n",
              "\n",
              "  <style>\n",
              "    .colab-df-container {\n",
              "      display:flex;\n",
              "      gap: 12px;\n",
              "    }\n",
              "\n",
              "    .colab-df-convert {\n",
              "      background-color: #E8F0FE;\n",
              "      border: none;\n",
              "      border-radius: 50%;\n",
              "      cursor: pointer;\n",
              "      display: none;\n",
              "      fill: #1967D2;\n",
              "      height: 32px;\n",
              "      padding: 0 0 0 0;\n",
              "      width: 32px;\n",
              "    }\n",
              "\n",
              "    .colab-df-convert:hover {\n",
              "      background-color: #E2EBFA;\n",
              "      box-shadow: 0px 1px 2px rgba(60, 64, 67, 0.3), 0px 1px 3px 1px rgba(60, 64, 67, 0.15);\n",
              "      fill: #174EA6;\n",
              "    }\n",
              "\n",
              "    .colab-df-buttons div {\n",
              "      margin-bottom: 4px;\n",
              "    }\n",
              "\n",
              "    [theme=dark] .colab-df-convert {\n",
              "      background-color: #3B4455;\n",
              "      fill: #D2E3FC;\n",
              "    }\n",
              "\n",
              "    [theme=dark] .colab-df-convert:hover {\n",
              "      background-color: #434B5C;\n",
              "      box-shadow: 0px 1px 3px 1px rgba(0, 0, 0, 0.15);\n",
              "      filter: drop-shadow(0px 1px 2px rgba(0, 0, 0, 0.3));\n",
              "      fill: #FFFFFF;\n",
              "    }\n",
              "  </style>\n",
              "\n",
              "    <script>\n",
              "      const buttonEl =\n",
              "        document.querySelector('#df-7f86197e-09e6-402f-ad84-710da57f326e button.colab-df-convert');\n",
              "      buttonEl.style.display =\n",
              "        google.colab.kernel.accessAllowed ? 'block' : 'none';\n",
              "\n",
              "      async function convertToInteractive(key) {\n",
              "        const element = document.querySelector('#df-7f86197e-09e6-402f-ad84-710da57f326e');\n",
              "        const dataTable =\n",
              "          await google.colab.kernel.invokeFunction('convertToInteractive',\n",
              "                                                    [key], {});\n",
              "        if (!dataTable) return;\n",
              "\n",
              "        const docLinkHtml = 'Like what you see? Visit the ' +\n",
              "          '<a target=\"_blank\" href=https://colab.research.google.com/notebooks/data_table.ipynb>data table notebook</a>'\n",
              "          + ' to learn more about interactive tables.';\n",
              "        element.innerHTML = '';\n",
              "        dataTable['output_type'] = 'display_data';\n",
              "        await google.colab.output.renderOutput(dataTable, element);\n",
              "        const docLink = document.createElement('div');\n",
              "        docLink.innerHTML = docLinkHtml;\n",
              "        element.appendChild(docLink);\n",
              "      }\n",
              "    </script>\n",
              "  </div>\n",
              "\n",
              "    </div>\n",
              "  </div>\n"
            ]
          },
          "metadata": {},
          "execution_count": 61
        }
      ]
    },
    {
      "cell_type": "code",
      "source": [
        "df['Crawl Depth'].min()"
      ],
      "metadata": {
        "id": "w1ZLedNrChcL",
        "colab": {
          "base_uri": "https://localhost:8080/"
        },
        "outputId": "46fc651b-b6bc-4e1f-80f9-70a9025b05bb"
      },
      "execution_count": null,
      "outputs": [
        {
          "output_type": "execute_result",
          "data": {
            "text/plain": [
              "0.0"
            ]
          },
          "metadata": {},
          "execution_count": 62
        }
      ]
    },
    {
      "cell_type": "code",
      "source": [
        "df[df['Crawl Depth']==0].Address.head()"
      ],
      "metadata": {
        "id": "_Qx_dEkyCmQg",
        "colab": {
          "base_uri": "https://localhost:8080/"
        },
        "outputId": "bf3a3b14-3474-4625-fb86-6e41d8520880"
      },
      "execution_count": null,
      "outputs": [
        {
          "output_type": "execute_result",
          "data": {
            "text/plain": [
              "29275           http://mastere.utm.rnu.tn/\n",
              "30792             https://www.apia.com.tn/\n",
              "41641         https://www.social.gov.tn/fr\n",
              "63118            https://www.oc.com.tn/fr/\n",
              "74145    http://www.sport.tn/index.php/ar/\n",
              "Name: Address, dtype: object"
            ]
          },
          "metadata": {},
          "execution_count": 63
        }
      ]
    },
    {
      "cell_type": "markdown",
      "source": [
        "I don't know if we should remove rows with Crawl Depth = 0 because they lead to the homepage where it dosent necessarily contain relevant infos such as procedures, articles..."
      ],
      "metadata": {
        "id": "LwT2SNhmDqyS"
      }
    },
    {
      "cell_type": "markdown",
      "source": [
        "# Status column"
      ],
      "metadata": {
        "id": "AhakJDV9Gz9u"
      }
    },
    {
      "cell_type": "code",
      "source": [
        "df['Status'].value_counts()"
      ],
      "metadata": {
        "id": "1hCursi8HEWS",
        "colab": {
          "base_uri": "https://localhost:8080/"
        },
        "outputId": "fd90e452-dd98-4f6c-ee0d-6ecf4e579397"
      },
      "execution_count": null,
      "outputs": [
        {
          "output_type": "execute_result",
          "data": {
            "text/plain": [
              "OK                                  1095089\n",
              "Connexion refusée                       221\n",
              "200                                     197\n",
              "Expiration du délai de connexion        104\n",
              "Name: Status, dtype: int64"
            ]
          },
          "metadata": {},
          "execution_count": 64
        }
      ]
    },
    {
      "cell_type": "markdown",
      "source": [
        "After all the filtering we did above, now we only have rows with status OK and 200 so we don't need it for other filterings."
      ],
      "metadata": {
        "id": "c420UV2ZKZc7"
      }
    },
    {
      "cell_type": "markdown",
      "source": [
        "# Indexability and Indexability Status columns"
      ],
      "metadata": {
        "id": "O5kox_t_LDjB"
      }
    },
    {
      "cell_type": "code",
      "source": [
        "df['Indexability'].value_counts()"
      ],
      "metadata": {
        "id": "yjvrkDvVLgaq",
        "colab": {
          "base_uri": "https://localhost:8080/"
        },
        "outputId": "fecfe2d0-0b7c-4f49-a7b4-38e8c268cdd4"
      },
      "execution_count": null,
      "outputs": [
        {
          "output_type": "execute_result",
          "data": {
            "text/plain": [
              "Indexable        973280\n",
              "Non-Indexable    122335\n",
              "Name: Indexability, dtype: int64"
            ]
          },
          "metadata": {},
          "execution_count": 65
        }
      ]
    },
    {
      "cell_type": "code",
      "source": [
        "df[['Indexability','Indexability Status']].value_counts()"
      ],
      "metadata": {
        "id": "tCUQ0CV2LCy7",
        "colab": {
          "base_uri": "https://localhost:8080/"
        },
        "outputId": "10296eaf-ca35-4021-f654-c5cbf22da101"
      },
      "execution_count": null,
      "outputs": [
        {
          "output_type": "execute_result",
          "data": {
            "text/plain": [
              "Indexability   Indexability Status   \n",
              "Non-Indexable  Canonicalised             116117\n",
              "               noindex                     5981\n",
              "               Canonicalised,noindex        144\n",
              "               Max Page Size Exceeded        51\n",
              "               Redirected                    42\n",
              "dtype: int64"
            ]
          },
          "metadata": {},
          "execution_count": 66
        }
      ]
    },
    {
      "cell_type": "markdown",
      "source": [
        "We notice that Indexability Status is filled only when Indexability = Non-Indexable so we're going to focus on that column.\n",
        "After some research we found out that The canonical version is considered the original or primary page, and it is the one that search engines are more likely to show in search results."
      ],
      "metadata": {
        "id": "pWe2LyMELsVy"
      }
    },
    {
      "cell_type": "code",
      "source": [
        "df[ df['Indexability Status']=='noindex'].head()"
      ],
      "metadata": {
        "id": "ybgVNtFePlHW",
        "colab": {
          "base_uri": "https://localhost:8080/",
          "height": 585
        },
        "outputId": "3c17276f-fdef-4efd-e37a-033c9be50831"
      },
      "execution_count": null,
      "outputs": [
        {
          "output_type": "execute_result",
          "data": {
            "text/plain": [
              "                                               Address Content Type  \\\n",
              "31   http://www.sport.tn/index.php/ar/1/1140-الاطلا...         html   \n",
              "111  http://www.health.gov.tn/fr/toutes-les-actuali...         html   \n",
              "361  http://www.sport.tn/index.php/ar/component/con...         html   \n",
              "762  http://www.sport.tn/index.php/ar/component/con...         html   \n",
              "796  http://www.sport.tn/index.php/ar/أخبار-رئيسية/...         html   \n",
              "\n",
              "     Status Code Status   Indexability Indexability Status  \\\n",
              "31           200     OK  Non-Indexable             noindex   \n",
              "111          200     OK  Non-Indexable             noindex   \n",
              "361          200     OK  Non-Indexable             noindex   \n",
              "762          200     OK  Non-Indexable             noindex   \n",
              "796          200     OK  Non-Indexable             noindex   \n",
              "\n",
              "                                               Title 1  Title 1 Length  \\\n",
              "31   الاطلاع على ظروف المعهد العالي للرياضة والتربي...              63   \n",
              "111  Concours sur épreuves pour la nomination au gr...             150   \n",
              "361                              وزارة الشباب والرياضة              21   \n",
              "762                              وزارة الشباب والرياضة              21   \n",
              "796  الاطلاع على واقع الفضاءات الرياضية بالمدارس ال...              66   \n",
              "\n",
              "     Title 1 Pixel Width Meta Description 1  ...  Redirect Type  Cookies  \\\n",
              "31                   522                NaN  ...            NaN        2   \n",
              "111                 1357                NaN  ...            NaN        2   \n",
              "361                  181                NaN  ...            NaN        2   \n",
              "762                  181                NaN  ...            NaN        2   \n",
              "796                  562                NaN  ...            NaN        2   \n",
              "\n",
              "    PDF Subject  PDF Author PDF Created  PDF Modified PDF Page Count  \\\n",
              "31          NaN         NaN         NaN           NaN              0   \n",
              "111         NaN         NaN         NaN           NaN              0   \n",
              "361         NaN         NaN         NaN           NaN              0   \n",
              "762         NaN         NaN         NaN           NaN              0   \n",
              "796         NaN         NaN         NaN           NaN              0   \n",
              "\n",
              "     HTTP Version                                URL Encoded Address  \\\n",
              "31            1.1  http://www.sport.tn/index.php/ar/1/1140-%D8%A7...   \n",
              "111           1.1  http://www.health.gov.tn/fr/toutes-les-actuali...   \n",
              "361           1.1  http://www.sport.tn/index.php/ar/component/con...   \n",
              "762           1.1  http://www.sport.tn/index.php/ar/component/con...   \n",
              "796           1.1  http://www.sport.tn/index.php/ar/%D8%A3%D8%AE%...   \n",
              "\n",
              "         Crawl Timestamp  \n",
              "31   2023-07-27 18:51:03  \n",
              "111  2023-07-25 21:14:35  \n",
              "361  2023-07-23 19:15:39  \n",
              "762  2023-07-23 19:16:09  \n",
              "796  2023-07-28 17:22:50  \n",
              "\n",
              "[5 rows x 43 columns]"
            ],
            "text/html": [
              "\n",
              "  <div id=\"df-b99b3531-58b4-4784-a855-3d4a9a51e768\" class=\"colab-df-container\">\n",
              "    <div>\n",
              "<style scoped>\n",
              "    .dataframe tbody tr th:only-of-type {\n",
              "        vertical-align: middle;\n",
              "    }\n",
              "\n",
              "    .dataframe tbody tr th {\n",
              "        vertical-align: top;\n",
              "    }\n",
              "\n",
              "    .dataframe thead th {\n",
              "        text-align: right;\n",
              "    }\n",
              "</style>\n",
              "<table border=\"1\" class=\"dataframe\">\n",
              "  <thead>\n",
              "    <tr style=\"text-align: right;\">\n",
              "      <th></th>\n",
              "      <th>Address</th>\n",
              "      <th>Content Type</th>\n",
              "      <th>Status Code</th>\n",
              "      <th>Status</th>\n",
              "      <th>Indexability</th>\n",
              "      <th>Indexability Status</th>\n",
              "      <th>Title 1</th>\n",
              "      <th>Title 1 Length</th>\n",
              "      <th>Title 1 Pixel Width</th>\n",
              "      <th>Meta Description 1</th>\n",
              "      <th>...</th>\n",
              "      <th>Redirect Type</th>\n",
              "      <th>Cookies</th>\n",
              "      <th>PDF Subject</th>\n",
              "      <th>PDF Author</th>\n",
              "      <th>PDF Created</th>\n",
              "      <th>PDF Modified</th>\n",
              "      <th>PDF Page Count</th>\n",
              "      <th>HTTP Version</th>\n",
              "      <th>URL Encoded Address</th>\n",
              "      <th>Crawl Timestamp</th>\n",
              "    </tr>\n",
              "  </thead>\n",
              "  <tbody>\n",
              "    <tr>\n",
              "      <th>31</th>\n",
              "      <td>http://www.sport.tn/index.php/ar/1/1140-الاطلا...</td>\n",
              "      <td>html</td>\n",
              "      <td>200</td>\n",
              "      <td>OK</td>\n",
              "      <td>Non-Indexable</td>\n",
              "      <td>noindex</td>\n",
              "      <td>الاطلاع على ظروف المعهد العالي للرياضة والتربي...</td>\n",
              "      <td>63</td>\n",
              "      <td>522</td>\n",
              "      <td>NaN</td>\n",
              "      <td>...</td>\n",
              "      <td>NaN</td>\n",
              "      <td>2</td>\n",
              "      <td>NaN</td>\n",
              "      <td>NaN</td>\n",
              "      <td>NaN</td>\n",
              "      <td>NaN</td>\n",
              "      <td>0</td>\n",
              "      <td>1.1</td>\n",
              "      <td>http://www.sport.tn/index.php/ar/1/1140-%D8%A7...</td>\n",
              "      <td>2023-07-27 18:51:03</td>\n",
              "    </tr>\n",
              "    <tr>\n",
              "      <th>111</th>\n",
              "      <td>http://www.health.gov.tn/fr/toutes-les-actuali...</td>\n",
              "      <td>html</td>\n",
              "      <td>200</td>\n",
              "      <td>OK</td>\n",
              "      <td>Non-Indexable</td>\n",
              "      <td>noindex</td>\n",
              "      <td>Concours sur épreuves pour la nomination au gr...</td>\n",
              "      <td>150</td>\n",
              "      <td>1357</td>\n",
              "      <td>NaN</td>\n",
              "      <td>...</td>\n",
              "      <td>NaN</td>\n",
              "      <td>2</td>\n",
              "      <td>NaN</td>\n",
              "      <td>NaN</td>\n",
              "      <td>NaN</td>\n",
              "      <td>NaN</td>\n",
              "      <td>0</td>\n",
              "      <td>1.1</td>\n",
              "      <td>http://www.health.gov.tn/fr/toutes-les-actuali...</td>\n",
              "      <td>2023-07-25 21:14:35</td>\n",
              "    </tr>\n",
              "    <tr>\n",
              "      <th>361</th>\n",
              "      <td>http://www.sport.tn/index.php/ar/component/con...</td>\n",
              "      <td>html</td>\n",
              "      <td>200</td>\n",
              "      <td>OK</td>\n",
              "      <td>Non-Indexable</td>\n",
              "      <td>noindex</td>\n",
              "      <td>وزارة الشباب والرياضة</td>\n",
              "      <td>21</td>\n",
              "      <td>181</td>\n",
              "      <td>NaN</td>\n",
              "      <td>...</td>\n",
              "      <td>NaN</td>\n",
              "      <td>2</td>\n",
              "      <td>NaN</td>\n",
              "      <td>NaN</td>\n",
              "      <td>NaN</td>\n",
              "      <td>NaN</td>\n",
              "      <td>0</td>\n",
              "      <td>1.1</td>\n",
              "      <td>http://www.sport.tn/index.php/ar/component/con...</td>\n",
              "      <td>2023-07-23 19:15:39</td>\n",
              "    </tr>\n",
              "    <tr>\n",
              "      <th>762</th>\n",
              "      <td>http://www.sport.tn/index.php/ar/component/con...</td>\n",
              "      <td>html</td>\n",
              "      <td>200</td>\n",
              "      <td>OK</td>\n",
              "      <td>Non-Indexable</td>\n",
              "      <td>noindex</td>\n",
              "      <td>وزارة الشباب والرياضة</td>\n",
              "      <td>21</td>\n",
              "      <td>181</td>\n",
              "      <td>NaN</td>\n",
              "      <td>...</td>\n",
              "      <td>NaN</td>\n",
              "      <td>2</td>\n",
              "      <td>NaN</td>\n",
              "      <td>NaN</td>\n",
              "      <td>NaN</td>\n",
              "      <td>NaN</td>\n",
              "      <td>0</td>\n",
              "      <td>1.1</td>\n",
              "      <td>http://www.sport.tn/index.php/ar/component/con...</td>\n",
              "      <td>2023-07-23 19:16:09</td>\n",
              "    </tr>\n",
              "    <tr>\n",
              "      <th>796</th>\n",
              "      <td>http://www.sport.tn/index.php/ar/أخبار-رئيسية/...</td>\n",
              "      <td>html</td>\n",
              "      <td>200</td>\n",
              "      <td>OK</td>\n",
              "      <td>Non-Indexable</td>\n",
              "      <td>noindex</td>\n",
              "      <td>الاطلاع على واقع الفضاءات الرياضية بالمدارس ال...</td>\n",
              "      <td>66</td>\n",
              "      <td>562</td>\n",
              "      <td>NaN</td>\n",
              "      <td>...</td>\n",
              "      <td>NaN</td>\n",
              "      <td>2</td>\n",
              "      <td>NaN</td>\n",
              "      <td>NaN</td>\n",
              "      <td>NaN</td>\n",
              "      <td>NaN</td>\n",
              "      <td>0</td>\n",
              "      <td>1.1</td>\n",
              "      <td>http://www.sport.tn/index.php/ar/%D8%A3%D8%AE%...</td>\n",
              "      <td>2023-07-28 17:22:50</td>\n",
              "    </tr>\n",
              "  </tbody>\n",
              "</table>\n",
              "<p>5 rows × 43 columns</p>\n",
              "</div>\n",
              "    <div class=\"colab-df-buttons\">\n",
              "\n",
              "  <div class=\"colab-df-container\">\n",
              "    <button class=\"colab-df-convert\" onclick=\"convertToInteractive('df-b99b3531-58b4-4784-a855-3d4a9a51e768')\"\n",
              "            title=\"Convert this dataframe to an interactive table.\"\n",
              "            style=\"display:none;\">\n",
              "\n",
              "  <svg xmlns=\"http://www.w3.org/2000/svg\" height=\"24px\" viewBox=\"0 -960 960 960\">\n",
              "    <path d=\"M120-120v-720h720v720H120Zm60-500h600v-160H180v160Zm220 220h160v-160H400v160Zm0 220h160v-160H400v160ZM180-400h160v-160H180v160Zm440 0h160v-160H620v160ZM180-180h160v-160H180v160Zm440 0h160v-160H620v160Z\"/>\n",
              "  </svg>\n",
              "    </button>\n",
              "\n",
              "  <style>\n",
              "    .colab-df-container {\n",
              "      display:flex;\n",
              "      gap: 12px;\n",
              "    }\n",
              "\n",
              "    .colab-df-convert {\n",
              "      background-color: #E8F0FE;\n",
              "      border: none;\n",
              "      border-radius: 50%;\n",
              "      cursor: pointer;\n",
              "      display: none;\n",
              "      fill: #1967D2;\n",
              "      height: 32px;\n",
              "      padding: 0 0 0 0;\n",
              "      width: 32px;\n",
              "    }\n",
              "\n",
              "    .colab-df-convert:hover {\n",
              "      background-color: #E2EBFA;\n",
              "      box-shadow: 0px 1px 2px rgba(60, 64, 67, 0.3), 0px 1px 3px 1px rgba(60, 64, 67, 0.15);\n",
              "      fill: #174EA6;\n",
              "    }\n",
              "\n",
              "    .colab-df-buttons div {\n",
              "      margin-bottom: 4px;\n",
              "    }\n",
              "\n",
              "    [theme=dark] .colab-df-convert {\n",
              "      background-color: #3B4455;\n",
              "      fill: #D2E3FC;\n",
              "    }\n",
              "\n",
              "    [theme=dark] .colab-df-convert:hover {\n",
              "      background-color: #434B5C;\n",
              "      box-shadow: 0px 1px 3px 1px rgba(0, 0, 0, 0.15);\n",
              "      filter: drop-shadow(0px 1px 2px rgba(0, 0, 0, 0.3));\n",
              "      fill: #FFFFFF;\n",
              "    }\n",
              "  </style>\n",
              "\n",
              "    <script>\n",
              "      const buttonEl =\n",
              "        document.querySelector('#df-b99b3531-58b4-4784-a855-3d4a9a51e768 button.colab-df-convert');\n",
              "      buttonEl.style.display =\n",
              "        google.colab.kernel.accessAllowed ? 'block' : 'none';\n",
              "\n",
              "      async function convertToInteractive(key) {\n",
              "        const element = document.querySelector('#df-b99b3531-58b4-4784-a855-3d4a9a51e768');\n",
              "        const dataTable =\n",
              "          await google.colab.kernel.invokeFunction('convertToInteractive',\n",
              "                                                    [key], {});\n",
              "        if (!dataTable) return;\n",
              "\n",
              "        const docLinkHtml = 'Like what you see? Visit the ' +\n",
              "          '<a target=\"_blank\" href=https://colab.research.google.com/notebooks/data_table.ipynb>data table notebook</a>'\n",
              "          + ' to learn more about interactive tables.';\n",
              "        element.innerHTML = '';\n",
              "        dataTable['output_type'] = 'display_data';\n",
              "        await google.colab.output.renderOutput(dataTable, element);\n",
              "        const docLink = document.createElement('div');\n",
              "        docLink.innerHTML = docLinkHtml;\n",
              "        element.appendChild(docLink);\n",
              "      }\n",
              "    </script>\n",
              "  </div>\n",
              "\n",
              "\n",
              "<div id=\"df-8580750f-c3ae-4d4a-8fe2-585344e08e9d\">\n",
              "  <button class=\"colab-df-quickchart\" onclick=\"quickchart('df-8580750f-c3ae-4d4a-8fe2-585344e08e9d')\"\n",
              "            title=\"Suggest charts.\"\n",
              "            style=\"display:none;\">\n",
              "\n",
              "<svg xmlns=\"http://www.w3.org/2000/svg\" height=\"24px\"viewBox=\"0 0 24 24\"\n",
              "     width=\"24px\">\n",
              "    <g>\n",
              "        <path d=\"M19 3H5c-1.1 0-2 .9-2 2v14c0 1.1.9 2 2 2h14c1.1 0 2-.9 2-2V5c0-1.1-.9-2-2-2zM9 17H7v-7h2v7zm4 0h-2V7h2v10zm4 0h-2v-4h2v4z\"/>\n",
              "    </g>\n",
              "</svg>\n",
              "  </button>\n",
              "\n",
              "<style>\n",
              "  .colab-df-quickchart {\n",
              "    background-color: #E8F0FE;\n",
              "    border: none;\n",
              "    border-radius: 50%;\n",
              "    cursor: pointer;\n",
              "    display: none;\n",
              "    fill: #1967D2;\n",
              "    height: 32px;\n",
              "    padding: 0 0 0 0;\n",
              "    width: 32px;\n",
              "  }\n",
              "\n",
              "  .colab-df-quickchart:hover {\n",
              "    background-color: #E2EBFA;\n",
              "    box-shadow: 0px 1px 2px rgba(60, 64, 67, 0.3), 0px 1px 3px 1px rgba(60, 64, 67, 0.15);\n",
              "    fill: #174EA6;\n",
              "  }\n",
              "\n",
              "  [theme=dark] .colab-df-quickchart {\n",
              "    background-color: #3B4455;\n",
              "    fill: #D2E3FC;\n",
              "  }\n",
              "\n",
              "  [theme=dark] .colab-df-quickchart:hover {\n",
              "    background-color: #434B5C;\n",
              "    box-shadow: 0px 1px 3px 1px rgba(0, 0, 0, 0.15);\n",
              "    filter: drop-shadow(0px 1px 2px rgba(0, 0, 0, 0.3));\n",
              "    fill: #FFFFFF;\n",
              "  }\n",
              "</style>\n",
              "\n",
              "  <script>\n",
              "    async function quickchart(key) {\n",
              "      const charts = await google.colab.kernel.invokeFunction(\n",
              "          'suggestCharts', [key], {});\n",
              "    }\n",
              "    (() => {\n",
              "      let quickchartButtonEl =\n",
              "        document.querySelector('#df-8580750f-c3ae-4d4a-8fe2-585344e08e9d button');\n",
              "      quickchartButtonEl.style.display =\n",
              "        google.colab.kernel.accessAllowed ? 'block' : 'none';\n",
              "    })();\n",
              "  </script>\n",
              "</div>\n",
              "    </div>\n",
              "  </div>\n"
            ]
          },
          "metadata": {},
          "execution_count": 67
        }
      ]
    },
    {
      "cell_type": "markdown",
      "source": [
        "When checking data with Indexability Status=noindex we notice that most of it have noindex,nofollow in Meta Robots 1 column, most of it contain data from the health government website so we must check these two patterns."
      ],
      "metadata": {
        "id": "ZFTK0hznT7aC"
      }
    },
    {
      "cell_type": "markdown",
      "source": [
        "## Meta Robots 1 column"
      ],
      "metadata": {
        "id": "h6xbIS2nUfqL"
      }
    },
    {
      "cell_type": "code",
      "source": [
        "df.columns"
      ],
      "metadata": {
        "id": "rbZkuM6zUeEE",
        "colab": {
          "base_uri": "https://localhost:8080/"
        },
        "outputId": "b2cc5e6f-6137-4b7f-e458-bc6998ee0e5e"
      },
      "execution_count": null,
      "outputs": [
        {
          "output_type": "execute_result",
          "data": {
            "text/plain": [
              "Index(['Address', 'Content Type', 'Status Code', 'Status', 'Indexability',\n",
              "       'Indexability Status', 'Title 1', 'Title 1 Length',\n",
              "       'Title 1 Pixel Width', 'Meta Description 1',\n",
              "       'Meta Description 1 Length', 'Meta Description 1 Pixel Width',\n",
              "       'Meta Keywords 1', 'Meta Keywords 1 Length', 'H1-1', 'H1-1 Length',\n",
              "       'H2-1', 'H2-1 Length', 'Meta Robots 1', 'X-Robots-Tag 1',\n",
              "       'Meta Refresh 1', 'Size (bytes)', 'Word Count', 'Sentence Count',\n",
              "       'Average Words Per Sentence', 'Flesch Reading Ease Score',\n",
              "       'Readability', 'Text Ratio', 'Crawl Depth', 'Hash', 'Response Time',\n",
              "       'Last Modified', 'Redirect URL', 'Redirect Type', 'Cookies',\n",
              "       'PDF Subject', 'PDF Author', 'PDF Created', 'PDF Modified',\n",
              "       'PDF Page Count', 'HTTP Version', 'URL Encoded Address',\n",
              "       'Crawl Timestamp'],\n",
              "      dtype='object')"
            ]
          },
          "metadata": {},
          "execution_count": 68
        }
      ]
    },
    {
      "cell_type": "code",
      "source": [
        "df['Meta Robots 1'].value_counts()"
      ],
      "metadata": {
        "id": "xwoywkrlVKj6",
        "colab": {
          "base_uri": "https://localhost:8080/"
        },
        "outputId": "cf704104-0af8-4bad-cccb-481e57c24bc1"
      },
      "execution_count": null,
      "outputs": [
        {
          "output_type": "execute_result",
          "data": {
            "text/plain": [
              "index,follow                                                                    77497\n",
              "max-image-preview:large                                                          7283\n",
              "noindex, nofollow                                                                5540\n",
              "all                                                                              2316\n",
              "index, follow                                                                    1096\n",
              "index, follow, max-image-preview:large, max-snippet:-1, max-video-preview:-1      526\n",
              "noodp,noydir                                                                      511\n",
              "index, follow, max-snippet:-1, max-video-preview:-1, max-image-preview:large      258\n",
              "noindex,follow                                                                    240\n",
              "noindex,noodp,noydir                                                              126\n",
              "follow, index, max-snippet:-1, max-video-preview:-1, max-image-preview:large       26\n",
              "follow, noindex                                                                    10\n",
              "index                                                                               7\n",
              "noindex                                                                             5\n",
              "noindex, follow                                                                     2\n",
              "All                                                                                 1\n",
              "noindex,noarchive                                                                   1\n",
              "noydir                                                                              1\n",
              "Name: Meta Robots 1, dtype: int64"
            ]
          },
          "metadata": {},
          "execution_count": 69
        }
      ]
    },
    {
      "cell_type": "code",
      "source": [
        "df[df['Meta Robots 1'] == 'noydir']"
      ],
      "metadata": {
        "id": "yIsjrT_9WKDj",
        "colab": {
          "base_uri": "https://localhost:8080/",
          "height": 234
        },
        "outputId": "ce58fcf1-f9d5-4865-e740-881f16194b31"
      },
      "execution_count": null,
      "outputs": [
        {
          "output_type": "execute_result",
          "data": {
            "text/plain": [
              "                                                   Address Content Type  \\\n",
              "1108519  https://www.amideast.org/yemen/find-a-scholars...         html   \n",
              "\n",
              "         Status Code Status Indexability Indexability Status  \\\n",
              "1108519          200     OK    Indexable                 NaN   \n",
              "\n",
              "                                                  Title 1  Title 1 Length  \\\n",
              "1108519  [Undergraduate Scholarships] | [AMIDEAST][Yemen]              48   \n",
              "\n",
              "         Title 1 Pixel Width Meta Description 1  ...  Redirect Type  Cookies  \\\n",
              "1108519                  456                NaN  ...            NaN        0   \n",
              "\n",
              "        PDF Subject  PDF Author PDF Created  PDF Modified PDF Page Count  \\\n",
              "1108519         NaN         NaN         NaN           NaN              0   \n",
              "\n",
              "         HTTP Version                                URL Encoded Address  \\\n",
              "1108519           1.1  https://www.amideast.org/yemen/find-a-scholars...   \n",
              "\n",
              "             Crawl Timestamp  \n",
              "1108519  2023-07-22 20:00:59  \n",
              "\n",
              "[1 rows x 43 columns]"
            ],
            "text/html": [
              "\n",
              "  <div id=\"df-db316e99-c45a-4807-9f43-2db6740d169b\" class=\"colab-df-container\">\n",
              "    <div>\n",
              "<style scoped>\n",
              "    .dataframe tbody tr th:only-of-type {\n",
              "        vertical-align: middle;\n",
              "    }\n",
              "\n",
              "    .dataframe tbody tr th {\n",
              "        vertical-align: top;\n",
              "    }\n",
              "\n",
              "    .dataframe thead th {\n",
              "        text-align: right;\n",
              "    }\n",
              "</style>\n",
              "<table border=\"1\" class=\"dataframe\">\n",
              "  <thead>\n",
              "    <tr style=\"text-align: right;\">\n",
              "      <th></th>\n",
              "      <th>Address</th>\n",
              "      <th>Content Type</th>\n",
              "      <th>Status Code</th>\n",
              "      <th>Status</th>\n",
              "      <th>Indexability</th>\n",
              "      <th>Indexability Status</th>\n",
              "      <th>Title 1</th>\n",
              "      <th>Title 1 Length</th>\n",
              "      <th>Title 1 Pixel Width</th>\n",
              "      <th>Meta Description 1</th>\n",
              "      <th>...</th>\n",
              "      <th>Redirect Type</th>\n",
              "      <th>Cookies</th>\n",
              "      <th>PDF Subject</th>\n",
              "      <th>PDF Author</th>\n",
              "      <th>PDF Created</th>\n",
              "      <th>PDF Modified</th>\n",
              "      <th>PDF Page Count</th>\n",
              "      <th>HTTP Version</th>\n",
              "      <th>URL Encoded Address</th>\n",
              "      <th>Crawl Timestamp</th>\n",
              "    </tr>\n",
              "  </thead>\n",
              "  <tbody>\n",
              "    <tr>\n",
              "      <th>1108519</th>\n",
              "      <td>https://www.amideast.org/yemen/find-a-scholars...</td>\n",
              "      <td>html</td>\n",
              "      <td>200</td>\n",
              "      <td>OK</td>\n",
              "      <td>Indexable</td>\n",
              "      <td>NaN</td>\n",
              "      <td>[Undergraduate Scholarships] | [AMIDEAST][Yemen]</td>\n",
              "      <td>48</td>\n",
              "      <td>456</td>\n",
              "      <td>NaN</td>\n",
              "      <td>...</td>\n",
              "      <td>NaN</td>\n",
              "      <td>0</td>\n",
              "      <td>NaN</td>\n",
              "      <td>NaN</td>\n",
              "      <td>NaN</td>\n",
              "      <td>NaN</td>\n",
              "      <td>0</td>\n",
              "      <td>1.1</td>\n",
              "      <td>https://www.amideast.org/yemen/find-a-scholars...</td>\n",
              "      <td>2023-07-22 20:00:59</td>\n",
              "    </tr>\n",
              "  </tbody>\n",
              "</table>\n",
              "<p>1 rows × 43 columns</p>\n",
              "</div>\n",
              "    <div class=\"colab-df-buttons\">\n",
              "\n",
              "  <div class=\"colab-df-container\">\n",
              "    <button class=\"colab-df-convert\" onclick=\"convertToInteractive('df-db316e99-c45a-4807-9f43-2db6740d169b')\"\n",
              "            title=\"Convert this dataframe to an interactive table.\"\n",
              "            style=\"display:none;\">\n",
              "\n",
              "  <svg xmlns=\"http://www.w3.org/2000/svg\" height=\"24px\" viewBox=\"0 -960 960 960\">\n",
              "    <path d=\"M120-120v-720h720v720H120Zm60-500h600v-160H180v160Zm220 220h160v-160H400v160Zm0 220h160v-160H400v160ZM180-400h160v-160H180v160Zm440 0h160v-160H620v160ZM180-180h160v-160H180v160Zm440 0h160v-160H620v160Z\"/>\n",
              "  </svg>\n",
              "    </button>\n",
              "\n",
              "  <style>\n",
              "    .colab-df-container {\n",
              "      display:flex;\n",
              "      gap: 12px;\n",
              "    }\n",
              "\n",
              "    .colab-df-convert {\n",
              "      background-color: #E8F0FE;\n",
              "      border: none;\n",
              "      border-radius: 50%;\n",
              "      cursor: pointer;\n",
              "      display: none;\n",
              "      fill: #1967D2;\n",
              "      height: 32px;\n",
              "      padding: 0 0 0 0;\n",
              "      width: 32px;\n",
              "    }\n",
              "\n",
              "    .colab-df-convert:hover {\n",
              "      background-color: #E2EBFA;\n",
              "      box-shadow: 0px 1px 2px rgba(60, 64, 67, 0.3), 0px 1px 3px 1px rgba(60, 64, 67, 0.15);\n",
              "      fill: #174EA6;\n",
              "    }\n",
              "\n",
              "    .colab-df-buttons div {\n",
              "      margin-bottom: 4px;\n",
              "    }\n",
              "\n",
              "    [theme=dark] .colab-df-convert {\n",
              "      background-color: #3B4455;\n",
              "      fill: #D2E3FC;\n",
              "    }\n",
              "\n",
              "    [theme=dark] .colab-df-convert:hover {\n",
              "      background-color: #434B5C;\n",
              "      box-shadow: 0px 1px 3px 1px rgba(0, 0, 0, 0.15);\n",
              "      filter: drop-shadow(0px 1px 2px rgba(0, 0, 0, 0.3));\n",
              "      fill: #FFFFFF;\n",
              "    }\n",
              "  </style>\n",
              "\n",
              "    <script>\n",
              "      const buttonEl =\n",
              "        document.querySelector('#df-db316e99-c45a-4807-9f43-2db6740d169b button.colab-df-convert');\n",
              "      buttonEl.style.display =\n",
              "        google.colab.kernel.accessAllowed ? 'block' : 'none';\n",
              "\n",
              "      async function convertToInteractive(key) {\n",
              "        const element = document.querySelector('#df-db316e99-c45a-4807-9f43-2db6740d169b');\n",
              "        const dataTable =\n",
              "          await google.colab.kernel.invokeFunction('convertToInteractive',\n",
              "                                                    [key], {});\n",
              "        if (!dataTable) return;\n",
              "\n",
              "        const docLinkHtml = 'Like what you see? Visit the ' +\n",
              "          '<a target=\"_blank\" href=https://colab.research.google.com/notebooks/data_table.ipynb>data table notebook</a>'\n",
              "          + ' to learn more about interactive tables.';\n",
              "        element.innerHTML = '';\n",
              "        dataTable['output_type'] = 'display_data';\n",
              "        await google.colab.output.renderOutput(dataTable, element);\n",
              "        const docLink = document.createElement('div');\n",
              "        docLink.innerHTML = docLinkHtml;\n",
              "        element.appendChild(docLink);\n",
              "      }\n",
              "    </script>\n",
              "  </div>\n",
              "\n",
              "    </div>\n",
              "  </div>\n"
            ]
          },
          "metadata": {},
          "execution_count": 70
        }
      ]
    },
    {
      "cell_type": "code",
      "source": [
        "df[df['Address'].str.contains('yemen', case=False)].shape"
      ],
      "metadata": {
        "id": "rZ9AttlgXuuo",
        "colab": {
          "base_uri": "https://localhost:8080/"
        },
        "outputId": "8bb0cc2b-05b0-465e-c45a-d126ff173ff0"
      },
      "execution_count": null,
      "outputs": [
        {
          "output_type": "execute_result",
          "data": {
            "text/plain": [
              "(119, 43)"
            ]
          },
          "metadata": {},
          "execution_count": 71
        }
      ]
    },
    {
      "cell_type": "markdown",
      "source": [
        "*Amideast addresses*"
      ],
      "metadata": {
        "id": "S-ASx3kVhUsA"
      }
    },
    {
      "cell_type": "code",
      "source": [
        "amideast_adr = df[df['Address'].str.contains('amideast', case=False)]\n",
        "amideast_adr.shape"
      ],
      "metadata": {
        "id": "dR8feseoZy3t",
        "colab": {
          "base_uri": "https://localhost:8080/"
        },
        "outputId": "75ebb7b0-2c20-4321-c6ea-41dc1ab355a2"
      },
      "execution_count": null,
      "outputs": [
        {
          "output_type": "execute_result",
          "data": {
            "text/plain": [
              "(2263, 43)"
            ]
          },
          "metadata": {},
          "execution_count": 72
        }
      ]
    },
    {
      "cell_type": "code",
      "source": [
        "amideast_adr[~amideast_adr['Address'].str.contains('tunisia')].shape"
      ],
      "metadata": {
        "id": "_hO8ByLEajX1",
        "colab": {
          "base_uri": "https://localhost:8080/"
        },
        "outputId": "65543f39-86b5-4c43-97a3-d362074368d4"
      },
      "execution_count": null,
      "outputs": [
        {
          "output_type": "execute_result",
          "data": {
            "text/plain": [
              "(2140, 43)"
            ]
          },
          "metadata": {},
          "execution_count": 73
        }
      ]
    },
    {
      "cell_type": "markdown",
      "source": [
        "When observing the address that corresponds to the value 'noydir' of the Meta Robots 1 column, we can see that it's linked to amideast of yemen. After that I searched for every address that contains yemen in it, they are around 120.\n",
        "Then for addresses that don't contain tunisia, I found that out of 2278 amideast link there are 2150 that aren't for tunisian students. These addresses should be removed."
      ],
      "metadata": {
        "id": "Nd6BfkzEYJiC"
      }
    },
    {
      "cell_type": "code",
      "source": [
        "# Remove links of other countries\n",
        "df = df[~(df['Address'].str.contains('amideast', case=False) & ~df['Address'].str.contains('tunisia', case=False))]"
      ],
      "metadata": {
        "id": "C69LPpaGdN-k"
      },
      "execution_count": null,
      "outputs": []
    },
    {
      "cell_type": "code",
      "source": [
        "df.shape"
      ],
      "metadata": {
        "id": "3Nr3OLxJVKt_",
        "colab": {
          "base_uri": "https://localhost:8080/"
        },
        "outputId": "9b15f79d-1f39-4e4e-da39-96b0b9a0ba88"
      },
      "execution_count": null,
      "outputs": [
        {
          "output_type": "execute_result",
          "data": {
            "text/plain": [
              "(1093477, 43)"
            ]
          },
          "metadata": {},
          "execution_count": 75
        }
      ]
    },
    {
      "cell_type": "markdown",
      "source": [
        "*Back to Meta Robots 1*"
      ],
      "metadata": {
        "id": "244Q-GWDhjvI"
      }
    },
    {
      "cell_type": "code",
      "source": [
        "df['Meta Robots 1'].value_counts()"
      ],
      "metadata": {
        "id": "x1kcrIdLhrFG",
        "colab": {
          "base_uri": "https://localhost:8080/"
        },
        "outputId": "ee5ae99f-9046-4192-dad6-5848197254d2"
      },
      "execution_count": null,
      "outputs": [
        {
          "output_type": "execute_result",
          "data": {
            "text/plain": [
              "index,follow                                                                    77497\n",
              "max-image-preview:large                                                          7283\n",
              "noindex, nofollow                                                                5540\n",
              "all                                                                              2316\n",
              "index, follow                                                                    1096\n",
              "index, follow, max-image-preview:large, max-snippet:-1, max-video-preview:-1      526\n",
              "noodp,noydir                                                                      511\n",
              "index, follow, max-snippet:-1, max-video-preview:-1, max-image-preview:large      258\n",
              "noindex,follow                                                                    240\n",
              "noindex,noodp,noydir                                                              126\n",
              "follow, index, max-snippet:-1, max-video-preview:-1, max-image-preview:large       26\n",
              "follow, noindex                                                                    10\n",
              "index                                                                               7\n",
              "noindex                                                                             5\n",
              "noindex, follow                                                                     2\n",
              "All                                                                                 1\n",
              "noindex,noarchive                                                                   1\n",
              "Name: Meta Robots 1, dtype: int64"
            ]
          },
          "metadata": {},
          "execution_count": 76
        }
      ]
    },
    {
      "cell_type": "code",
      "source": [
        "df[df['Meta Robots 1'] == 'All']"
      ],
      "metadata": {
        "id": "Fd2X34G0hyG4",
        "colab": {
          "base_uri": "https://localhost:8080/",
          "height": 286
        },
        "outputId": "e4003c0f-b73d-4469-9d50-3d9753102785"
      },
      "execution_count": null,
      "outputs": [
        {
          "output_type": "execute_result",
          "data": {
            "text/plain": [
              "                         Address Content Type  Status Code Status  \\\n",
              "248130  http://www.ismso.rnu.tn/         html          200     OK   \n",
              "\n",
              "       Indexability Indexability Status  \\\n",
              "248130    Indexable                 NaN   \n",
              "\n",
              "                                                  Title 1  Title 1 Length  \\\n",
              "248130  ...::: Institut supérieur de Musique de Sousse...              53   \n",
              "\n",
              "        Title 1 Pixel Width Meta Description 1  ...  Redirect Type  Cookies  \\\n",
              "248130                  427                NaN  ...            NaN        0   \n",
              "\n",
              "       PDF Subject  PDF Author PDF Created  PDF Modified PDF Page Count  \\\n",
              "248130         NaN         NaN         NaN           NaN              0   \n",
              "\n",
              "        HTTP Version       URL Encoded Address      Crawl Timestamp  \n",
              "248130           1.1  http://www.ismso.rnu.tn/  2023-07-25 19:26:37  \n",
              "\n",
              "[1 rows x 43 columns]"
            ],
            "text/html": [
              "\n",
              "  <div id=\"df-cde6d2b2-7533-4d5a-bc02-806d26f8674c\" class=\"colab-df-container\">\n",
              "    <div>\n",
              "<style scoped>\n",
              "    .dataframe tbody tr th:only-of-type {\n",
              "        vertical-align: middle;\n",
              "    }\n",
              "\n",
              "    .dataframe tbody tr th {\n",
              "        vertical-align: top;\n",
              "    }\n",
              "\n",
              "    .dataframe thead th {\n",
              "        text-align: right;\n",
              "    }\n",
              "</style>\n",
              "<table border=\"1\" class=\"dataframe\">\n",
              "  <thead>\n",
              "    <tr style=\"text-align: right;\">\n",
              "      <th></th>\n",
              "      <th>Address</th>\n",
              "      <th>Content Type</th>\n",
              "      <th>Status Code</th>\n",
              "      <th>Status</th>\n",
              "      <th>Indexability</th>\n",
              "      <th>Indexability Status</th>\n",
              "      <th>Title 1</th>\n",
              "      <th>Title 1 Length</th>\n",
              "      <th>Title 1 Pixel Width</th>\n",
              "      <th>Meta Description 1</th>\n",
              "      <th>...</th>\n",
              "      <th>Redirect Type</th>\n",
              "      <th>Cookies</th>\n",
              "      <th>PDF Subject</th>\n",
              "      <th>PDF Author</th>\n",
              "      <th>PDF Created</th>\n",
              "      <th>PDF Modified</th>\n",
              "      <th>PDF Page Count</th>\n",
              "      <th>HTTP Version</th>\n",
              "      <th>URL Encoded Address</th>\n",
              "      <th>Crawl Timestamp</th>\n",
              "    </tr>\n",
              "  </thead>\n",
              "  <tbody>\n",
              "    <tr>\n",
              "      <th>248130</th>\n",
              "      <td>http://www.ismso.rnu.tn/</td>\n",
              "      <td>html</td>\n",
              "      <td>200</td>\n",
              "      <td>OK</td>\n",
              "      <td>Indexable</td>\n",
              "      <td>NaN</td>\n",
              "      <td>...::: Institut supérieur de Musique de Sousse...</td>\n",
              "      <td>53</td>\n",
              "      <td>427</td>\n",
              "      <td>NaN</td>\n",
              "      <td>...</td>\n",
              "      <td>NaN</td>\n",
              "      <td>0</td>\n",
              "      <td>NaN</td>\n",
              "      <td>NaN</td>\n",
              "      <td>NaN</td>\n",
              "      <td>NaN</td>\n",
              "      <td>0</td>\n",
              "      <td>1.1</td>\n",
              "      <td>http://www.ismso.rnu.tn/</td>\n",
              "      <td>2023-07-25 19:26:37</td>\n",
              "    </tr>\n",
              "  </tbody>\n",
              "</table>\n",
              "<p>1 rows × 43 columns</p>\n",
              "</div>\n",
              "    <div class=\"colab-df-buttons\">\n",
              "\n",
              "  <div class=\"colab-df-container\">\n",
              "    <button class=\"colab-df-convert\" onclick=\"convertToInteractive('df-cde6d2b2-7533-4d5a-bc02-806d26f8674c')\"\n",
              "            title=\"Convert this dataframe to an interactive table.\"\n",
              "            style=\"display:none;\">\n",
              "\n",
              "  <svg xmlns=\"http://www.w3.org/2000/svg\" height=\"24px\" viewBox=\"0 -960 960 960\">\n",
              "    <path d=\"M120-120v-720h720v720H120Zm60-500h600v-160H180v160Zm220 220h160v-160H400v160Zm0 220h160v-160H400v160ZM180-400h160v-160H180v160Zm440 0h160v-160H620v160ZM180-180h160v-160H180v160Zm440 0h160v-160H620v160Z\"/>\n",
              "  </svg>\n",
              "    </button>\n",
              "\n",
              "  <style>\n",
              "    .colab-df-container {\n",
              "      display:flex;\n",
              "      gap: 12px;\n",
              "    }\n",
              "\n",
              "    .colab-df-convert {\n",
              "      background-color: #E8F0FE;\n",
              "      border: none;\n",
              "      border-radius: 50%;\n",
              "      cursor: pointer;\n",
              "      display: none;\n",
              "      fill: #1967D2;\n",
              "      height: 32px;\n",
              "      padding: 0 0 0 0;\n",
              "      width: 32px;\n",
              "    }\n",
              "\n",
              "    .colab-df-convert:hover {\n",
              "      background-color: #E2EBFA;\n",
              "      box-shadow: 0px 1px 2px rgba(60, 64, 67, 0.3), 0px 1px 3px 1px rgba(60, 64, 67, 0.15);\n",
              "      fill: #174EA6;\n",
              "    }\n",
              "\n",
              "    .colab-df-buttons div {\n",
              "      margin-bottom: 4px;\n",
              "    }\n",
              "\n",
              "    [theme=dark] .colab-df-convert {\n",
              "      background-color: #3B4455;\n",
              "      fill: #D2E3FC;\n",
              "    }\n",
              "\n",
              "    [theme=dark] .colab-df-convert:hover {\n",
              "      background-color: #434B5C;\n",
              "      box-shadow: 0px 1px 3px 1px rgba(0, 0, 0, 0.15);\n",
              "      filter: drop-shadow(0px 1px 2px rgba(0, 0, 0, 0.3));\n",
              "      fill: #FFFFFF;\n",
              "    }\n",
              "  </style>\n",
              "\n",
              "    <script>\n",
              "      const buttonEl =\n",
              "        document.querySelector('#df-cde6d2b2-7533-4d5a-bc02-806d26f8674c button.colab-df-convert');\n",
              "      buttonEl.style.display =\n",
              "        google.colab.kernel.accessAllowed ? 'block' : 'none';\n",
              "\n",
              "      async function convertToInteractive(key) {\n",
              "        const element = document.querySelector('#df-cde6d2b2-7533-4d5a-bc02-806d26f8674c');\n",
              "        const dataTable =\n",
              "          await google.colab.kernel.invokeFunction('convertToInteractive',\n",
              "                                                    [key], {});\n",
              "        if (!dataTable) return;\n",
              "\n",
              "        const docLinkHtml = 'Like what you see? Visit the ' +\n",
              "          '<a target=\"_blank\" href=https://colab.research.google.com/notebooks/data_table.ipynb>data table notebook</a>'\n",
              "          + ' to learn more about interactive tables.';\n",
              "        element.innerHTML = '';\n",
              "        dataTable['output_type'] = 'display_data';\n",
              "        await google.colab.output.renderOutput(dataTable, element);\n",
              "        const docLink = document.createElement('div');\n",
              "        docLink.innerHTML = docLinkHtml;\n",
              "        element.appendChild(docLink);\n",
              "      }\n",
              "    </script>\n",
              "  </div>\n",
              "\n",
              "    </div>\n",
              "  </div>\n"
            ]
          },
          "metadata": {},
          "execution_count": 77
        }
      ]
    },
    {
      "cell_type": "code",
      "source": [
        "# Remove the above row\n",
        "df = df[~(df['Meta Robots 1'] == 'All')]"
      ],
      "metadata": {
        "id": "GVRBCobuiIKv"
      },
      "execution_count": null,
      "outputs": []
    },
    {
      "cell_type": "code",
      "source": [
        "df['Meta Robots 1'].value_counts()"
      ],
      "metadata": {
        "id": "UWiy7Gp7irbI",
        "colab": {
          "base_uri": "https://localhost:8080/"
        },
        "outputId": "1a433371-d325-457b-ca48-6ef5ecb7e1fe"
      },
      "execution_count": null,
      "outputs": [
        {
          "output_type": "execute_result",
          "data": {
            "text/plain": [
              "index,follow                                                                    77497\n",
              "max-image-preview:large                                                          7283\n",
              "noindex, nofollow                                                                5540\n",
              "all                                                                              2316\n",
              "index, follow                                                                    1096\n",
              "index, follow, max-image-preview:large, max-snippet:-1, max-video-preview:-1      526\n",
              "noodp,noydir                                                                      511\n",
              "index, follow, max-snippet:-1, max-video-preview:-1, max-image-preview:large      258\n",
              "noindex,follow                                                                    240\n",
              "noindex,noodp,noydir                                                              126\n",
              "follow, index, max-snippet:-1, max-video-preview:-1, max-image-preview:large       26\n",
              "follow, noindex                                                                    10\n",
              "index                                                                               7\n",
              "noindex                                                                             5\n",
              "noindex, follow                                                                     2\n",
              "noindex,noarchive                                                                   1\n",
              "Name: Meta Robots 1, dtype: int64"
            ]
          },
          "metadata": {},
          "execution_count": 79
        }
      ]
    },
    {
      "cell_type": "code",
      "source": [
        "replacement_dict = {\n",
        "    'noindex, nofollow': 'noindex,nofollow',\n",
        "    'NOINDEX, NOFOLLOW': 'noindex,nofollow',\n",
        "    'noindex, follow': 'noindex,follow',\n",
        "    'follow, noindex': 'noindex,follow',\n",
        "    'noindex,noodp,noydir' : 'noindex',\n",
        "    'index, follow, max-snippet:-1, max-video-preview:-1, max-image-preview:large': 'index,follow',\n",
        "    'index, follow, max-image-preview:large, max-snippet:-1, max-video-preview:-1': 'index,follow',\n",
        "    'index, follow': 'index,follow',\n",
        "    'all':'index,follow'\n",
        "    }\n",
        "df['Meta Robots 1'] = df['Meta Robots 1'].replace(replacement_dict)"
      ],
      "metadata": {
        "id": "uabXDgUCjIik"
      },
      "execution_count": null,
      "outputs": []
    },
    {
      "cell_type": "code",
      "source": [
        "df['Meta Robots 1'].value_counts()"
      ],
      "metadata": {
        "id": "MVITUV2YkpC5",
        "colab": {
          "base_uri": "https://localhost:8080/"
        },
        "outputId": "daf99239-44f4-47ff-b27c-fdc422a094ef"
      },
      "execution_count": null,
      "outputs": [
        {
          "output_type": "execute_result",
          "data": {
            "text/plain": [
              "index,follow                                                                    81693\n",
              "max-image-preview:large                                                          7283\n",
              "noindex,nofollow                                                                 5540\n",
              "noodp,noydir                                                                      511\n",
              "noindex,follow                                                                    252\n",
              "noindex                                                                           131\n",
              "follow, index, max-snippet:-1, max-video-preview:-1, max-image-preview:large       26\n",
              "index                                                                               7\n",
              "noindex,noarchive                                                                   1\n",
              "Name: Meta Robots 1, dtype: int64"
            ]
          },
          "metadata": {},
          "execution_count": 81
        }
      ]
    },
    {
      "cell_type": "code",
      "source": [
        "df[df['Meta Robots 1'] == 'noindex,noarchive']"
      ],
      "metadata": {
        "id": "L2Wp8AR9ixKb",
        "colab": {
          "base_uri": "https://localhost:8080/",
          "height": 252
        },
        "outputId": "d68c6600-0901-45ff-a952-38b9ebc1e93d"
      },
      "execution_count": null,
      "outputs": [
        {
          "output_type": "execute_result",
          "data": {
            "text/plain": [
              "                                  Address Content Type  Status Code Status  \\\n",
              "345062  https://www.ugtt.org.tn/pinglink/         html          200     OK   \n",
              "\n",
              "         Indexability Indexability Status                             Title 1  \\\n",
              "345062  Non-Indexable             noindex  الاتحاد العام التونسي للشغل › دخول   \n",
              "\n",
              "        Title 1 Length  Title 1 Pixel Width Meta Description 1  ...  \\\n",
              "345062              34                  283                NaN  ...   \n",
              "\n",
              "        Redirect Type  Cookies PDF Subject  PDF Author PDF Created  \\\n",
              "345062            NaN        1         NaN         NaN         NaN   \n",
              "\n",
              "        PDF Modified PDF Page Count  HTTP Version  \\\n",
              "345062           NaN              0           1.1   \n",
              "\n",
              "                      URL Encoded Address      Crawl Timestamp  \n",
              "345062  https://www.ugtt.org.tn/pinglink/  2023-07-22 18:02:04  \n",
              "\n",
              "[1 rows x 43 columns]"
            ],
            "text/html": [
              "\n",
              "  <div id=\"df-9fb8a1ce-e05f-470c-b2aa-4dd77f6963ee\" class=\"colab-df-container\">\n",
              "    <div>\n",
              "<style scoped>\n",
              "    .dataframe tbody tr th:only-of-type {\n",
              "        vertical-align: middle;\n",
              "    }\n",
              "\n",
              "    .dataframe tbody tr th {\n",
              "        vertical-align: top;\n",
              "    }\n",
              "\n",
              "    .dataframe thead th {\n",
              "        text-align: right;\n",
              "    }\n",
              "</style>\n",
              "<table border=\"1\" class=\"dataframe\">\n",
              "  <thead>\n",
              "    <tr style=\"text-align: right;\">\n",
              "      <th></th>\n",
              "      <th>Address</th>\n",
              "      <th>Content Type</th>\n",
              "      <th>Status Code</th>\n",
              "      <th>Status</th>\n",
              "      <th>Indexability</th>\n",
              "      <th>Indexability Status</th>\n",
              "      <th>Title 1</th>\n",
              "      <th>Title 1 Length</th>\n",
              "      <th>Title 1 Pixel Width</th>\n",
              "      <th>Meta Description 1</th>\n",
              "      <th>...</th>\n",
              "      <th>Redirect Type</th>\n",
              "      <th>Cookies</th>\n",
              "      <th>PDF Subject</th>\n",
              "      <th>PDF Author</th>\n",
              "      <th>PDF Created</th>\n",
              "      <th>PDF Modified</th>\n",
              "      <th>PDF Page Count</th>\n",
              "      <th>HTTP Version</th>\n",
              "      <th>URL Encoded Address</th>\n",
              "      <th>Crawl Timestamp</th>\n",
              "    </tr>\n",
              "  </thead>\n",
              "  <tbody>\n",
              "    <tr>\n",
              "      <th>345062</th>\n",
              "      <td>https://www.ugtt.org.tn/pinglink/</td>\n",
              "      <td>html</td>\n",
              "      <td>200</td>\n",
              "      <td>OK</td>\n",
              "      <td>Non-Indexable</td>\n",
              "      <td>noindex</td>\n",
              "      <td>الاتحاد العام التونسي للشغل › دخول</td>\n",
              "      <td>34</td>\n",
              "      <td>283</td>\n",
              "      <td>NaN</td>\n",
              "      <td>...</td>\n",
              "      <td>NaN</td>\n",
              "      <td>1</td>\n",
              "      <td>NaN</td>\n",
              "      <td>NaN</td>\n",
              "      <td>NaN</td>\n",
              "      <td>NaN</td>\n",
              "      <td>0</td>\n",
              "      <td>1.1</td>\n",
              "      <td>https://www.ugtt.org.tn/pinglink/</td>\n",
              "      <td>2023-07-22 18:02:04</td>\n",
              "    </tr>\n",
              "  </tbody>\n",
              "</table>\n",
              "<p>1 rows × 43 columns</p>\n",
              "</div>\n",
              "    <div class=\"colab-df-buttons\">\n",
              "\n",
              "  <div class=\"colab-df-container\">\n",
              "    <button class=\"colab-df-convert\" onclick=\"convertToInteractive('df-9fb8a1ce-e05f-470c-b2aa-4dd77f6963ee')\"\n",
              "            title=\"Convert this dataframe to an interactive table.\"\n",
              "            style=\"display:none;\">\n",
              "\n",
              "  <svg xmlns=\"http://www.w3.org/2000/svg\" height=\"24px\" viewBox=\"0 -960 960 960\">\n",
              "    <path d=\"M120-120v-720h720v720H120Zm60-500h600v-160H180v160Zm220 220h160v-160H400v160Zm0 220h160v-160H400v160ZM180-400h160v-160H180v160Zm440 0h160v-160H620v160ZM180-180h160v-160H180v160Zm440 0h160v-160H620v160Z\"/>\n",
              "  </svg>\n",
              "    </button>\n",
              "\n",
              "  <style>\n",
              "    .colab-df-container {\n",
              "      display:flex;\n",
              "      gap: 12px;\n",
              "    }\n",
              "\n",
              "    .colab-df-convert {\n",
              "      background-color: #E8F0FE;\n",
              "      border: none;\n",
              "      border-radius: 50%;\n",
              "      cursor: pointer;\n",
              "      display: none;\n",
              "      fill: #1967D2;\n",
              "      height: 32px;\n",
              "      padding: 0 0 0 0;\n",
              "      width: 32px;\n",
              "    }\n",
              "\n",
              "    .colab-df-convert:hover {\n",
              "      background-color: #E2EBFA;\n",
              "      box-shadow: 0px 1px 2px rgba(60, 64, 67, 0.3), 0px 1px 3px 1px rgba(60, 64, 67, 0.15);\n",
              "      fill: #174EA6;\n",
              "    }\n",
              "\n",
              "    .colab-df-buttons div {\n",
              "      margin-bottom: 4px;\n",
              "    }\n",
              "\n",
              "    [theme=dark] .colab-df-convert {\n",
              "      background-color: #3B4455;\n",
              "      fill: #D2E3FC;\n",
              "    }\n",
              "\n",
              "    [theme=dark] .colab-df-convert:hover {\n",
              "      background-color: #434B5C;\n",
              "      box-shadow: 0px 1px 3px 1px rgba(0, 0, 0, 0.15);\n",
              "      filter: drop-shadow(0px 1px 2px rgba(0, 0, 0, 0.3));\n",
              "      fill: #FFFFFF;\n",
              "    }\n",
              "  </style>\n",
              "\n",
              "    <script>\n",
              "      const buttonEl =\n",
              "        document.querySelector('#df-9fb8a1ce-e05f-470c-b2aa-4dd77f6963ee button.colab-df-convert');\n",
              "      buttonEl.style.display =\n",
              "        google.colab.kernel.accessAllowed ? 'block' : 'none';\n",
              "\n",
              "      async function convertToInteractive(key) {\n",
              "        const element = document.querySelector('#df-9fb8a1ce-e05f-470c-b2aa-4dd77f6963ee');\n",
              "        const dataTable =\n",
              "          await google.colab.kernel.invokeFunction('convertToInteractive',\n",
              "                                                    [key], {});\n",
              "        if (!dataTable) return;\n",
              "\n",
              "        const docLinkHtml = 'Like what you see? Visit the ' +\n",
              "          '<a target=\"_blank\" href=https://colab.research.google.com/notebooks/data_table.ipynb>data table notebook</a>'\n",
              "          + ' to learn more about interactive tables.';\n",
              "        element.innerHTML = '';\n",
              "        dataTable['output_type'] = 'display_data';\n",
              "        await google.colab.output.renderOutput(dataTable, element);\n",
              "        const docLink = document.createElement('div');\n",
              "        docLink.innerHTML = docLinkHtml;\n",
              "        element.appendChild(docLink);\n",
              "      }\n",
              "    </script>\n",
              "  </div>\n",
              "\n",
              "    </div>\n",
              "  </div>\n"
            ]
          },
          "metadata": {},
          "execution_count": 82
        }
      ]
    },
    {
      "cell_type": "code",
      "source": [
        "df = df[~(df['Meta Robots 1'] == 'noindex,noarchive')]"
      ],
      "metadata": {
        "id": "fdYR8M3wk9BT"
      },
      "execution_count": null,
      "outputs": []
    },
    {
      "cell_type": "code",
      "source": [
        "df['Meta Robots 1'].value_counts()"
      ],
      "metadata": {
        "id": "NHGvaPnkmeLt",
        "colab": {
          "base_uri": "https://localhost:8080/"
        },
        "outputId": "d66b3e58-6f36-436c-b185-1075468de807"
      },
      "execution_count": null,
      "outputs": [
        {
          "output_type": "execute_result",
          "data": {
            "text/plain": [
              "index,follow                                                                    81693\n",
              "max-image-preview:large                                                          7283\n",
              "noindex,nofollow                                                                 5540\n",
              "noodp,noydir                                                                      511\n",
              "noindex,follow                                                                    252\n",
              "noindex                                                                           131\n",
              "follow, index, max-snippet:-1, max-video-preview:-1, max-image-preview:large       26\n",
              "index                                                                               7\n",
              "Name: Meta Robots 1, dtype: int64"
            ]
          },
          "metadata": {},
          "execution_count": 84
        }
      ]
    },
    {
      "cell_type": "code",
      "source": [
        "df[(df['Meta Robots 1'] == 'follow, index, max-snippet:-1, max-video-preview:-1, max-image-preview:large')].Address"
      ],
      "metadata": {
        "id": "PmONfGS2meP2",
        "colab": {
          "base_uri": "https://localhost:8080/"
        },
        "outputId": "394f63f9-b1a1-4804-a2cd-411e1600046a"
      },
      "execution_count": null,
      "outputs": [
        {
          "output_type": "execute_result",
          "data": {
            "text/plain": [
              "490        http://www.utunis.rnu.tn/Conférance-Débat/Salo...\n",
              "11827      http://www.utunis.rnu.tn/Conférance-Débat/Hass...\n",
              "12389      http://www.utunis.rnu.tn/Conférance-Débat/Rim%...\n",
              "17541      http://www.utunis.rnu.tn/Conférance-Débat/Ali%...\n",
              "31781      http://www.utunis.rnu.tn/Conférance-Débat/Habi...\n",
              "85440      http://www.utunis.rnu.tn/Conférance-Débat/Hich...\n",
              "179827     http://www.utunis.rnu.tn/Conférance-Débat/Monc...\n",
              "189819     http://www.utunis.rnu.tn/Conférance-Débat/Hass...\n",
              "255090     http://www.utunis.rnu.tn/Conférance-Débat/Moha...\n",
              "257258     http://www.utunis.rnu.tn/Conférance-Débat/Noub...\n",
              "387538     http://www.utunis.rnu.tn/Conférance-Débat/Mejd...\n",
              "590162     http://www.utunis.rnu.tn/Conférance-Débat/Nafâ...\n",
              "622409     http://www.utunis.rnu.tn/Conférance-Débat/Imen...\n",
              "632494     http://www.utunis.rnu.tn/Conférance-Débat/Sarr...\n",
              "717345     http://www.utunis.rnu.tn/Conférance-Débat/Fara...\n",
              "743871     http://www.utunis.rnu.tn/Conférance-Débat/Mour...\n",
              "759092     http://www.utunis.rnu.tn/Conférance-Débat/Hela...\n",
              "818589     http://www.utunis.rnu.tn/Conférance-Débat/Olfa...\n",
              "891713     http://www.utunis.rnu.tn/Conférance-Débat/Rach...\n",
              "893861     http://www.utunis.rnu.tn/Conférance-Débat/Moha...\n",
              "912888     http://www.utunis.rnu.tn/Conférance-Débat/Tare...\n",
              "952536     http://www.utunis.rnu.tn/Conférance-Débat/Bile...\n",
              "971081     http://www.utunis.rnu.tn/Conférance-Débat/Salm...\n",
              "1291590    http://www.utunis.rnu.tn/Conférance-Débat/Ched...\n",
              "1441577    http://www.utunis.rnu.tn/Conférance-Débat/Olfa...\n",
              "1447969    http://www.utunis.rnu.tn/Conférance-Débat/Mahe...\n",
              "Name: Address, dtype: object"
            ]
          },
          "metadata": {},
          "execution_count": 85
        }
      ]
    },
    {
      "cell_type": "code",
      "source": [
        "df[df['Address'].str.contains('utunis',case='False')].shape"
      ],
      "metadata": {
        "id": "tWdKBkl7oYrG",
        "colab": {
          "base_uri": "https://localhost:8080/"
        },
        "outputId": "82d55ca7-5c70-4943-c37c-e4a27df98a9f"
      },
      "execution_count": null,
      "outputs": [
        {
          "output_type": "execute_result",
          "data": {
            "text/plain": [
              "(317, 43)"
            ]
          },
          "metadata": {},
          "execution_count": 86
        }
      ]
    },
    {
      "cell_type": "code",
      "source": [
        "df[df['Address'].str.contains('utunis',case='False') & df['Address'].str.contains('Débat',case='False')].shape"
      ],
      "metadata": {
        "id": "rjCraClameSI",
        "colab": {
          "base_uri": "https://localhost:8080/"
        },
        "outputId": "3627889c-a670-46dd-d287-ca7cbf320d72"
      },
      "execution_count": null,
      "outputs": [
        {
          "output_type": "execute_result",
          "data": {
            "text/plain": [
              "(28, 43)"
            ]
          },
          "metadata": {},
          "execution_count": 87
        }
      ]
    },
    {
      "cell_type": "code",
      "source": [
        "# Remove links that contain 'utunis' and 'débat'\n",
        "df = df[~(df['Address'].str.contains('utunis',case='False') & df['Address'].str.contains('Débat',case='False'))]"
      ],
      "metadata": {
        "id": "5FHzLVnNW_Fn"
      },
      "execution_count": null,
      "outputs": []
    },
    {
      "cell_type": "code",
      "source": [
        "df[df['Address'].str.contains('utunis',case='False')].shape"
      ],
      "metadata": {
        "id": "VwdqY9yCXtVa",
        "colab": {
          "base_uri": "https://localhost:8080/"
        },
        "outputId": "66409f99-8e35-4505-8197-37511955ee8d"
      },
      "execution_count": null,
      "outputs": [
        {
          "output_type": "execute_result",
          "data": {
            "text/plain": [
              "(289, 43)"
            ]
          },
          "metadata": {},
          "execution_count": 89
        }
      ]
    },
    {
      "cell_type": "code",
      "source": [
        "df['Meta Robots 1'].value_counts()"
      ],
      "metadata": {
        "id": "fDHEh-Z8XA2o",
        "colab": {
          "base_uri": "https://localhost:8080/"
        },
        "outputId": "cc32af23-3b84-4cc1-c110-58e60faed523"
      },
      "execution_count": null,
      "outputs": [
        {
          "output_type": "execute_result",
          "data": {
            "text/plain": [
              "index,follow               81693\n",
              "max-image-preview:large     7283\n",
              "noindex,nofollow            5540\n",
              "noodp,noydir                 511\n",
              "noindex,follow               252\n",
              "noindex                      131\n",
              "index                          7\n",
              "Name: Meta Robots 1, dtype: int64"
            ]
          },
          "metadata": {},
          "execution_count": 90
        }
      ]
    },
    {
      "cell_type": "code",
      "source": [
        "# Remove rows with Meta Robots 1 = noindex,nofollow\n",
        "df = df[df['Meta Robots 1'] != 'noindex,nofollow']"
      ],
      "metadata": {
        "id": "ZbeydWZXR4tU"
      },
      "execution_count": null,
      "outputs": []
    },
    {
      "cell_type": "code",
      "source": [
        "df.shape"
      ],
      "metadata": {
        "id": "x-NatT1YUs7z",
        "colab": {
          "base_uri": "https://localhost:8080/"
        },
        "outputId": "9fc6227a-7574-436e-b447-68340d5121b5"
      },
      "execution_count": null,
      "outputs": [
        {
          "output_type": "execute_result",
          "data": {
            "text/plain": [
              "(1087907, 43)"
            ]
          },
          "metadata": {},
          "execution_count": 92
        }
      ]
    },
    {
      "cell_type": "markdown",
      "source": [
        "## Health website"
      ],
      "metadata": {
        "id": "3SUaqmIpUlZZ"
      }
    },
    {
      "cell_type": "code",
      "source": [
        "health_data = df[df['Address'].str.contains('health', case=False)]\n",
        "health_data.shape"
      ],
      "metadata": {
        "id": "oN2w-HNLTL_a",
        "colab": {
          "base_uri": "https://localhost:8080/"
        },
        "outputId": "fdb59b92-3adf-48f7-b58c-7fdc00a38988"
      },
      "execution_count": null,
      "outputs": [
        {
          "output_type": "execute_result",
          "data": {
            "text/plain": [
              "(1758, 43)"
            ]
          },
          "metadata": {},
          "execution_count": 93
        }
      ]
    },
    {
      "cell_type": "code",
      "source": [
        "health_data.groupby('Meta Robots 1', dropna=False, as_index=False)['Address'].count()"
      ],
      "metadata": {
        "id": "fs99La9YL-6g",
        "colab": {
          "base_uri": "https://localhost:8080/",
          "height": 112
        },
        "outputId": "3f058bab-92d4-45ad-d6a5-5dad6fa4730c"
      },
      "execution_count": null,
      "outputs": [
        {
          "output_type": "execute_result",
          "data": {
            "text/plain": [
              "  Meta Robots 1  Address\n",
              "0  index,follow       13\n",
              "1           NaN     1745"
            ],
            "text/html": [
              "\n",
              "  <div id=\"df-9c0d24f9-fda4-4b2f-8755-456133de5031\" class=\"colab-df-container\">\n",
              "    <div>\n",
              "<style scoped>\n",
              "    .dataframe tbody tr th:only-of-type {\n",
              "        vertical-align: middle;\n",
              "    }\n",
              "\n",
              "    .dataframe tbody tr th {\n",
              "        vertical-align: top;\n",
              "    }\n",
              "\n",
              "    .dataframe thead th {\n",
              "        text-align: right;\n",
              "    }\n",
              "</style>\n",
              "<table border=\"1\" class=\"dataframe\">\n",
              "  <thead>\n",
              "    <tr style=\"text-align: right;\">\n",
              "      <th></th>\n",
              "      <th>Meta Robots 1</th>\n",
              "      <th>Address</th>\n",
              "    </tr>\n",
              "  </thead>\n",
              "  <tbody>\n",
              "    <tr>\n",
              "      <th>0</th>\n",
              "      <td>index,follow</td>\n",
              "      <td>13</td>\n",
              "    </tr>\n",
              "    <tr>\n",
              "      <th>1</th>\n",
              "      <td>NaN</td>\n",
              "      <td>1745</td>\n",
              "    </tr>\n",
              "  </tbody>\n",
              "</table>\n",
              "</div>\n",
              "    <div class=\"colab-df-buttons\">\n",
              "\n",
              "  <div class=\"colab-df-container\">\n",
              "    <button class=\"colab-df-convert\" onclick=\"convertToInteractive('df-9c0d24f9-fda4-4b2f-8755-456133de5031')\"\n",
              "            title=\"Convert this dataframe to an interactive table.\"\n",
              "            style=\"display:none;\">\n",
              "\n",
              "  <svg xmlns=\"http://www.w3.org/2000/svg\" height=\"24px\" viewBox=\"0 -960 960 960\">\n",
              "    <path d=\"M120-120v-720h720v720H120Zm60-500h600v-160H180v160Zm220 220h160v-160H400v160Zm0 220h160v-160H400v160ZM180-400h160v-160H180v160Zm440 0h160v-160H620v160ZM180-180h160v-160H180v160Zm440 0h160v-160H620v160Z\"/>\n",
              "  </svg>\n",
              "    </button>\n",
              "\n",
              "  <style>\n",
              "    .colab-df-container {\n",
              "      display:flex;\n",
              "      gap: 12px;\n",
              "    }\n",
              "\n",
              "    .colab-df-convert {\n",
              "      background-color: #E8F0FE;\n",
              "      border: none;\n",
              "      border-radius: 50%;\n",
              "      cursor: pointer;\n",
              "      display: none;\n",
              "      fill: #1967D2;\n",
              "      height: 32px;\n",
              "      padding: 0 0 0 0;\n",
              "      width: 32px;\n",
              "    }\n",
              "\n",
              "    .colab-df-convert:hover {\n",
              "      background-color: #E2EBFA;\n",
              "      box-shadow: 0px 1px 2px rgba(60, 64, 67, 0.3), 0px 1px 3px 1px rgba(60, 64, 67, 0.15);\n",
              "      fill: #174EA6;\n",
              "    }\n",
              "\n",
              "    .colab-df-buttons div {\n",
              "      margin-bottom: 4px;\n",
              "    }\n",
              "\n",
              "    [theme=dark] .colab-df-convert {\n",
              "      background-color: #3B4455;\n",
              "      fill: #D2E3FC;\n",
              "    }\n",
              "\n",
              "    [theme=dark] .colab-df-convert:hover {\n",
              "      background-color: #434B5C;\n",
              "      box-shadow: 0px 1px 3px 1px rgba(0, 0, 0, 0.15);\n",
              "      filter: drop-shadow(0px 1px 2px rgba(0, 0, 0, 0.3));\n",
              "      fill: #FFFFFF;\n",
              "    }\n",
              "  </style>\n",
              "\n",
              "    <script>\n",
              "      const buttonEl =\n",
              "        document.querySelector('#df-9c0d24f9-fda4-4b2f-8755-456133de5031 button.colab-df-convert');\n",
              "      buttonEl.style.display =\n",
              "        google.colab.kernel.accessAllowed ? 'block' : 'none';\n",
              "\n",
              "      async function convertToInteractive(key) {\n",
              "        const element = document.querySelector('#df-9c0d24f9-fda4-4b2f-8755-456133de5031');\n",
              "        const dataTable =\n",
              "          await google.colab.kernel.invokeFunction('convertToInteractive',\n",
              "                                                    [key], {});\n",
              "        if (!dataTable) return;\n",
              "\n",
              "        const docLinkHtml = 'Like what you see? Visit the ' +\n",
              "          '<a target=\"_blank\" href=https://colab.research.google.com/notebooks/data_table.ipynb>data table notebook</a>'\n",
              "          + ' to learn more about interactive tables.';\n",
              "        element.innerHTML = '';\n",
              "        dataTable['output_type'] = 'display_data';\n",
              "        await google.colab.output.renderOutput(dataTable, element);\n",
              "        const docLink = document.createElement('div');\n",
              "        docLink.innerHTML = docLinkHtml;\n",
              "        element.appendChild(docLink);\n",
              "      }\n",
              "    </script>\n",
              "  </div>\n",
              "\n",
              "    </div>\n",
              "  </div>\n"
            ]
          },
          "metadata": {},
          "execution_count": 94
        }
      ]
    },
    {
      "cell_type": "code",
      "source": [
        "health_data[health_data['Meta Robots 1']=='index,follow'].Address"
      ],
      "metadata": {
        "id": "b1nAGLolZWFm",
        "colab": {
          "base_uri": "https://localhost:8080/"
        },
        "outputId": "6ceda6f8-257e-4640-dbcf-3c6581ce1438"
      },
      "execution_count": null,
      "outputs": [
        {
          "output_type": "execute_result",
          "data": {
            "text/plain": [
              "28821      http://www.pasteur.tn/index.php?option=com_con...\n",
              "238036     http://www.pasteur.tn/index.php?option=com_con...\n",
              "276145     http://www.pasteur.tn/index.php?option=com_con...\n",
              "555847     http://www.pasteur.tn/index.php?option=com_con...\n",
              "692218     http://www.pasteur.tn/index.php?option=com_con...\n",
              "769076     http://www.pasteur.tn/index.php?option=com_con...\n",
              "775733     http://www.pasteur.tn/index.php?option=com_con...\n",
              "979298        https://istmt.rnu.tn/hacking-health-sfax-2018/\n",
              "1010764    http://www.pasteur.tn/index.php?option=com_con...\n",
              "1057837    https://istmt.rnu.tn/en/tunisia-ehealth-challe...\n",
              "1190675    http://www.pasteur.tn/index.php?option=com_con...\n",
              "1420335    https://istmt.rnu.tn/en/hacking-health-sfax-20...\n",
              "1435487    https://istmt.rnu.tn/tunisia-ehealth-challenge...\n",
              "Name: Address, dtype: object"
            ]
          },
          "metadata": {},
          "execution_count": 95
        }
      ]
    },
    {
      "cell_type": "code",
      "source": [
        "# I noticed addresses that have pasteur and option are all deprecated let's check them more\n",
        "pasteur = df[df['Address'].str.contains('pasteur',case=False) & df['Address'].str.contains('option',case=False)]\n",
        "pasteur.shape"
      ],
      "metadata": {
        "id": "a93ehewMWV5P",
        "colab": {
          "base_uri": "https://localhost:8080/"
        },
        "outputId": "92e610db-47e9-485a-d053-cf507dc160a2"
      },
      "execution_count": null,
      "outputs": [
        {
          "output_type": "execute_result",
          "data": {
            "text/plain": [
              "(824, 43)"
            ]
          },
          "metadata": {},
          "execution_count": 96
        }
      ]
    },
    {
      "cell_type": "code",
      "source": [
        "pasteur.Address.sample(10)"
      ],
      "metadata": {
        "id": "DCDAPXjzXB2p",
        "colab": {
          "base_uri": "https://localhost:8080/"
        },
        "outputId": "1cba37ab-f45f-4ce6-a1b8-e2b8ef84ba62"
      },
      "execution_count": null,
      "outputs": [
        {
          "output_type": "execute_result",
          "data": {
            "text/plain": [
              "219362     http://www.pasteur.tn/index.php?option=com_con...\n",
              "1215013    http://www.pasteur.tn/index.php?option=com_doc...\n",
              "239992     http://www.pasteur.tn/index.php?option=com_con...\n",
              "802707     http://www.pasteur.tn/index.php?option=com_doc...\n",
              "1095236    http://www.pasteur.tn/index.php?option=com_con...\n",
              "1219092    http://www.pasteur.tn/index.php?option=com_doc...\n",
              "803619     http://www.pasteur.tn/index.php?option=com_con...\n",
              "779966     http://www.pasteur.tn/index.php?option=com_con...\n",
              "254556     http://www.pasteur.tn/index.php?option=com_con...\n",
              "1404765    http://www.pasteur.tn/index.php?option=com_doc...\n",
              "Name: Address, dtype: object"
            ]
          },
          "metadata": {},
          "execution_count": 97
        }
      ]
    },
    {
      "cell_type": "code",
      "source": [
        "health_data = health_data[~(health_data['Address'].str.contains('pasteur', case=False) & health_data['Address'].str.contains('option', case=False))]\n",
        "df = df[~(df['Address'].str.contains('pasteur', case=False) & df['Address'].str.contains('option', case=False))]\n",
        "df.shape"
      ],
      "metadata": {
        "id": "UyqTiMwTX_bd",
        "colab": {
          "base_uri": "https://localhost:8080/"
        },
        "outputId": "4d751689-e687-45d2-8a3a-482125b5d047"
      },
      "execution_count": null,
      "outputs": [
        {
          "output_type": "execute_result",
          "data": {
            "text/plain": [
              "(1087083, 43)"
            ]
          },
          "metadata": {},
          "execution_count": 98
        }
      ]
    },
    {
      "cell_type": "code",
      "source": [
        "health_data[health_data['Meta Robots 1']=='index,follow'].Address"
      ],
      "metadata": {
        "id": "nBxz5lkZZP3t",
        "colab": {
          "base_uri": "https://localhost:8080/"
        },
        "outputId": "8b3f40d1-e258-4e53-de11-4119ddf36381"
      },
      "execution_count": null,
      "outputs": [
        {
          "output_type": "execute_result",
          "data": {
            "text/plain": [
              "979298        https://istmt.rnu.tn/hacking-health-sfax-2018/\n",
              "1057837    https://istmt.rnu.tn/en/tunisia-ehealth-challe...\n",
              "1420335    https://istmt.rnu.tn/en/hacking-health-sfax-20...\n",
              "1435487    https://istmt.rnu.tn/tunisia-ehealth-challenge...\n",
              "Name: Address, dtype: object"
            ]
          },
          "metadata": {},
          "execution_count": 99
        }
      ]
    },
    {
      "cell_type": "code",
      "source": [
        "# The links above are irrelevant\n",
        "df = df[~((df['Meta Robots 1']=='index,follow') & df['Address'].str.contains('health'))]\n",
        "health_data = health_data[health_data['Meta Robots 1']!='index,follow']\n",
        "df.shape"
      ],
      "metadata": {
        "id": "2j2hsqxZaTCY",
        "colab": {
          "base_uri": "https://localhost:8080/"
        },
        "outputId": "a54c29b9-8b38-4734-bb68-0cc4bddc9c21"
      },
      "execution_count": null,
      "outputs": [
        {
          "output_type": "execute_result",
          "data": {
            "text/plain": [
              "(1087079, 43)"
            ]
          },
          "metadata": {},
          "execution_count": 100
        }
      ]
    },
    {
      "cell_type": "code",
      "source": [
        "health_data.groupby('Meta Robots 1', dropna=False, as_index=False)['Address'].count()"
      ],
      "metadata": {
        "id": "ao3gO2g_b64c",
        "colab": {
          "base_uri": "https://localhost:8080/",
          "height": 81
        },
        "outputId": "5ccc1011-e3c8-46b7-ae63-b5d63e30e0c2"
      },
      "execution_count": null,
      "outputs": [
        {
          "output_type": "execute_result",
          "data": {
            "text/plain": [
              "   Meta Robots 1  Address\n",
              "0            NaN     1745"
            ],
            "text/html": [
              "\n",
              "  <div id=\"df-0c74326b-dcc9-41de-b398-7d4523558c96\" class=\"colab-df-container\">\n",
              "    <div>\n",
              "<style scoped>\n",
              "    .dataframe tbody tr th:only-of-type {\n",
              "        vertical-align: middle;\n",
              "    }\n",
              "\n",
              "    .dataframe tbody tr th {\n",
              "        vertical-align: top;\n",
              "    }\n",
              "\n",
              "    .dataframe thead th {\n",
              "        text-align: right;\n",
              "    }\n",
              "</style>\n",
              "<table border=\"1\" class=\"dataframe\">\n",
              "  <thead>\n",
              "    <tr style=\"text-align: right;\">\n",
              "      <th></th>\n",
              "      <th>Meta Robots 1</th>\n",
              "      <th>Address</th>\n",
              "    </tr>\n",
              "  </thead>\n",
              "  <tbody>\n",
              "    <tr>\n",
              "      <th>0</th>\n",
              "      <td>NaN</td>\n",
              "      <td>1745</td>\n",
              "    </tr>\n",
              "  </tbody>\n",
              "</table>\n",
              "</div>\n",
              "    <div class=\"colab-df-buttons\">\n",
              "\n",
              "  <div class=\"colab-df-container\">\n",
              "    <button class=\"colab-df-convert\" onclick=\"convertToInteractive('df-0c74326b-dcc9-41de-b398-7d4523558c96')\"\n",
              "            title=\"Convert this dataframe to an interactive table.\"\n",
              "            style=\"display:none;\">\n",
              "\n",
              "  <svg xmlns=\"http://www.w3.org/2000/svg\" height=\"24px\" viewBox=\"0 -960 960 960\">\n",
              "    <path d=\"M120-120v-720h720v720H120Zm60-500h600v-160H180v160Zm220 220h160v-160H400v160Zm0 220h160v-160H400v160ZM180-400h160v-160H180v160Zm440 0h160v-160H620v160ZM180-180h160v-160H180v160Zm440 0h160v-160H620v160Z\"/>\n",
              "  </svg>\n",
              "    </button>\n",
              "\n",
              "  <style>\n",
              "    .colab-df-container {\n",
              "      display:flex;\n",
              "      gap: 12px;\n",
              "    }\n",
              "\n",
              "    .colab-df-convert {\n",
              "      background-color: #E8F0FE;\n",
              "      border: none;\n",
              "      border-radius: 50%;\n",
              "      cursor: pointer;\n",
              "      display: none;\n",
              "      fill: #1967D2;\n",
              "      height: 32px;\n",
              "      padding: 0 0 0 0;\n",
              "      width: 32px;\n",
              "    }\n",
              "\n",
              "    .colab-df-convert:hover {\n",
              "      background-color: #E2EBFA;\n",
              "      box-shadow: 0px 1px 2px rgba(60, 64, 67, 0.3), 0px 1px 3px 1px rgba(60, 64, 67, 0.15);\n",
              "      fill: #174EA6;\n",
              "    }\n",
              "\n",
              "    .colab-df-buttons div {\n",
              "      margin-bottom: 4px;\n",
              "    }\n",
              "\n",
              "    [theme=dark] .colab-df-convert {\n",
              "      background-color: #3B4455;\n",
              "      fill: #D2E3FC;\n",
              "    }\n",
              "\n",
              "    [theme=dark] .colab-df-convert:hover {\n",
              "      background-color: #434B5C;\n",
              "      box-shadow: 0px 1px 3px 1px rgba(0, 0, 0, 0.15);\n",
              "      filter: drop-shadow(0px 1px 2px rgba(0, 0, 0, 0.3));\n",
              "      fill: #FFFFFF;\n",
              "    }\n",
              "  </style>\n",
              "\n",
              "    <script>\n",
              "      const buttonEl =\n",
              "        document.querySelector('#df-0c74326b-dcc9-41de-b398-7d4523558c96 button.colab-df-convert');\n",
              "      buttonEl.style.display =\n",
              "        google.colab.kernel.accessAllowed ? 'block' : 'none';\n",
              "\n",
              "      async function convertToInteractive(key) {\n",
              "        const element = document.querySelector('#df-0c74326b-dcc9-41de-b398-7d4523558c96');\n",
              "        const dataTable =\n",
              "          await google.colab.kernel.invokeFunction('convertToInteractive',\n",
              "                                                    [key], {});\n",
              "        if (!dataTable) return;\n",
              "\n",
              "        const docLinkHtml = 'Like what you see? Visit the ' +\n",
              "          '<a target=\"_blank\" href=https://colab.research.google.com/notebooks/data_table.ipynb>data table notebook</a>'\n",
              "          + ' to learn more about interactive tables.';\n",
              "        element.innerHTML = '';\n",
              "        dataTable['output_type'] = 'display_data';\n",
              "        await google.colab.output.renderOutput(dataTable, element);\n",
              "        const docLink = document.createElement('div');\n",
              "        docLink.innerHTML = docLinkHtml;\n",
              "        element.appendChild(docLink);\n",
              "      }\n",
              "    </script>\n",
              "  </div>\n",
              "\n",
              "    </div>\n",
              "  </div>\n"
            ]
          },
          "metadata": {},
          "execution_count": 101
        }
      ]
    },
    {
      "cell_type": "code",
      "source": [
        "health_data.Address.sample(10)"
      ],
      "metadata": {
        "id": "AZkpYlShbE5v",
        "colab": {
          "base_uri": "https://localhost:8080/"
        },
        "outputId": "d6b45d61-0b0a-405c-f3cb-9bf542cea9b9"
      },
      "execution_count": null,
      "outputs": [
        {
          "output_type": "execute_result",
          "data": {
            "text/plain": [
              "44185      http://www.health.gov.tn/fr/toutes-les-actuali...\n",
              "771796     http://www.health.gov.tn/fr/articles-archivés/...\n",
              "1210895    http://www.health.gov.tn/fr/sante-en-tunisie/s...\n",
              "733567     http://www.health.gov.tn/fr/articles-archivés/...\n",
              "550934     http://www.health.gov.tn/fr/toutes-les-actuali...\n",
              "872054     http://www.health.gov.tn/fr/articles-archivés/...\n",
              "390020     http://www.health.gov.tn/fr/articles-archivés/...\n",
              "50727      http://www.health.gov.tn/fr/prestations/cahier...\n",
              "376043     http://www.health.gov.tn/fr/articles-archivés/...\n",
              "1306419    http://www.health.gov.tn/fr/articles-archivés/...\n",
              "Name: Address, dtype: object"
            ]
          },
          "metadata": {},
          "execution_count": 102
        }
      ]
    },
    {
      "cell_type": "markdown",
      "source": [
        "\n",
        "After some research we found out that many links related to health data are deprecated and should be removed."
      ],
      "metadata": {
        "id": "Qk2bZ2baWpD4"
      }
    },
    {
      "cell_type": "code",
      "source": [
        "df = df[~df['Address'].str.contains('health', case=False)]"
      ],
      "metadata": {
        "id": "vjLM7YeWbwbP"
      },
      "execution_count": null,
      "outputs": []
    },
    {
      "cell_type": "code",
      "source": [
        "df.shape"
      ],
      "metadata": {
        "id": "OjHMEgGSb904",
        "colab": {
          "base_uri": "https://localhost:8080/"
        },
        "outputId": "737da09d-f331-4b37-df98-4e11546cc722"
      },
      "execution_count": null,
      "outputs": [
        {
          "output_type": "execute_result",
          "data": {
            "text/plain": [
              "(1085334, 43)"
            ]
          },
          "metadata": {},
          "execution_count": 104
        }
      ]
    },
    {
      "cell_type": "markdown",
      "source": [
        "## Back to Indexability and Indexability Status columns"
      ],
      "metadata": {
        "id": "9eWEqFLWd0NZ"
      }
    },
    {
      "cell_type": "code",
      "source": [
        "df[['Indexability','Indexability Status']].value_counts()"
      ],
      "metadata": {
        "id": "hEioVwJLdvlg",
        "colab": {
          "base_uri": "https://localhost:8080/"
        },
        "outputId": "684e1857-daa6-4633-aaae-9a994e2a7126"
      },
      "execution_count": null,
      "outputs": [
        {
          "output_type": "execute_result",
          "data": {
            "text/plain": [
              "Indexability   Indexability Status   \n",
              "Non-Indexable  Canonicalised             116047\n",
              "               noindex                      440\n",
              "               Canonicalised,noindex        144\n",
              "               Max Page Size Exceeded        50\n",
              "               Redirected                    42\n",
              "dtype: int64"
            ]
          },
          "metadata": {},
          "execution_count": 105
        }
      ]
    },
    {
      "cell_type": "code",
      "source": [
        "df[(df['Indexability'] == 'Non-Indexable') & (df['Indexability Status'] == 'Redirected')].Address"
      ],
      "metadata": {
        "id": "5Q0Zhn2PeBKL",
        "colab": {
          "base_uri": "https://localhost:8080/"
        },
        "outputId": "9052805e-01c0-47fb-c527-29cc8ef76609"
      },
      "execution_count": null,
      "outputs": [
        {
          "output_type": "execute_result",
          "data": {
            "text/plain": [
              "61156                    https://www.atct.tn/rh/fr/cooperant\n",
              "86386      http://rel.uvt.rnu.tn/pluginfile.php/3339/mod_...\n",
              "90322      http://rel.uvt.rnu.tn/pluginfile.php/3323/mod_...\n",
              "187319      https://www.atct.tn/rh/fr/consultant/inscription\n",
              "202525                  https://www.atct.tn/rh/en/consultant\n",
              "298290                   https://www.atct.tn/rh/en/employeur\n",
              "324304                             http://www.isetkr.rnu.tn/\n",
              "326658                             https://www.atct.tn/rh/ar\n",
              "326743                             https://www.atct.tn/rh/fr\n",
              "326783                             https://www.atct.tn/rh/en\n",
              "343057        https://www.atct.tn/rh/fr/candidat/inscription\n",
              "406290     http://rel.uvt.rnu.tn/pluginfile.php/3317/mod_...\n",
              "412354     http://rel.uvt.rnu.tn/pluginfile.php/3311/mod_...\n",
              "452893                    https://www.atct.tn/rh/fr/candidat\n",
              "464573                   https://www.atct.tn/rh/ar/cooperant\n",
              "513085                           http://www.sphb.defense.tn/\n",
              "527516                   https://www.atct.tn/rh/fr/employeur\n",
              "603511      https://www.atct.tn/rh/en/consultant/inscription\n",
              "615642                  https://www.atct.tn/rh/fr/consultant\n",
              "632544      http://www.tradenet.com.tn/portal/page/trackerLT\n",
              "660368     http://rel.uvt.rnu.tn/pluginfile.php/3303/mod_...\n",
              "671075       https://www.atct.tn/rh/en/employeur/inscription\n",
              "680587       https://www.atct.tn/rh/ar/employeur/inscription\n",
              "732781        https://www.atct.tn/rh/ar/candidat/inscription\n",
              "764518     http://rel.uvt.rnu.tn/pluginfile.php/3322/mod_...\n",
              "797013                    https://www.atct.tn/rh/ar/candidat\n",
              "848695      https://www.atct.tn/rh/ar/consultant/inscription\n",
              "875289     http://rel.uvt.rnu.tn/pluginfile.php/3306/mod_...\n",
              "930078                   https://www.atct.tn/rh/ar/employeur\n",
              "961791     http://rel.uvt.rnu.tn/pluginfile.php/3326/mod_...\n",
              "1013283    http://rel.uvt.rnu.tn/pluginfile.php/3329/mod_...\n",
              "1057539      https://www.atct.tn/rh/fr/employeur/inscription\n",
              "1145560                        http://www.cemeda.defense.tn/\n",
              "1258251    http://rel.uvt.rnu.tn/pluginfile.php/3344/mod_...\n",
              "1289156    http://rel.uvt.rnu.tn/pluginfile.php/3300/mod_...\n",
              "1372327                  https://www.atct.tn/rh/en/cooperant\n",
              "1406673       https://www.atct.tn/rh/en/candidat/inscription\n",
              "1408457    http://rel.uvt.rnu.tn/pluginfile.php/3320/mod_...\n",
              "1409072    http://rel.uvt.rnu.tn/pluginfile.php/3333/mod_...\n",
              "1418883                 https://www.atct.tn/rh/ar/consultant\n",
              "1421651                   https://www.atct.tn/rh/en/candidat\n",
              "1455388    http://rel.uvt.rnu.tn/pluginfile.php/3336/mod_...\n",
              "Name: Address, dtype: object"
            ]
          },
          "metadata": {},
          "execution_count": 106
        }
      ]
    },
    {
      "cell_type": "code",
      "source": [
        "df[df['Address'].str.contains('pluginfile')].Address.sample(10)"
      ],
      "metadata": {
        "id": "9txqZn48fL81",
        "colab": {
          "base_uri": "https://localhost:8080/"
        },
        "outputId": "3e68107d-b493-4adc-80f6-bc4adf3cffbe"
      },
      "execution_count": null,
      "outputs": [
        {
          "output_type": "execute_result",
          "data": {
            "text/plain": [
              "1320449    http://rel.uvt.rnu.tn/pluginfile.php/19372/mod...\n",
              "1374932    http://rel.uvt.rnu.tn/pluginfile.php/19372/mod...\n",
              "805762     http://rel.uvt.rnu.tn/pluginfile.php/3344/mod_...\n",
              "400699     http://rel.uvt.rnu.tn/pluginfile.php/3317/mod_...\n",
              "1460892    http://rel.uvt.rnu.tn/pluginfile.php/3300/mod_...\n",
              "1268977    http://rel.uvt.rnu.tn/pluginfile.php/3333/mod_...\n",
              "1401504    http://rel.uvt.rnu.tn/pluginfile.php/3320/mod_...\n",
              "1409072    http://rel.uvt.rnu.tn/pluginfile.php/3333/mod_...\n",
              "417247     http://rel.uvt.rnu.tn/pluginfile.php/3320/mod_...\n",
              "251960     http://rel.uvt.rnu.tn/pluginfile.php/3306/mod_...\n",
              "Name: Address, dtype: object"
            ]
          },
          "metadata": {},
          "execution_count": 107
        }
      ]
    },
    {
      "cell_type": "code",
      "source": [
        "# The links above are deprecated\n",
        "df = df[~df['Address'].str.contains('pluginfile', case=False)]"
      ],
      "metadata": {
        "id": "VExDpnkAhfIY"
      },
      "execution_count": null,
      "outputs": []
    },
    {
      "cell_type": "code",
      "source": [
        "# These links are deprecated\n",
        "df = df[~((df['Address'].str.contains('mdici')) & (df['Address'].str.contains('المستجدات')))]"
      ],
      "metadata": {
        "id": "1_-cI27MwtEU"
      },
      "execution_count": null,
      "outputs": []
    },
    {
      "cell_type": "code",
      "source": [
        "df.shape"
      ],
      "metadata": {
        "id": "3S6oUNIKBH-X",
        "colab": {
          "base_uri": "https://localhost:8080/"
        },
        "outputId": "a65a648a-aef6-4ff8-ffa5-25792a0390b3"
      },
      "execution_count": null,
      "outputs": [
        {
          "output_type": "execute_result",
          "data": {
            "text/plain": [
              "(1084705, 43)"
            ]
          },
          "metadata": {},
          "execution_count": 110
        }
      ]
    },
    {
      "cell_type": "markdown",
      "metadata": {
        "id": "-Ir2lQKj9rrL"
      },
      "source": [
        "# Check missing data"
      ]
    },
    {
      "cell_type": "code",
      "source": [
        "df.shape"
      ],
      "metadata": {
        "id": "zqqZOd2lEcSK",
        "colab": {
          "base_uri": "https://localhost:8080/"
        },
        "outputId": "51e60be8-2e75-412b-dfc4-9ebd1456e847"
      },
      "execution_count": null,
      "outputs": [
        {
          "output_type": "execute_result",
          "data": {
            "text/plain": [
              "(1084705, 43)"
            ]
          },
          "metadata": {},
          "execution_count": 111
        }
      ]
    },
    {
      "cell_type": "code",
      "execution_count": null,
      "metadata": {
        "id": "sjSaGjXn9JUh",
        "colab": {
          "base_uri": "https://localhost:8080/"
        },
        "outputId": "f818deca-5711-4c35-ff3d-fbca1221e2c9"
      },
      "outputs": [
        {
          "output_type": "execute_result",
          "data": {
            "text/plain": [
              "Redirect Type                     1084705\n",
              "Redirect URL                      1084705\n",
              "Meta Refresh 1                    1084676\n",
              "X-Robots-Tag 1                    1084507\n",
              "PDF Subject                       1084332\n",
              "PDF Author                        1071208\n",
              "PDF Modified                      1064949\n",
              "PDF Created                       1063456\n",
              "Meta Robots 1                      995556\n",
              "Indexability Status                968038\n",
              "Last Modified                      935452\n",
              "H1-1                               839907\n",
              "H2-1                               671393\n",
              "Meta Keywords 1                    327505\n",
              "Meta Description 1                 257921\n",
              "Title 1                             46920\n",
              "Sentence Count                      42243\n",
              "Average Words Per Sentence          42243\n",
              "Flesch Reading Ease Score           42243\n",
              "Readability                         42243\n",
              "Hash                                39598\n",
              "Crawl Depth                          4180\n",
              "Status                                  4\n",
              "Cookies                                 0\n",
              "PDF Page Count                          0\n",
              "HTTP Version                            0\n",
              "URL Encoded Address                     0\n",
              "Response Time                           0\n",
              "Address                                 0\n",
              "Size (bytes)                            0\n",
              "Text Ratio                              0\n",
              "Word Count                              0\n",
              "Content Type                            0\n",
              "H2-1 Length                             0\n",
              "H1-1 Length                             0\n",
              "Meta Keywords 1 Length                  0\n",
              "Meta Description 1 Pixel Width          0\n",
              "Meta Description 1 Length               0\n",
              "Title 1 Pixel Width                     0\n",
              "Title 1 Length                          0\n",
              "Indexability                            0\n",
              "Status Code                             0\n",
              "Crawl Timestamp                         0\n",
              "dtype: int64"
            ]
          },
          "metadata": {},
          "execution_count": 112
        }
      ],
      "source": [
        "df.isnull().sum().sort_values(ascending=False)"
      ]
    },
    {
      "cell_type": "markdown",
      "source": [
        "These columns: 'Redirect URL', 'Redirect Type', 'Meta Refresh 1', 'X-Robots-Tag 1' must be dropped because they contain many missing values."
      ],
      "metadata": {
        "id": "krZ2iUgX_Hwl"
      }
    },
    {
      "cell_type": "code",
      "execution_count": null,
      "metadata": {
        "id": "Do5ggJlODoNc"
      },
      "outputs": [],
      "source": [
        "columns_to_drop = ['Redirect URL', 'Redirect Type', 'Meta Refresh 1', 'X-Robots-Tag 1', 'Crawl Timestamp', 'URL Encoded Address', 'HTTP Version', 'Cookies']\n",
        "df.drop(columns_to_drop, axis=1, inplace=True)"
      ]
    },
    {
      "cell_type": "code",
      "execution_count": null,
      "metadata": {
        "id": "gKAazVpOA2Et",
        "colab": {
          "base_uri": "https://localhost:8080/"
        },
        "outputId": "df29392b-d5bb-4434-c5cb-1ab5d22d9ed0"
      },
      "outputs": [
        {
          "output_type": "execute_result",
          "data": {
            "text/plain": [
              "PDF Subject                       1084332\n",
              "PDF Author                        1071208\n",
              "PDF Modified                      1064949\n",
              "PDF Created                       1063456\n",
              "Meta Robots 1                      995556\n",
              "Indexability Status                968038\n",
              "Last Modified                      935452\n",
              "H1-1                               839907\n",
              "H2-1                               671393\n",
              "Meta Keywords 1                    327505\n",
              "Meta Description 1                 257921\n",
              "Title 1                             46920\n",
              "Average Words Per Sentence          42243\n",
              "Readability                         42243\n",
              "Flesch Reading Ease Score           42243\n",
              "Sentence Count                      42243\n",
              "Hash                                39598\n",
              "Crawl Depth                          4180\n",
              "Status                                  4\n",
              "Address                                 0\n",
              "Text Ratio                              0\n",
              "Response Time                           0\n",
              "H2-1 Length                             0\n",
              "Word Count                              0\n",
              "Size (bytes)                            0\n",
              "Content Type                            0\n",
              "H1-1 Length                             0\n",
              "Meta Keywords 1 Length                  0\n",
              "Meta Description 1 Pixel Width          0\n",
              "Meta Description 1 Length               0\n",
              "Title 1 Pixel Width                     0\n",
              "Title 1 Length                          0\n",
              "Indexability                            0\n",
              "Status Code                             0\n",
              "PDF Page Count                          0\n",
              "dtype: int64"
            ]
          },
          "metadata": {},
          "execution_count": 114
        }
      ],
      "source": [
        "df.isnull().sum().sort_values(ascending=False)"
      ]
    },
    {
      "cell_type": "code",
      "source": [
        "df.loc[df['H1-1'].isna(), 'H1-1 Length'] = pd.NA"
      ],
      "metadata": {
        "id": "WXiRBFbGKkRf"
      },
      "execution_count": null,
      "outputs": []
    },
    {
      "cell_type": "code",
      "source": [
        "df.loc[df['H2-1'].isna(), 'H2-1 Length'] = pd.NA"
      ],
      "metadata": {
        "id": "yGs7zu35OHds"
      },
      "execution_count": null,
      "outputs": []
    },
    {
      "cell_type": "code",
      "source": [
        "df.loc[df['Meta Keywords 1'].isna(), 'Meta Keywords 1 Length'] = pd.NA"
      ],
      "metadata": {
        "id": "iifWuo2MOi97"
      },
      "execution_count": null,
      "outputs": []
    },
    {
      "cell_type": "code",
      "source": [
        "df.loc[df['Meta Description 1'].isna(), ['Meta Description 1 Length', 'Meta Description 1 Pixel Width']] = pd.NA"
      ],
      "metadata": {
        "id": "bD4VxTQcOxMI"
      },
      "execution_count": null,
      "outputs": []
    },
    {
      "cell_type": "code",
      "source": [
        "df.loc[df['Title 1'].isna(), ['Title 1 Pixel Width','Title 1 Length']] = pd.NA"
      ],
      "metadata": {
        "id": "2seCBv13OjAe"
      },
      "execution_count": null,
      "outputs": []
    },
    {
      "cell_type": "code",
      "source": [
        "df.isnull().sum().sort_values()"
      ],
      "metadata": {
        "colab": {
          "base_uri": "https://localhost:8080/"
        },
        "id": "SS5AII3EN4Xp",
        "outputId": "bbc4e8bc-5c99-46dd-a924-79e89f6868d6"
      },
      "execution_count": null,
      "outputs": [
        {
          "output_type": "execute_result",
          "data": {
            "text/plain": [
              "Address                                 0\n",
              "Response Time                           0\n",
              "Text Ratio                              0\n",
              "Word Count                              0\n",
              "Size (bytes)                            0\n",
              "PDF Page Count                          0\n",
              "Content Type                            0\n",
              "Status Code                             0\n",
              "Indexability                            0\n",
              "Status                                  4\n",
              "Crawl Depth                          4180\n",
              "Hash                                39598\n",
              "Readability                         42243\n",
              "Flesch Reading Ease Score           42243\n",
              "Average Words Per Sentence          42243\n",
              "Sentence Count                      42243\n",
              "Title 1                             46920\n",
              "Title 1 Length                      46920\n",
              "Title 1 Pixel Width                 46920\n",
              "Meta Description 1 Length          257921\n",
              "Meta Description 1                 257921\n",
              "Meta Description 1 Pixel Width     257921\n",
              "Meta Keywords 1 Length             327505\n",
              "Meta Keywords 1                    327505\n",
              "H2-1                               671393\n",
              "H2-1 Length                        671393\n",
              "H1-1 Length                        839907\n",
              "H1-1                               839907\n",
              "Last Modified                      935452\n",
              "Indexability Status                968038\n",
              "Meta Robots 1                      995556\n",
              "PDF Created                       1063456\n",
              "PDF Modified                      1064949\n",
              "PDF Author                        1071208\n",
              "PDF Subject                       1084332\n",
              "dtype: int64"
            ]
          },
          "metadata": {},
          "execution_count": 120
        }
      ]
    },
    {
      "cell_type": "markdown",
      "metadata": {
        "id": "sKRwMYDh-VRS"
      },
      "source": [
        "# Notes"
      ]
    },
    {
      "cell_type": "markdown",
      "source": [
        "- Other unecessary columns: 'Crawl Timestamp', 'URL Encoded Address', 'HTTP Version', 'Cookies'\n",
        "- Notes: While observing the different rows of the columns Address and URL Encoded Address they leaded to the same link.\n",
        "- Drop rows with content type != html and pdf\n",
        "- Drop rows with hash duplicated (keep first)\n",
        "- After that check Indexability and Index. Status columns\n",
        "- All columns with pixel width may be useless.\n",
        "- Title 1 Length = 638 (max) is irrelevant\n",
        "- df['Title 1 Pixel Width']==0 correspond to the missing values in column Title 1, same for Title 1 Length and then check the rest of the rows\n",
        "- Addresses with Meta Description 1 Length = 0 are NaN and = 3 are irrelevant.\n",
        "- Addresses with Meta Description 1 Pixel Width>4000 are dysfunctionnal.\n",
        "- I'm not sure wether the column meta keywords is useful or not, some contain logical keywords and some don't (example: (), l, etc)\n",
        "- NaN meta keywords should have NaN meta keywords length (replace 0 with NaN)\n",
        "- Most of the addresses with H2-1 Length > 300 contain long articles without any document or legal procedures.\n",
        "- We can filter based on titles and descriptions using words like document, imprimés ...\n",
        "- Rows with H2-1 Length = 829 to drop.\n",
        "- Addresses that have H2-1 Length = 1 are dysfunctional.\n",
        "- There are missing values in H1-1 and H2-1 but there aren't any in their lengths (replace 0 with NaN).\n",
        "- Size Bytes (0 may mean empty content)\n",
        "- Rows with Word Count = 0 must be removed (but we have first to check its content type)\n",
        "- Columns with small number of Sentence Count must be removed (check content type) + Average Words Per Sentence  \n",
        "- Check for indirect duplicates.\n"
      ],
      "metadata": {
        "id": "1LE41X07KRhj"
      }
    },
    {
      "cell_type": "markdown",
      "source": [
        "- Size (bytes) column: there are more than 19000 rows with size = 0, after trying the links I found out that links with content type=html are functional whereas links with type pdf are dysfunctionnal.\n",
        "- There are many addresses with status code 200 and status ok but then they show 400 not found\n",
        "\n",
        "\n",
        "\n"
      ],
      "metadata": {
        "id": "7ACkJzfQRqEQ"
      }
    },
    {
      "cell_type": "markdown",
      "source": [
        "# Dataset Division"
      ],
      "metadata": {
        "id": "4qC1KZZkWLWY"
      }
    },
    {
      "cell_type": "code",
      "source": [
        "df['Content Type'].value_counts()"
      ],
      "metadata": {
        "colab": {
          "base_uri": "https://localhost:8080/"
        },
        "id": "xcS3wLpgWx0v",
        "outputId": "c954a6a0-dc08-42a5-d4c7-3ad27343866b"
      },
      "execution_count": null,
      "outputs": [
        {
          "output_type": "execute_result",
          "data": {
            "text/plain": [
              "html    1045429\n",
              "pdf       39276\n",
              "Name: Content Type, dtype: int64"
            ]
          },
          "metadata": {},
          "execution_count": 121
        }
      ]
    },
    {
      "cell_type": "code",
      "execution_count": null,
      "metadata": {
        "id": "vYmIMXFdqIVD",
        "colab": {
          "base_uri": "https://localhost:8080/"
        },
        "outputId": "5c37b618-c1a7-4841-8166-8fad45162694"
      },
      "outputs": [
        {
          "output_type": "execute_result",
          "data": {
            "text/plain": [
              "(39276, 35)"
            ]
          },
          "metadata": {},
          "execution_count": 122
        }
      ],
      "source": [
        "pdf = df[df['Content Type'] == 'pdf']\n",
        "pdf.shape"
      ]
    },
    {
      "cell_type": "code",
      "execution_count": null,
      "metadata": {
        "id": "oCfflKYjqIXS",
        "colab": {
          "base_uri": "https://localhost:8080/"
        },
        "outputId": "838de8c0-aa67-403e-abd9-be1b56990169"
      },
      "outputs": [
        {
          "output_type": "execute_result",
          "data": {
            "text/plain": [
              "(1045429, 35)"
            ]
          },
          "metadata": {},
          "execution_count": 123
        }
      ],
      "source": [
        "html = df[df['Content Type'] == 'html']\n",
        "html.shape"
      ]
    },
    {
      "cell_type": "markdown",
      "source": [
        "Now let's focus on each dataset seperately"
      ],
      "metadata": {
        "id": "U38_P4O4Xcvr"
      }
    },
    {
      "cell_type": "markdown",
      "source": [
        "## PDF dataset"
      ],
      "metadata": {
        "id": "rE7rpLcgXslh"
      }
    },
    {
      "cell_type": "code",
      "execution_count": null,
      "metadata": {
        "id": "F6lI7vgEqIZM",
        "colab": {
          "base_uri": "https://localhost:8080/",
          "height": 372
        },
        "outputId": "b95faa78-f124-47c9-f110-3309ffb36cee"
      },
      "outputs": [
        {
          "output_type": "execute_result",
          "data": {
            "text/plain": [
              "       Status Code  Title 1 Length  Title 1 Pixel Width  \\\n",
              "count      39276.0     8643.000000          8643.000000   \n",
              "mean         200.0       34.143584           320.824251   \n",
              "std            0.0       28.322176           286.503534   \n",
              "min          200.0        1.000000             0.000000   \n",
              "25%          200.0       17.000000           157.000000   \n",
              "50%          200.0       26.000000           259.000000   \n",
              "75%          200.0       43.000000           395.000000   \n",
              "max          200.0      343.000000          3250.000000   \n",
              "\n",
              "       Meta Description 1 Length  Meta Description 1 Pixel Width  \\\n",
              "count                        0.0                             0.0   \n",
              "mean                         NaN                             NaN   \n",
              "std                          NaN                             NaN   \n",
              "min                          NaN                             NaN   \n",
              "25%                          NaN                             NaN   \n",
              "50%                          NaN                             NaN   \n",
              "75%                          NaN                             NaN   \n",
              "max                          NaN                             NaN   \n",
              "\n",
              "       Meta Keywords 1 Length  H1-1 Length  H2-1 Length  Size (bytes)  \\\n",
              "count              127.000000          0.0          0.0  3.927600e+04   \n",
              "mean                13.267717          NaN          NaN  5.401944e+05   \n",
              "std                 14.651750          NaN          NaN  4.096860e+06   \n",
              "min                  1.000000          NaN          NaN  0.000000e+00   \n",
              "25%                  4.000000          NaN          NaN  0.000000e+00   \n",
              "50%                 11.000000          NaN          NaN  3.129600e+04   \n",
              "75%                 15.000000          NaN          NaN  2.532802e+05   \n",
              "max                106.000000          NaN          NaN  3.385301e+08   \n",
              "\n",
              "       Word Count  Sentence Count  Average Words Per Sentence  \\\n",
              "count     39276.0             0.0                         0.0   \n",
              "mean          0.0             NaN                         NaN   \n",
              "std           0.0             NaN                         NaN   \n",
              "min           0.0             NaN                         NaN   \n",
              "25%           0.0             NaN                         NaN   \n",
              "50%           0.0             NaN                         NaN   \n",
              "75%           0.0             NaN                         NaN   \n",
              "max           0.0             NaN                         NaN   \n",
              "\n",
              "       Flesch Reading Ease Score  Text Ratio   Crawl Depth  Response Time  \\\n",
              "count                        0.0     39276.0  38470.000000   39276.000000   \n",
              "mean                         NaN         0.0     10.705641       0.168429   \n",
              "std                          NaN         0.0     18.413720       0.456006   \n",
              "min                          NaN         0.0      1.000000       0.008000   \n",
              "25%                          NaN         0.0      3.000000       0.052000   \n",
              "50%                          NaN         0.0      4.000000       0.111000   \n",
              "75%                          NaN         0.0      9.000000       0.183000   \n",
              "max                          NaN         0.0    183.000000      20.234000   \n",
              "\n",
              "       PDF Page Count  \n",
              "count    39276.000000  \n",
              "mean         4.636852  \n",
              "std         19.214837  \n",
              "min          0.000000  \n",
              "25%          0.000000  \n",
              "50%          1.000000  \n",
              "75%          3.000000  \n",
              "max        621.000000  "
            ],
            "text/html": [
              "\n",
              "  <div id=\"df-8de00e48-b503-491c-84b2-51fabb34c7c6\" class=\"colab-df-container\">\n",
              "    <div>\n",
              "<style scoped>\n",
              "    .dataframe tbody tr th:only-of-type {\n",
              "        vertical-align: middle;\n",
              "    }\n",
              "\n",
              "    .dataframe tbody tr th {\n",
              "        vertical-align: top;\n",
              "    }\n",
              "\n",
              "    .dataframe thead th {\n",
              "        text-align: right;\n",
              "    }\n",
              "</style>\n",
              "<table border=\"1\" class=\"dataframe\">\n",
              "  <thead>\n",
              "    <tr style=\"text-align: right;\">\n",
              "      <th></th>\n",
              "      <th>Status Code</th>\n",
              "      <th>Title 1 Length</th>\n",
              "      <th>Title 1 Pixel Width</th>\n",
              "      <th>Meta Description 1 Length</th>\n",
              "      <th>Meta Description 1 Pixel Width</th>\n",
              "      <th>Meta Keywords 1 Length</th>\n",
              "      <th>H1-1 Length</th>\n",
              "      <th>H2-1 Length</th>\n",
              "      <th>Size (bytes)</th>\n",
              "      <th>Word Count</th>\n",
              "      <th>Sentence Count</th>\n",
              "      <th>Average Words Per Sentence</th>\n",
              "      <th>Flesch Reading Ease Score</th>\n",
              "      <th>Text Ratio</th>\n",
              "      <th>Crawl Depth</th>\n",
              "      <th>Response Time</th>\n",
              "      <th>PDF Page Count</th>\n",
              "    </tr>\n",
              "  </thead>\n",
              "  <tbody>\n",
              "    <tr>\n",
              "      <th>count</th>\n",
              "      <td>39276.0</td>\n",
              "      <td>8643.000000</td>\n",
              "      <td>8643.000000</td>\n",
              "      <td>0.0</td>\n",
              "      <td>0.0</td>\n",
              "      <td>127.000000</td>\n",
              "      <td>0.0</td>\n",
              "      <td>0.0</td>\n",
              "      <td>3.927600e+04</td>\n",
              "      <td>39276.0</td>\n",
              "      <td>0.0</td>\n",
              "      <td>0.0</td>\n",
              "      <td>0.0</td>\n",
              "      <td>39276.0</td>\n",
              "      <td>38470.000000</td>\n",
              "      <td>39276.000000</td>\n",
              "      <td>39276.000000</td>\n",
              "    </tr>\n",
              "    <tr>\n",
              "      <th>mean</th>\n",
              "      <td>200.0</td>\n",
              "      <td>34.143584</td>\n",
              "      <td>320.824251</td>\n",
              "      <td>NaN</td>\n",
              "      <td>NaN</td>\n",
              "      <td>13.267717</td>\n",
              "      <td>NaN</td>\n",
              "      <td>NaN</td>\n",
              "      <td>5.401944e+05</td>\n",
              "      <td>0.0</td>\n",
              "      <td>NaN</td>\n",
              "      <td>NaN</td>\n",
              "      <td>NaN</td>\n",
              "      <td>0.0</td>\n",
              "      <td>10.705641</td>\n",
              "      <td>0.168429</td>\n",
              "      <td>4.636852</td>\n",
              "    </tr>\n",
              "    <tr>\n",
              "      <th>std</th>\n",
              "      <td>0.0</td>\n",
              "      <td>28.322176</td>\n",
              "      <td>286.503534</td>\n",
              "      <td>NaN</td>\n",
              "      <td>NaN</td>\n",
              "      <td>14.651750</td>\n",
              "      <td>NaN</td>\n",
              "      <td>NaN</td>\n",
              "      <td>4.096860e+06</td>\n",
              "      <td>0.0</td>\n",
              "      <td>NaN</td>\n",
              "      <td>NaN</td>\n",
              "      <td>NaN</td>\n",
              "      <td>0.0</td>\n",
              "      <td>18.413720</td>\n",
              "      <td>0.456006</td>\n",
              "      <td>19.214837</td>\n",
              "    </tr>\n",
              "    <tr>\n",
              "      <th>min</th>\n",
              "      <td>200.0</td>\n",
              "      <td>1.000000</td>\n",
              "      <td>0.000000</td>\n",
              "      <td>NaN</td>\n",
              "      <td>NaN</td>\n",
              "      <td>1.000000</td>\n",
              "      <td>NaN</td>\n",
              "      <td>NaN</td>\n",
              "      <td>0.000000e+00</td>\n",
              "      <td>0.0</td>\n",
              "      <td>NaN</td>\n",
              "      <td>NaN</td>\n",
              "      <td>NaN</td>\n",
              "      <td>0.0</td>\n",
              "      <td>1.000000</td>\n",
              "      <td>0.008000</td>\n",
              "      <td>0.000000</td>\n",
              "    </tr>\n",
              "    <tr>\n",
              "      <th>25%</th>\n",
              "      <td>200.0</td>\n",
              "      <td>17.000000</td>\n",
              "      <td>157.000000</td>\n",
              "      <td>NaN</td>\n",
              "      <td>NaN</td>\n",
              "      <td>4.000000</td>\n",
              "      <td>NaN</td>\n",
              "      <td>NaN</td>\n",
              "      <td>0.000000e+00</td>\n",
              "      <td>0.0</td>\n",
              "      <td>NaN</td>\n",
              "      <td>NaN</td>\n",
              "      <td>NaN</td>\n",
              "      <td>0.0</td>\n",
              "      <td>3.000000</td>\n",
              "      <td>0.052000</td>\n",
              "      <td>0.000000</td>\n",
              "    </tr>\n",
              "    <tr>\n",
              "      <th>50%</th>\n",
              "      <td>200.0</td>\n",
              "      <td>26.000000</td>\n",
              "      <td>259.000000</td>\n",
              "      <td>NaN</td>\n",
              "      <td>NaN</td>\n",
              "      <td>11.000000</td>\n",
              "      <td>NaN</td>\n",
              "      <td>NaN</td>\n",
              "      <td>3.129600e+04</td>\n",
              "      <td>0.0</td>\n",
              "      <td>NaN</td>\n",
              "      <td>NaN</td>\n",
              "      <td>NaN</td>\n",
              "      <td>0.0</td>\n",
              "      <td>4.000000</td>\n",
              "      <td>0.111000</td>\n",
              "      <td>1.000000</td>\n",
              "    </tr>\n",
              "    <tr>\n",
              "      <th>75%</th>\n",
              "      <td>200.0</td>\n",
              "      <td>43.000000</td>\n",
              "      <td>395.000000</td>\n",
              "      <td>NaN</td>\n",
              "      <td>NaN</td>\n",
              "      <td>15.000000</td>\n",
              "      <td>NaN</td>\n",
              "      <td>NaN</td>\n",
              "      <td>2.532802e+05</td>\n",
              "      <td>0.0</td>\n",
              "      <td>NaN</td>\n",
              "      <td>NaN</td>\n",
              "      <td>NaN</td>\n",
              "      <td>0.0</td>\n",
              "      <td>9.000000</td>\n",
              "      <td>0.183000</td>\n",
              "      <td>3.000000</td>\n",
              "    </tr>\n",
              "    <tr>\n",
              "      <th>max</th>\n",
              "      <td>200.0</td>\n",
              "      <td>343.000000</td>\n",
              "      <td>3250.000000</td>\n",
              "      <td>NaN</td>\n",
              "      <td>NaN</td>\n",
              "      <td>106.000000</td>\n",
              "      <td>NaN</td>\n",
              "      <td>NaN</td>\n",
              "      <td>3.385301e+08</td>\n",
              "      <td>0.0</td>\n",
              "      <td>NaN</td>\n",
              "      <td>NaN</td>\n",
              "      <td>NaN</td>\n",
              "      <td>0.0</td>\n",
              "      <td>183.000000</td>\n",
              "      <td>20.234000</td>\n",
              "      <td>621.000000</td>\n",
              "    </tr>\n",
              "  </tbody>\n",
              "</table>\n",
              "</div>\n",
              "    <div class=\"colab-df-buttons\">\n",
              "\n",
              "  <div class=\"colab-df-container\">\n",
              "    <button class=\"colab-df-convert\" onclick=\"convertToInteractive('df-8de00e48-b503-491c-84b2-51fabb34c7c6')\"\n",
              "            title=\"Convert this dataframe to an interactive table.\"\n",
              "            style=\"display:none;\">\n",
              "\n",
              "  <svg xmlns=\"http://www.w3.org/2000/svg\" height=\"24px\" viewBox=\"0 -960 960 960\">\n",
              "    <path d=\"M120-120v-720h720v720H120Zm60-500h600v-160H180v160Zm220 220h160v-160H400v160Zm0 220h160v-160H400v160ZM180-400h160v-160H180v160Zm440 0h160v-160H620v160ZM180-180h160v-160H180v160Zm440 0h160v-160H620v160Z\"/>\n",
              "  </svg>\n",
              "    </button>\n",
              "\n",
              "  <style>\n",
              "    .colab-df-container {\n",
              "      display:flex;\n",
              "      gap: 12px;\n",
              "    }\n",
              "\n",
              "    .colab-df-convert {\n",
              "      background-color: #E8F0FE;\n",
              "      border: none;\n",
              "      border-radius: 50%;\n",
              "      cursor: pointer;\n",
              "      display: none;\n",
              "      fill: #1967D2;\n",
              "      height: 32px;\n",
              "      padding: 0 0 0 0;\n",
              "      width: 32px;\n",
              "    }\n",
              "\n",
              "    .colab-df-convert:hover {\n",
              "      background-color: #E2EBFA;\n",
              "      box-shadow: 0px 1px 2px rgba(60, 64, 67, 0.3), 0px 1px 3px 1px rgba(60, 64, 67, 0.15);\n",
              "      fill: #174EA6;\n",
              "    }\n",
              "\n",
              "    .colab-df-buttons div {\n",
              "      margin-bottom: 4px;\n",
              "    }\n",
              "\n",
              "    [theme=dark] .colab-df-convert {\n",
              "      background-color: #3B4455;\n",
              "      fill: #D2E3FC;\n",
              "    }\n",
              "\n",
              "    [theme=dark] .colab-df-convert:hover {\n",
              "      background-color: #434B5C;\n",
              "      box-shadow: 0px 1px 3px 1px rgba(0, 0, 0, 0.15);\n",
              "      filter: drop-shadow(0px 1px 2px rgba(0, 0, 0, 0.3));\n",
              "      fill: #FFFFFF;\n",
              "    }\n",
              "  </style>\n",
              "\n",
              "    <script>\n",
              "      const buttonEl =\n",
              "        document.querySelector('#df-8de00e48-b503-491c-84b2-51fabb34c7c6 button.colab-df-convert');\n",
              "      buttonEl.style.display =\n",
              "        google.colab.kernel.accessAllowed ? 'block' : 'none';\n",
              "\n",
              "      async function convertToInteractive(key) {\n",
              "        const element = document.querySelector('#df-8de00e48-b503-491c-84b2-51fabb34c7c6');\n",
              "        const dataTable =\n",
              "          await google.colab.kernel.invokeFunction('convertToInteractive',\n",
              "                                                    [key], {});\n",
              "        if (!dataTable) return;\n",
              "\n",
              "        const docLinkHtml = 'Like what you see? Visit the ' +\n",
              "          '<a target=\"_blank\" href=https://colab.research.google.com/notebooks/data_table.ipynb>data table notebook</a>'\n",
              "          + ' to learn more about interactive tables.';\n",
              "        element.innerHTML = '';\n",
              "        dataTable['output_type'] = 'display_data';\n",
              "        await google.colab.output.renderOutput(dataTable, element);\n",
              "        const docLink = document.createElement('div');\n",
              "        docLink.innerHTML = docLinkHtml;\n",
              "        element.appendChild(docLink);\n",
              "      }\n",
              "    </script>\n",
              "  </div>\n",
              "\n",
              "\n",
              "<div id=\"df-8c4f30b0-557e-4ce9-a51b-4a1dcc14c136\">\n",
              "  <button class=\"colab-df-quickchart\" onclick=\"quickchart('df-8c4f30b0-557e-4ce9-a51b-4a1dcc14c136')\"\n",
              "            title=\"Suggest charts.\"\n",
              "            style=\"display:none;\">\n",
              "\n",
              "<svg xmlns=\"http://www.w3.org/2000/svg\" height=\"24px\"viewBox=\"0 0 24 24\"\n",
              "     width=\"24px\">\n",
              "    <g>\n",
              "        <path d=\"M19 3H5c-1.1 0-2 .9-2 2v14c0 1.1.9 2 2 2h14c1.1 0 2-.9 2-2V5c0-1.1-.9-2-2-2zM9 17H7v-7h2v7zm4 0h-2V7h2v10zm4 0h-2v-4h2v4z\"/>\n",
              "    </g>\n",
              "</svg>\n",
              "  </button>\n",
              "\n",
              "<style>\n",
              "  .colab-df-quickchart {\n",
              "    background-color: #E8F0FE;\n",
              "    border: none;\n",
              "    border-radius: 50%;\n",
              "    cursor: pointer;\n",
              "    display: none;\n",
              "    fill: #1967D2;\n",
              "    height: 32px;\n",
              "    padding: 0 0 0 0;\n",
              "    width: 32px;\n",
              "  }\n",
              "\n",
              "  .colab-df-quickchart:hover {\n",
              "    background-color: #E2EBFA;\n",
              "    box-shadow: 0px 1px 2px rgba(60, 64, 67, 0.3), 0px 1px 3px 1px rgba(60, 64, 67, 0.15);\n",
              "    fill: #174EA6;\n",
              "  }\n",
              "\n",
              "  [theme=dark] .colab-df-quickchart {\n",
              "    background-color: #3B4455;\n",
              "    fill: #D2E3FC;\n",
              "  }\n",
              "\n",
              "  [theme=dark] .colab-df-quickchart:hover {\n",
              "    background-color: #434B5C;\n",
              "    box-shadow: 0px 1px 3px 1px rgba(0, 0, 0, 0.15);\n",
              "    filter: drop-shadow(0px 1px 2px rgba(0, 0, 0, 0.3));\n",
              "    fill: #FFFFFF;\n",
              "  }\n",
              "</style>\n",
              "\n",
              "  <script>\n",
              "    async function quickchart(key) {\n",
              "      const charts = await google.colab.kernel.invokeFunction(\n",
              "          'suggestCharts', [key], {});\n",
              "    }\n",
              "    (() => {\n",
              "      let quickchartButtonEl =\n",
              "        document.querySelector('#df-8c4f30b0-557e-4ce9-a51b-4a1dcc14c136 button');\n",
              "      quickchartButtonEl.style.display =\n",
              "        google.colab.kernel.accessAllowed ? 'block' : 'none';\n",
              "    })();\n",
              "  </script>\n",
              "</div>\n",
              "    </div>\n",
              "  </div>\n"
            ]
          },
          "metadata": {},
          "execution_count": 124
        }
      ],
      "source": [
        "pdf.describe()"
      ]
    },
    {
      "cell_type": "code",
      "source": [
        "pdf.isnull().sum()"
      ],
      "metadata": {
        "colab": {
          "base_uri": "https://localhost:8080/"
        },
        "id": "tYisZwVlYjOY",
        "outputId": "93cd1bd6-ee16-4048-842d-47b6b720c40d"
      },
      "execution_count": null,
      "outputs": [
        {
          "output_type": "execute_result",
          "data": {
            "text/plain": [
              "Address                               0\n",
              "Content Type                          0\n",
              "Status Code                           0\n",
              "Status                                0\n",
              "Indexability                          0\n",
              "Indexability Status               39038\n",
              "Title 1                           30633\n",
              "Title 1 Length                    30633\n",
              "Title 1 Pixel Width               30633\n",
              "Meta Description 1                39276\n",
              "Meta Description 1 Length         39276\n",
              "Meta Description 1 Pixel Width    39276\n",
              "Meta Keywords 1                   39149\n",
              "Meta Keywords 1 Length            39149\n",
              "H1-1                              39276\n",
              "H1-1 Length                       39276\n",
              "H2-1                              39276\n",
              "H2-1 Length                       39276\n",
              "Meta Robots 1                     39276\n",
              "Size (bytes)                          0\n",
              "Word Count                            0\n",
              "Sentence Count                    39276\n",
              "Average Words Per Sentence        39276\n",
              "Flesch Reading Ease Score         39276\n",
              "Readability                       39276\n",
              "Text Ratio                            0\n",
              "Crawl Depth                         806\n",
              "Hash                              39276\n",
              "Response Time                         0\n",
              "Last Modified                      9427\n",
              "PDF Subject                       38903\n",
              "PDF Author                        25779\n",
              "PDF Created                       18027\n",
              "PDF Modified                      19520\n",
              "PDF Page Count                        0\n",
              "dtype: int64"
            ]
          },
          "metadata": {},
          "execution_count": 125
        }
      ]
    },
    {
      "cell_type": "code",
      "source": [
        "# Remove columns with more than 39000 missing values\n",
        "pdf.dropna(thresh=(len(pdf)-39000), axis=1, inplace=True)"
      ],
      "metadata": {
        "colab": {
          "base_uri": "https://localhost:8080/"
        },
        "id": "cpZV80wnYqaD",
        "outputId": "b52ad928-e546-4909-cf20-768928c78712"
      },
      "execution_count": null,
      "outputs": [
        {
          "output_type": "stream",
          "name": "stderr",
          "text": [
            "<ipython-input-126-8f2e06c41c06>:2: SettingWithCopyWarning: \n",
            "A value is trying to be set on a copy of a slice from a DataFrame\n",
            "\n",
            "See the caveats in the documentation: https://pandas.pydata.org/pandas-docs/stable/user_guide/indexing.html#returning-a-view-versus-a-copy\n",
            "  pdf.dropna(thresh=(len(pdf)-39000), axis=1, inplace=True)\n"
          ]
        }
      ]
    },
    {
      "cell_type": "code",
      "source": [
        "pdf.isna().sum()"
      ],
      "metadata": {
        "colab": {
          "base_uri": "https://localhost:8080/"
        },
        "id": "oG3zzxsvatHn",
        "outputId": "e37b9184-1b9b-4429-c7c1-d7e54449c501"
      },
      "execution_count": null,
      "outputs": [
        {
          "output_type": "execute_result",
          "data": {
            "text/plain": [
              "Address                    0\n",
              "Content Type               0\n",
              "Status Code                0\n",
              "Status                     0\n",
              "Indexability               0\n",
              "Title 1                30633\n",
              "Title 1 Length         30633\n",
              "Title 1 Pixel Width    30633\n",
              "Size (bytes)               0\n",
              "Word Count                 0\n",
              "Text Ratio                 0\n",
              "Crawl Depth              806\n",
              "Response Time              0\n",
              "Last Modified           9427\n",
              "PDF Subject            38903\n",
              "PDF Author             25779\n",
              "PDF Created            18027\n",
              "PDF Modified           19520\n",
              "PDF Page Count             0\n",
              "dtype: int64"
            ]
          },
          "metadata": {},
          "execution_count": 127
        }
      ]
    },
    {
      "cell_type": "code",
      "source": [
        "# Remove unneeded columns\n",
        "unneeded = ['Title 1', 'Title 1 Length', 'Title 1 Pixel Width', 'Word Count', 'Text Ratio', 'Response Time', 'Content Type', 'Status Code', 'Status']\n",
        "pdf.drop(unneeded, axis=1, inplace=True)"
      ],
      "metadata": {
        "colab": {
          "base_uri": "https://localhost:8080/"
        },
        "id": "plrfWY2Nb598",
        "outputId": "cce5391d-253a-4034-fa80-17ee9d838332"
      },
      "execution_count": null,
      "outputs": [
        {
          "output_type": "stream",
          "name": "stderr",
          "text": [
            "<ipython-input-128-185c5ff9fff6>:3: SettingWithCopyWarning: \n",
            "A value is trying to be set on a copy of a slice from a DataFrame\n",
            "\n",
            "See the caveats in the documentation: https://pandas.pydata.org/pandas-docs/stable/user_guide/indexing.html#returning-a-view-versus-a-copy\n",
            "  pdf.drop(unneeded, axis=1, inplace=True)\n"
          ]
        }
      ]
    },
    {
      "cell_type": "code",
      "source": [
        "pdf.columns"
      ],
      "metadata": {
        "colab": {
          "base_uri": "https://localhost:8080/"
        },
        "id": "eKqkQyzIf_B1",
        "outputId": "9c129080-e0a7-4c46-8aef-24e3a76d2aa2"
      },
      "execution_count": null,
      "outputs": [
        {
          "output_type": "execute_result",
          "data": {
            "text/plain": [
              "Index(['Address', 'Indexability', 'Size (bytes)', 'Crawl Depth',\n",
              "       'Last Modified', 'PDF Subject', 'PDF Author', 'PDF Created',\n",
              "       'PDF Modified', 'PDF Page Count'],\n",
              "      dtype='object')"
            ]
          },
          "metadata": {},
          "execution_count": 129
        }
      ]
    },
    {
      "cell_type": "markdown",
      "source": [
        "## HTML dataset"
      ],
      "metadata": {
        "id": "opJgu8QRp_VA"
      }
    },
    {
      "cell_type": "code",
      "source": [
        "html.isna().sum()"
      ],
      "metadata": {
        "colab": {
          "base_uri": "https://localhost:8080/"
        },
        "id": "ocY32s4bp-qU",
        "outputId": "8453fec9-849c-4051-e32d-b202b92ba1bb"
      },
      "execution_count": null,
      "outputs": [
        {
          "output_type": "execute_result",
          "data": {
            "text/plain": [
              "Address                                 0\n",
              "Content Type                            0\n",
              "Status Code                             0\n",
              "Status                                  4\n",
              "Indexability                            0\n",
              "Indexability Status                929000\n",
              "Title 1                             16287\n",
              "Title 1 Length                      16287\n",
              "Title 1 Pixel Width                 16287\n",
              "Meta Description 1                 218645\n",
              "Meta Description 1 Length          218645\n",
              "Meta Description 1 Pixel Width     218645\n",
              "Meta Keywords 1                    288356\n",
              "Meta Keywords 1 Length             288356\n",
              "H1-1                               800631\n",
              "H1-1 Length                        800631\n",
              "H2-1                               632117\n",
              "H2-1 Length                        632117\n",
              "Meta Robots 1                      956280\n",
              "Size (bytes)                            0\n",
              "Word Count                              0\n",
              "Sentence Count                       2967\n",
              "Average Words Per Sentence           2967\n",
              "Flesch Reading Ease Score            2967\n",
              "Readability                          2967\n",
              "Text Ratio                              0\n",
              "Crawl Depth                          3374\n",
              "Hash                                  322\n",
              "Response Time                           0\n",
              "Last Modified                      926025\n",
              "PDF Subject                       1045429\n",
              "PDF Author                        1045429\n",
              "PDF Created                       1045429\n",
              "PDF Modified                      1045429\n",
              "PDF Page Count                          0\n",
              "dtype: int64"
            ]
          },
          "metadata": {},
          "execution_count": 130
        }
      ]
    },
    {
      "cell_type": "code",
      "source": [
        "# Remove columns with 100% NaN values\n",
        "html.dropna(how='all', axis=1, inplace=True)"
      ],
      "metadata": {
        "colab": {
          "base_uri": "https://localhost:8080/"
        },
        "id": "3O5BUKIPrV7B",
        "outputId": "d9acf128-9021-4011-d869-9332a8b8c767"
      },
      "execution_count": null,
      "outputs": [
        {
          "output_type": "stream",
          "name": "stderr",
          "text": [
            "<ipython-input-131-e236ad3206ca>:2: SettingWithCopyWarning: \n",
            "A value is trying to be set on a copy of a slice from a DataFrame\n",
            "\n",
            "See the caveats in the documentation: https://pandas.pydata.org/pandas-docs/stable/user_guide/indexing.html#returning-a-view-versus-a-copy\n",
            "  html.dropna(how='all', axis=1, inplace=True)\n"
          ]
        }
      ]
    },
    {
      "cell_type": "code",
      "source": [
        "html = html[~html['Status'].isna()]"
      ],
      "metadata": {
        "id": "-9wd44LHd9K4"
      },
      "execution_count": null,
      "outputs": []
    },
    {
      "cell_type": "code",
      "source": [
        "html.isna().sum()"
      ],
      "metadata": {
        "colab": {
          "base_uri": "https://localhost:8080/"
        },
        "id": "v_Ad0vWisJ3Z",
        "outputId": "5f9b655e-178c-4d1e-9d3f-a747ef20f3e6"
      },
      "execution_count": null,
      "outputs": [
        {
          "output_type": "execute_result",
          "data": {
            "text/plain": [
              "Address                                0\n",
              "Content Type                           0\n",
              "Status Code                            0\n",
              "Status                                 0\n",
              "Indexability                           0\n",
              "Indexability Status               928996\n",
              "Title 1                            16286\n",
              "Title 1 Length                     16286\n",
              "Title 1 Pixel Width                16286\n",
              "Meta Description 1                218641\n",
              "Meta Description 1 Length         218641\n",
              "Meta Description 1 Pixel Width    218641\n",
              "Meta Keywords 1                   288352\n",
              "Meta Keywords 1 Length            288352\n",
              "H1-1                              800628\n",
              "H1-1 Length                       800628\n",
              "H2-1                              632113\n",
              "H2-1 Length                       632113\n",
              "Meta Robots 1                     956276\n",
              "Size (bytes)                           0\n",
              "Word Count                             0\n",
              "Sentence Count                      2965\n",
              "Average Words Per Sentence          2965\n",
              "Flesch Reading Ease Score           2965\n",
              "Readability                         2965\n",
              "Text Ratio                             0\n",
              "Crawl Depth                         3374\n",
              "Hash                                 322\n",
              "Response Time                          0\n",
              "Last Modified                     926022\n",
              "PDF Page Count                         0\n",
              "dtype: int64"
            ]
          },
          "metadata": {},
          "execution_count": 133
        }
      ]
    },
    {
      "cell_type": "code",
      "source": [
        "# Drop unnecessary columns\n",
        "columns_to_drop = ['Content Type', 'Status Code', 'Crawl Depth', 'Hash', 'PDF Page Count', 'Response Time']\n",
        "html.drop(columns_to_drop, axis=1, inplace=True)"
      ],
      "metadata": {
        "id": "-KfoDdb5savi"
      },
      "execution_count": null,
      "outputs": []
    },
    {
      "cell_type": "code",
      "source": [
        "html['Status'].value_counts(dropna=False)"
      ],
      "metadata": {
        "colab": {
          "base_uri": "https://localhost:8080/"
        },
        "id": "2QNEA7YfPVc_",
        "outputId": "76e7ae75-1630-4f03-a672-51dedb2c295c"
      },
      "execution_count": null,
      "outputs": [
        {
          "output_type": "execute_result",
          "data": {
            "text/plain": [
              "OK                                  1045061\n",
              "Connexion refusée                       221\n",
              "Expiration du délai de connexion        101\n",
              "200                                      42\n",
              "Name: Status, dtype: int64"
            ]
          },
          "metadata": {},
          "execution_count": 135
        }
      ]
    },
    {
      "cell_type": "code",
      "source": [
        "html['Status'] = html['Status'].str.replace('200','OK')"
      ],
      "metadata": {
        "id": "j2o-7S_BdIdM"
      },
      "execution_count": null,
      "outputs": []
    },
    {
      "cell_type": "code",
      "source": [
        "# Remove rows with Status = Connexion refusée\n",
        "html = html[~(html['Status'] == 'Connexion refusée')]"
      ],
      "metadata": {
        "id": "axOVVL0DUdPj"
      },
      "execution_count": null,
      "outputs": []
    },
    {
      "cell_type": "code",
      "source": [
        "html['Status'].value_counts(dropna=False)"
      ],
      "metadata": {
        "colab": {
          "base_uri": "https://localhost:8080/"
        },
        "id": "ve5mnRZzdYQd",
        "outputId": "fcf7c326-a5cb-4a44-cd9e-4f0d824ecfd9"
      },
      "execution_count": null,
      "outputs": [
        {
          "output_type": "execute_result",
          "data": {
            "text/plain": [
              "OK                                  1045103\n",
              "Expiration du délai de connexion        101\n",
              "Name: Status, dtype: int64"
            ]
          },
          "metadata": {},
          "execution_count": 138
        }
      ]
    },
    {
      "cell_type": "code",
      "source": [
        "html['Indexability'].value_counts(dropna=False)"
      ],
      "metadata": {
        "colab": {
          "base_uri": "https://localhost:8080/"
        },
        "id": "UxaKoyB2aTTt",
        "outputId": "65bfd094-9f1d-4bc8-d0ec-43e6b0f529ae"
      },
      "execution_count": null,
      "outputs": [
        {
          "output_type": "execute_result",
          "data": {
            "text/plain": [
              "Indexable        928775\n",
              "Non-Indexable    116429\n",
              "Name: Indexability, dtype: int64"
            ]
          },
          "metadata": {},
          "execution_count": 139
        }
      ]
    },
    {
      "cell_type": "code",
      "source": [
        "html[['Indexability','Indexability Status']].value_counts(dropna=False)"
      ],
      "metadata": {
        "colab": {
          "base_uri": "https://localhost:8080/"
        },
        "id": "Bt-B26vGgNMn",
        "outputId": "0e0c929f-b429-44af-a796-2c207a163db6"
      },
      "execution_count": null,
      "outputs": [
        {
          "output_type": "execute_result",
          "data": {
            "text/plain": [
              "Indexability   Indexability Status  \n",
              "Indexable      NaN                      928775\n",
              "Non-Indexable  Canonicalised            116047\n",
              "               noindex                     251\n",
              "               Canonicalised,noindex       103\n",
              "               Redirected                   28\n",
              "dtype: int64"
            ]
          },
          "metadata": {},
          "execution_count": 140
        }
      ]
    },
    {
      "cell_type": "code",
      "source": [
        "html[['Indexability','Meta Robots 1']].value_counts(dropna=False)"
      ],
      "metadata": {
        "colab": {
          "base_uri": "https://localhost:8080/"
        },
        "id": "1JHrWrQSkk-p",
        "outputId": "2d434ab9-bdf4-4c67-9e83-0edb1c9fc448"
      },
      "execution_count": null,
      "outputs": [
        {
          "output_type": "execute_result",
          "data": {
            "text/plain": [
              "Indexability   Meta Robots 1          \n",
              "Indexable      NaN                        840648\n",
              "Non-Indexable  NaN                        115407\n",
              "Indexable      index,follow                80951\n",
              "               max-image-preview:large      6755\n",
              "Non-Indexable  max-image-preview:large       528\n",
              "Indexable      noodp,noydir                  414\n",
              "Non-Indexable  noindex,follow                252\n",
              "               noodp,noydir                   97\n",
              "               noindex                        89\n",
              "               index,follow                   56\n",
              "Indexable      index                           7\n",
              "dtype: int64"
            ]
          },
          "metadata": {},
          "execution_count": 141
        }
      ]
    },
    {
      "cell_type": "code",
      "source": [
        "html = html[~html['Address'].str.contains('facebook', case=False)]\n",
        "html = html[~html['Address'].str.contains('twitter', case=False)]"
      ],
      "metadata": {
        "id": "xLyBYxcAVgTp"
      },
      "execution_count": null,
      "outputs": []
    },
    {
      "cell_type": "code",
      "source": [
        "html.columns"
      ],
      "metadata": {
        "colab": {
          "base_uri": "https://localhost:8080/"
        },
        "id": "m9X3Ne3nysVq",
        "outputId": "d5bb7c58-f7d6-4186-a67f-43405dcc4154"
      },
      "execution_count": null,
      "outputs": [
        {
          "output_type": "execute_result",
          "data": {
            "text/plain": [
              "Index(['Address', 'Status', 'Indexability', 'Indexability Status', 'Title 1',\n",
              "       'Title 1 Length', 'Title 1 Pixel Width', 'Meta Description 1',\n",
              "       'Meta Description 1 Length', 'Meta Description 1 Pixel Width',\n",
              "       'Meta Keywords 1', 'Meta Keywords 1 Length', 'H1-1', 'H1-1 Length',\n",
              "       'H2-1', 'H2-1 Length', 'Meta Robots 1', 'Size (bytes)', 'Word Count',\n",
              "       'Sentence Count', 'Average Words Per Sentence',\n",
              "       'Flesch Reading Ease Score', 'Readability', 'Text Ratio',\n",
              "       'Last Modified'],\n",
              "      dtype='object')"
            ]
          },
          "metadata": {},
          "execution_count": 143
        }
      ]
    },
    {
      "cell_type": "code",
      "source": [
        "html.shape"
      ],
      "metadata": {
        "colab": {
          "base_uri": "https://localhost:8080/"
        },
        "id": "vVIgxu_Q0NDI",
        "outputId": "a040e541-8489-465e-ca78-b4cfe3a9dff3"
      },
      "execution_count": null,
      "outputs": [
        {
          "output_type": "execute_result",
          "data": {
            "text/plain": [
              "(1045122, 25)"
            ]
          },
          "metadata": {},
          "execution_count": 144
        }
      ]
    },
    {
      "cell_type": "markdown",
      "source": [
        "In order to create two html datasets (High-Priority HTML and Low-Priority HTM), first of all we'll filter them based on this criteria:\n",
        "\n",
        "1) High-Priority HTML have:\n",
        "- 'Status = OK\n",
        "- 'Indexability' = Indexable   \n",
        "- 'Meta Robots 1' = index,follow\n",
        "\n",
        "2) Low-Priority HTML contains the rest of the dataset\n",
        "\n",
        "---\n",
        "\n",
        "Then we'll determine other caracteristics to filter out the High-Priority HTML: This dataset will consist (somehow) of URLs that contain the most critical data.\n",
        "\n",
        "Criteria (we have to create our formula for this):\n",
        "\n",
        "- Word counts\n",
        "- Sentence counts\n",
        "- The ratio of H2 to H1 tags\n",
        "- Originating URLs (maybe from Step 0 -data collection- ?)\n",
        "- Other relevant metrics\n",
        "\n",
        "We aim to apply strict criteria to ensure this tier's data quality. This dataset should not exceed 50,000 rows.\n",
        "\n",
        "\n",
        "        "
      ],
      "metadata": {
        "id": "XRUDokYRlfLd"
      }
    },
    {
      "cell_type": "code",
      "source": [
        "html['Meta Robots 1'].value_counts()"
      ],
      "metadata": {
        "colab": {
          "base_uri": "https://localhost:8080/"
        },
        "id": "to-b2im927nu",
        "outputId": "dec606ad-c4cb-485d-d1e7-06bffb726c45"
      },
      "execution_count": null,
      "outputs": [
        {
          "output_type": "execute_result",
          "data": {
            "text/plain": [
              "index,follow               81005\n",
              "max-image-preview:large     7283\n",
              "noodp,noydir                 511\n",
              "noindex,follow               252\n",
              "noindex                       89\n",
              "index                          7\n",
              "Name: Meta Robots 1, dtype: int64"
            ]
          },
          "metadata": {},
          "execution_count": 145
        }
      ]
    },
    {
      "cell_type": "code",
      "source": [
        "html.columns"
      ],
      "metadata": {
        "colab": {
          "base_uri": "https://localhost:8080/"
        },
        "id": "kATvP0HtDsw-",
        "outputId": "e9b7c02c-ab2a-46b0-ee83-bac991b4c63e"
      },
      "execution_count": null,
      "outputs": [
        {
          "output_type": "execute_result",
          "data": {
            "text/plain": [
              "Index(['Address', 'Status', 'Indexability', 'Indexability Status', 'Title 1',\n",
              "       'Title 1 Length', 'Title 1 Pixel Width', 'Meta Description 1',\n",
              "       'Meta Description 1 Length', 'Meta Description 1 Pixel Width',\n",
              "       'Meta Keywords 1', 'Meta Keywords 1 Length', 'H1-1', 'H1-1 Length',\n",
              "       'H2-1', 'H2-1 Length', 'Meta Robots 1', 'Size (bytes)', 'Word Count',\n",
              "       'Sentence Count', 'Average Words Per Sentence',\n",
              "       'Flesch Reading Ease Score', 'Readability', 'Text Ratio',\n",
              "       'Last Modified'],\n",
              "      dtype='object')"
            ]
          },
          "metadata": {},
          "execution_count": 146
        }
      ]
    },
    {
      "cell_type": "markdown",
      "source": [
        "## High-Priority HTML"
      ],
      "metadata": {
        "id": "J61LxUqK3BX1"
      }
    },
    {
      "cell_type": "code",
      "source": [
        "# Mark duplicated rows\n",
        "html['Is_Duplicate'] = html.duplicated(subset=['Title 1', 'Meta Description 1', 'Meta Keywords 1', 'H1-1', 'H2-1'], keep=False)\n",
        "\n",
        "# Count occurrences of each duplicated row\n",
        "duplicate_counts = html['Is_Duplicate'].value_counts()\n",
        "\n",
        "# Print duplicates count for each row\n",
        "print(duplicate_counts)"
      ],
      "metadata": {
        "colab": {
          "base_uri": "https://localhost:8080/"
        },
        "id": "h74o-dahhqeF",
        "outputId": "e4561d0d-68fb-4290-c759-720cbf5a810f"
      },
      "execution_count": null,
      "outputs": [
        {
          "output_type": "stream",
          "name": "stdout",
          "text": [
            "True     978677\n",
            "False     66445\n",
            "Name: Is_Duplicate, dtype: int64\n"
          ]
        }
      ]
    },
    {
      "cell_type": "code",
      "source": [
        "html[(html['Is_Duplicate']==True) & (html['Address'].str.contains('interieur', case=False))].head()"
      ],
      "metadata": {
        "colab": {
          "base_uri": "https://localhost:8080/",
          "height": 637
        },
        "id": "vOWEPq0lh5jc",
        "outputId": "8749bbec-fbbe-4207-aa11-894095a27533"
      },
      "execution_count": null,
      "outputs": [
        {
          "output_type": "execute_result",
          "data": {
            "text/plain": [
              "                                             Address Status Indexability  \\\n",
              "3  http://opendata.interieur.gov.tn/ar/datas/inde...     OK    Indexable   \n",
              "4  http://opendata.interieur.gov.tn/fr/outils/ind...     OK    Indexable   \n",
              "7  http://opendata.interieur.gov.tn/ar/catalog/re...     OK    Indexable   \n",
              "8  http://opendata.interieur.gov.tn/ar/outils/ind...     OK    Indexable   \n",
              "9  http://opendata.interieur.gov.tn/fr/outils/ind...     OK    Indexable   \n",
              "\n",
              "  Indexability Status                                            Title 1  \\\n",
              "3                 NaN             موقع البيانات المفتوحة لوزارة الداخلية   \n",
              "4                 NaN                                              قائمة   \n",
              "7                 NaN  توزيع حوادث الطرقات وضحاياها خلال شهر أوت 2014...   \n",
              "8                 NaN                                              قائمة   \n",
              "9                 NaN                                              قائمة   \n",
              "\n",
              "   Title 1 Length  Title 1 Pixel Width  \\\n",
              "3            38.0                326.0   \n",
              "4             5.0                 45.0   \n",
              "7            51.0                446.0   \n",
              "8             5.0                 45.0   \n",
              "9             5.0                 45.0   \n",
              "\n",
              "                                  Meta Description 1  \\\n",
              "3  Le site officiel des données ouvertes du Minis...   \n",
              "4  Le site officiel des données ouvertes du Minis...   \n",
              "7  Le site officiel des données ouvertes du Minis...   \n",
              "8  Le site officiel des données ouvertes du Minis...   \n",
              "9  Le site officiel des données ouvertes du Minis...   \n",
              "\n",
              "   Meta Description 1 Length  Meta Description 1 Pixel Width  ...  \\\n",
              "3                      120.0                           710.0  ...   \n",
              "4                      120.0                           710.0  ...   \n",
              "7                      120.0                           710.0  ...   \n",
              "8                      120.0                           710.0  ...   \n",
              "9                      120.0                           710.0  ...   \n",
              "\n",
              "  Meta Robots 1  Size (bytes) Word Count  Sentence Count  \\\n",
              "3           NaN         55755        621           184.0   \n",
              "4           NaN         51961        929           208.0   \n",
              "7           NaN         43159        379           108.0   \n",
              "8           NaN         50914        871           194.0   \n",
              "9           NaN         51285        929           208.0   \n",
              "\n",
              "  Average Words Per Sentence  Flesch Reading Ease Score  Readability  \\\n",
              "3                      3.375                     100.00    Very Easy   \n",
              "4                      4.466                      59.42  Fairly Hard   \n",
              "7                      3.509                     100.00    Very Easy   \n",
              "8                      4.490                     100.00    Very Easy   \n",
              "9                      4.466                      59.42  Fairly Hard   \n",
              "\n",
              "   Text Ratio  Last Modified  Is_Duplicate  \n",
              "3       8.492            NaT          True  \n",
              "4      13.425            NaT          True  \n",
              "7       7.319            NaT          True  \n",
              "8      12.109            NaT          True  \n",
              "9      13.602            NaT          True  \n",
              "\n",
              "[5 rows x 26 columns]"
            ],
            "text/html": [
              "\n",
              "  <div id=\"df-f2368546-9943-449b-bf41-6fdb7885a706\" class=\"colab-df-container\">\n",
              "    <div>\n",
              "<style scoped>\n",
              "    .dataframe tbody tr th:only-of-type {\n",
              "        vertical-align: middle;\n",
              "    }\n",
              "\n",
              "    .dataframe tbody tr th {\n",
              "        vertical-align: top;\n",
              "    }\n",
              "\n",
              "    .dataframe thead th {\n",
              "        text-align: right;\n",
              "    }\n",
              "</style>\n",
              "<table border=\"1\" class=\"dataframe\">\n",
              "  <thead>\n",
              "    <tr style=\"text-align: right;\">\n",
              "      <th></th>\n",
              "      <th>Address</th>\n",
              "      <th>Status</th>\n",
              "      <th>Indexability</th>\n",
              "      <th>Indexability Status</th>\n",
              "      <th>Title 1</th>\n",
              "      <th>Title 1 Length</th>\n",
              "      <th>Title 1 Pixel Width</th>\n",
              "      <th>Meta Description 1</th>\n",
              "      <th>Meta Description 1 Length</th>\n",
              "      <th>Meta Description 1 Pixel Width</th>\n",
              "      <th>...</th>\n",
              "      <th>Meta Robots 1</th>\n",
              "      <th>Size (bytes)</th>\n",
              "      <th>Word Count</th>\n",
              "      <th>Sentence Count</th>\n",
              "      <th>Average Words Per Sentence</th>\n",
              "      <th>Flesch Reading Ease Score</th>\n",
              "      <th>Readability</th>\n",
              "      <th>Text Ratio</th>\n",
              "      <th>Last Modified</th>\n",
              "      <th>Is_Duplicate</th>\n",
              "    </tr>\n",
              "  </thead>\n",
              "  <tbody>\n",
              "    <tr>\n",
              "      <th>3</th>\n",
              "      <td>http://opendata.interieur.gov.tn/ar/datas/inde...</td>\n",
              "      <td>OK</td>\n",
              "      <td>Indexable</td>\n",
              "      <td>NaN</td>\n",
              "      <td>موقع البيانات المفتوحة لوزارة الداخلية</td>\n",
              "      <td>38.0</td>\n",
              "      <td>326.0</td>\n",
              "      <td>Le site officiel des données ouvertes du Minis...</td>\n",
              "      <td>120.0</td>\n",
              "      <td>710.0</td>\n",
              "      <td>...</td>\n",
              "      <td>NaN</td>\n",
              "      <td>55755</td>\n",
              "      <td>621</td>\n",
              "      <td>184.0</td>\n",
              "      <td>3.375</td>\n",
              "      <td>100.00</td>\n",
              "      <td>Very Easy</td>\n",
              "      <td>8.492</td>\n",
              "      <td>NaT</td>\n",
              "      <td>True</td>\n",
              "    </tr>\n",
              "    <tr>\n",
              "      <th>4</th>\n",
              "      <td>http://opendata.interieur.gov.tn/fr/outils/ind...</td>\n",
              "      <td>OK</td>\n",
              "      <td>Indexable</td>\n",
              "      <td>NaN</td>\n",
              "      <td>قائمة</td>\n",
              "      <td>5.0</td>\n",
              "      <td>45.0</td>\n",
              "      <td>Le site officiel des données ouvertes du Minis...</td>\n",
              "      <td>120.0</td>\n",
              "      <td>710.0</td>\n",
              "      <td>...</td>\n",
              "      <td>NaN</td>\n",
              "      <td>51961</td>\n",
              "      <td>929</td>\n",
              "      <td>208.0</td>\n",
              "      <td>4.466</td>\n",
              "      <td>59.42</td>\n",
              "      <td>Fairly Hard</td>\n",
              "      <td>13.425</td>\n",
              "      <td>NaT</td>\n",
              "      <td>True</td>\n",
              "    </tr>\n",
              "    <tr>\n",
              "      <th>7</th>\n",
              "      <td>http://opendata.interieur.gov.tn/ar/catalog/re...</td>\n",
              "      <td>OK</td>\n",
              "      <td>Indexable</td>\n",
              "      <td>NaN</td>\n",
              "      <td>توزيع حوادث الطرقات وضحاياها خلال شهر أوت 2014...</td>\n",
              "      <td>51.0</td>\n",
              "      <td>446.0</td>\n",
              "      <td>Le site officiel des données ouvertes du Minis...</td>\n",
              "      <td>120.0</td>\n",
              "      <td>710.0</td>\n",
              "      <td>...</td>\n",
              "      <td>NaN</td>\n",
              "      <td>43159</td>\n",
              "      <td>379</td>\n",
              "      <td>108.0</td>\n",
              "      <td>3.509</td>\n",
              "      <td>100.00</td>\n",
              "      <td>Very Easy</td>\n",
              "      <td>7.319</td>\n",
              "      <td>NaT</td>\n",
              "      <td>True</td>\n",
              "    </tr>\n",
              "    <tr>\n",
              "      <th>8</th>\n",
              "      <td>http://opendata.interieur.gov.tn/ar/outils/ind...</td>\n",
              "      <td>OK</td>\n",
              "      <td>Indexable</td>\n",
              "      <td>NaN</td>\n",
              "      <td>قائمة</td>\n",
              "      <td>5.0</td>\n",
              "      <td>45.0</td>\n",
              "      <td>Le site officiel des données ouvertes du Minis...</td>\n",
              "      <td>120.0</td>\n",
              "      <td>710.0</td>\n",
              "      <td>...</td>\n",
              "      <td>NaN</td>\n",
              "      <td>50914</td>\n",
              "      <td>871</td>\n",
              "      <td>194.0</td>\n",
              "      <td>4.490</td>\n",
              "      <td>100.00</td>\n",
              "      <td>Very Easy</td>\n",
              "      <td>12.109</td>\n",
              "      <td>NaT</td>\n",
              "      <td>True</td>\n",
              "    </tr>\n",
              "    <tr>\n",
              "      <th>9</th>\n",
              "      <td>http://opendata.interieur.gov.tn/fr/outils/ind...</td>\n",
              "      <td>OK</td>\n",
              "      <td>Indexable</td>\n",
              "      <td>NaN</td>\n",
              "      <td>قائمة</td>\n",
              "      <td>5.0</td>\n",
              "      <td>45.0</td>\n",
              "      <td>Le site officiel des données ouvertes du Minis...</td>\n",
              "      <td>120.0</td>\n",
              "      <td>710.0</td>\n",
              "      <td>...</td>\n",
              "      <td>NaN</td>\n",
              "      <td>51285</td>\n",
              "      <td>929</td>\n",
              "      <td>208.0</td>\n",
              "      <td>4.466</td>\n",
              "      <td>59.42</td>\n",
              "      <td>Fairly Hard</td>\n",
              "      <td>13.602</td>\n",
              "      <td>NaT</td>\n",
              "      <td>True</td>\n",
              "    </tr>\n",
              "  </tbody>\n",
              "</table>\n",
              "<p>5 rows × 26 columns</p>\n",
              "</div>\n",
              "    <div class=\"colab-df-buttons\">\n",
              "\n",
              "  <div class=\"colab-df-container\">\n",
              "    <button class=\"colab-df-convert\" onclick=\"convertToInteractive('df-f2368546-9943-449b-bf41-6fdb7885a706')\"\n",
              "            title=\"Convert this dataframe to an interactive table.\"\n",
              "            style=\"display:none;\">\n",
              "\n",
              "  <svg xmlns=\"http://www.w3.org/2000/svg\" height=\"24px\" viewBox=\"0 -960 960 960\">\n",
              "    <path d=\"M120-120v-720h720v720H120Zm60-500h600v-160H180v160Zm220 220h160v-160H400v160Zm0 220h160v-160H400v160ZM180-400h160v-160H180v160Zm440 0h160v-160H620v160ZM180-180h160v-160H180v160Zm440 0h160v-160H620v160Z\"/>\n",
              "  </svg>\n",
              "    </button>\n",
              "\n",
              "  <style>\n",
              "    .colab-df-container {\n",
              "      display:flex;\n",
              "      gap: 12px;\n",
              "    }\n",
              "\n",
              "    .colab-df-convert {\n",
              "      background-color: #E8F0FE;\n",
              "      border: none;\n",
              "      border-radius: 50%;\n",
              "      cursor: pointer;\n",
              "      display: none;\n",
              "      fill: #1967D2;\n",
              "      height: 32px;\n",
              "      padding: 0 0 0 0;\n",
              "      width: 32px;\n",
              "    }\n",
              "\n",
              "    .colab-df-convert:hover {\n",
              "      background-color: #E2EBFA;\n",
              "      box-shadow: 0px 1px 2px rgba(60, 64, 67, 0.3), 0px 1px 3px 1px rgba(60, 64, 67, 0.15);\n",
              "      fill: #174EA6;\n",
              "    }\n",
              "\n",
              "    .colab-df-buttons div {\n",
              "      margin-bottom: 4px;\n",
              "    }\n",
              "\n",
              "    [theme=dark] .colab-df-convert {\n",
              "      background-color: #3B4455;\n",
              "      fill: #D2E3FC;\n",
              "    }\n",
              "\n",
              "    [theme=dark] .colab-df-convert:hover {\n",
              "      background-color: #434B5C;\n",
              "      box-shadow: 0px 1px 3px 1px rgba(0, 0, 0, 0.15);\n",
              "      filter: drop-shadow(0px 1px 2px rgba(0, 0, 0, 0.3));\n",
              "      fill: #FFFFFF;\n",
              "    }\n",
              "  </style>\n",
              "\n",
              "    <script>\n",
              "      const buttonEl =\n",
              "        document.querySelector('#df-f2368546-9943-449b-bf41-6fdb7885a706 button.colab-df-convert');\n",
              "      buttonEl.style.display =\n",
              "        google.colab.kernel.accessAllowed ? 'block' : 'none';\n",
              "\n",
              "      async function convertToInteractive(key) {\n",
              "        const element = document.querySelector('#df-f2368546-9943-449b-bf41-6fdb7885a706');\n",
              "        const dataTable =\n",
              "          await google.colab.kernel.invokeFunction('convertToInteractive',\n",
              "                                                    [key], {});\n",
              "        if (!dataTable) return;\n",
              "\n",
              "        const docLinkHtml = 'Like what you see? Visit the ' +\n",
              "          '<a target=\"_blank\" href=https://colab.research.google.com/notebooks/data_table.ipynb>data table notebook</a>'\n",
              "          + ' to learn more about interactive tables.';\n",
              "        element.innerHTML = '';\n",
              "        dataTable['output_type'] = 'display_data';\n",
              "        await google.colab.output.renderOutput(dataTable, element);\n",
              "        const docLink = document.createElement('div');\n",
              "        docLink.innerHTML = docLinkHtml;\n",
              "        element.appendChild(docLink);\n",
              "      }\n",
              "    </script>\n",
              "  </div>\n",
              "\n",
              "\n",
              "<div id=\"df-f31497c9-fe6b-4771-9125-48d9fd9519ac\">\n",
              "  <button class=\"colab-df-quickchart\" onclick=\"quickchart('df-f31497c9-fe6b-4771-9125-48d9fd9519ac')\"\n",
              "            title=\"Suggest charts.\"\n",
              "            style=\"display:none;\">\n",
              "\n",
              "<svg xmlns=\"http://www.w3.org/2000/svg\" height=\"24px\"viewBox=\"0 0 24 24\"\n",
              "     width=\"24px\">\n",
              "    <g>\n",
              "        <path d=\"M19 3H5c-1.1 0-2 .9-2 2v14c0 1.1.9 2 2 2h14c1.1 0 2-.9 2-2V5c0-1.1-.9-2-2-2zM9 17H7v-7h2v7zm4 0h-2V7h2v10zm4 0h-2v-4h2v4z\"/>\n",
              "    </g>\n",
              "</svg>\n",
              "  </button>\n",
              "\n",
              "<style>\n",
              "  .colab-df-quickchart {\n",
              "    background-color: #E8F0FE;\n",
              "    border: none;\n",
              "    border-radius: 50%;\n",
              "    cursor: pointer;\n",
              "    display: none;\n",
              "    fill: #1967D2;\n",
              "    height: 32px;\n",
              "    padding: 0 0 0 0;\n",
              "    width: 32px;\n",
              "  }\n",
              "\n",
              "  .colab-df-quickchart:hover {\n",
              "    background-color: #E2EBFA;\n",
              "    box-shadow: 0px 1px 2px rgba(60, 64, 67, 0.3), 0px 1px 3px 1px rgba(60, 64, 67, 0.15);\n",
              "    fill: #174EA6;\n",
              "  }\n",
              "\n",
              "  [theme=dark] .colab-df-quickchart {\n",
              "    background-color: #3B4455;\n",
              "    fill: #D2E3FC;\n",
              "  }\n",
              "\n",
              "  [theme=dark] .colab-df-quickchart:hover {\n",
              "    background-color: #434B5C;\n",
              "    box-shadow: 0px 1px 3px 1px rgba(0, 0, 0, 0.15);\n",
              "    filter: drop-shadow(0px 1px 2px rgba(0, 0, 0, 0.3));\n",
              "    fill: #FFFFFF;\n",
              "  }\n",
              "</style>\n",
              "\n",
              "  <script>\n",
              "    async function quickchart(key) {\n",
              "      const charts = await google.colab.kernel.invokeFunction(\n",
              "          'suggestCharts', [key], {});\n",
              "    }\n",
              "    (() => {\n",
              "      let quickchartButtonEl =\n",
              "        document.querySelector('#df-f31497c9-fe6b-4771-9125-48d9fd9519ac button');\n",
              "      quickchartButtonEl.style.display =\n",
              "        google.colab.kernel.accessAllowed ? 'block' : 'none';\n",
              "    })();\n",
              "  </script>\n",
              "</div>\n",
              "    </div>\n",
              "  </div>\n"
            ]
          },
          "metadata": {},
          "execution_count": 148
        }
      ]
    },
    {
      "cell_type": "code",
      "source": [
        "# To avoid comparing NaN values while removing duplicates I put them in a dataframe to see if they are relevant or not\n",
        "nan_useful_links = html[html['Title 1'].isna() & html['Meta Description 1'].isna() & html['Meta Keywords 1'].isna() & html['H1-1'].isna() & html['H2-1'].isna()]"
      ],
      "metadata": {
        "id": "v18M0sX0VSl4"
      },
      "execution_count": null,
      "outputs": []
    },
    {
      "cell_type": "code",
      "source": [
        "nan_useful_links.sample(5)"
      ],
      "metadata": {
        "colab": {
          "base_uri": "https://localhost:8080/",
          "height": 308
        },
        "id": "uHHMppFM64Pu",
        "outputId": "90c6a48a-d72a-49b3-b039-c0c2f5d6ccd3"
      },
      "execution_count": null,
      "outputs": [
        {
          "output_type": "execute_result",
          "data": {
            "text/plain": [
              "                                                   Address Status  \\\n",
              "719955   https://www.orientini.com/go/8966concours.edunet.     OK   \n",
              "1154484  https://www.orientini.com/go/2782safeonline.najah     OK   \n",
              "1386000  https://www.orientini.com/go/2256russia.study_ar_     OK   \n",
              "1482641  https://intranet.mehat.gov.tn/AccessInformatio...     OK   \n",
              "701969   https://www.orientini.com/go/4904isigk.rnu.tn_fra     OK   \n",
              "\n",
              "        Indexability Indexability Status Title 1  Title 1 Length  \\\n",
              "719955     Indexable                 NaN     NaN             NaN   \n",
              "1154484    Indexable                 NaN     NaN             NaN   \n",
              "1386000    Indexable                 NaN     NaN             NaN   \n",
              "1482641    Indexable                 NaN     NaN             NaN   \n",
              "701969     Indexable                 NaN     NaN             NaN   \n",
              "\n",
              "         Title 1 Pixel Width Meta Description 1  Meta Description 1 Length  \\\n",
              "719955                   NaN                NaN                        NaN   \n",
              "1154484                  NaN                NaN                        NaN   \n",
              "1386000                  NaN                NaN                        NaN   \n",
              "1482641                  NaN                NaN                        NaN   \n",
              "701969                   NaN                NaN                        NaN   \n",
              "\n",
              "         Meta Description 1 Pixel Width  ... Meta Robots 1  Size (bytes)  \\\n",
              "719955                              NaN  ...           NaN           172   \n",
              "1154484                             NaN  ...           NaN           201   \n",
              "1386000                             NaN  ...           NaN           178   \n",
              "1482641                             NaN  ...           NaN        240750   \n",
              "701969                              NaN  ...           NaN           151   \n",
              "\n",
              "        Word Count  Sentence Count Average Words Per Sentence  \\\n",
              "719955           0             NaN                        NaN   \n",
              "1154484          0             NaN                        NaN   \n",
              "1386000          0             NaN                        NaN   \n",
              "1482641       1159           627.0                      1.848   \n",
              "701969           0             NaN                        NaN   \n",
              "\n",
              "         Flesch Reading Ease Score Readability  Text Ratio  Last Modified  \\\n",
              "719955                         NaN         NaN       0.000            NaT   \n",
              "1154484                        NaN         NaN       0.000            NaT   \n",
              "1386000                        NaN         NaN       0.000            NaT   \n",
              "1482641                      100.0   Very Easy       4.408            NaT   \n",
              "701969                         NaN         NaN       0.000            NaT   \n",
              "\n",
              "         Is_Duplicate  \n",
              "719955           True  \n",
              "1154484          True  \n",
              "1386000          True  \n",
              "1482641          True  \n",
              "701969           True  \n",
              "\n",
              "[5 rows x 26 columns]"
            ],
            "text/html": [
              "\n",
              "  <div id=\"df-b05e7bd8-5c95-4306-bf0e-b821a01ddbcf\" class=\"colab-df-container\">\n",
              "    <div>\n",
              "<style scoped>\n",
              "    .dataframe tbody tr th:only-of-type {\n",
              "        vertical-align: middle;\n",
              "    }\n",
              "\n",
              "    .dataframe tbody tr th {\n",
              "        vertical-align: top;\n",
              "    }\n",
              "\n",
              "    .dataframe thead th {\n",
              "        text-align: right;\n",
              "    }\n",
              "</style>\n",
              "<table border=\"1\" class=\"dataframe\">\n",
              "  <thead>\n",
              "    <tr style=\"text-align: right;\">\n",
              "      <th></th>\n",
              "      <th>Address</th>\n",
              "      <th>Status</th>\n",
              "      <th>Indexability</th>\n",
              "      <th>Indexability Status</th>\n",
              "      <th>Title 1</th>\n",
              "      <th>Title 1 Length</th>\n",
              "      <th>Title 1 Pixel Width</th>\n",
              "      <th>Meta Description 1</th>\n",
              "      <th>Meta Description 1 Length</th>\n",
              "      <th>Meta Description 1 Pixel Width</th>\n",
              "      <th>...</th>\n",
              "      <th>Meta Robots 1</th>\n",
              "      <th>Size (bytes)</th>\n",
              "      <th>Word Count</th>\n",
              "      <th>Sentence Count</th>\n",
              "      <th>Average Words Per Sentence</th>\n",
              "      <th>Flesch Reading Ease Score</th>\n",
              "      <th>Readability</th>\n",
              "      <th>Text Ratio</th>\n",
              "      <th>Last Modified</th>\n",
              "      <th>Is_Duplicate</th>\n",
              "    </tr>\n",
              "  </thead>\n",
              "  <tbody>\n",
              "    <tr>\n",
              "      <th>719955</th>\n",
              "      <td>https://www.orientini.com/go/8966concours.edunet.</td>\n",
              "      <td>OK</td>\n",
              "      <td>Indexable</td>\n",
              "      <td>NaN</td>\n",
              "      <td>NaN</td>\n",
              "      <td>NaN</td>\n",
              "      <td>NaN</td>\n",
              "      <td>NaN</td>\n",
              "      <td>NaN</td>\n",
              "      <td>NaN</td>\n",
              "      <td>...</td>\n",
              "      <td>NaN</td>\n",
              "      <td>172</td>\n",
              "      <td>0</td>\n",
              "      <td>NaN</td>\n",
              "      <td>NaN</td>\n",
              "      <td>NaN</td>\n",
              "      <td>NaN</td>\n",
              "      <td>0.000</td>\n",
              "      <td>NaT</td>\n",
              "      <td>True</td>\n",
              "    </tr>\n",
              "    <tr>\n",
              "      <th>1154484</th>\n",
              "      <td>https://www.orientini.com/go/2782safeonline.najah</td>\n",
              "      <td>OK</td>\n",
              "      <td>Indexable</td>\n",
              "      <td>NaN</td>\n",
              "      <td>NaN</td>\n",
              "      <td>NaN</td>\n",
              "      <td>NaN</td>\n",
              "      <td>NaN</td>\n",
              "      <td>NaN</td>\n",
              "      <td>NaN</td>\n",
              "      <td>...</td>\n",
              "      <td>NaN</td>\n",
              "      <td>201</td>\n",
              "      <td>0</td>\n",
              "      <td>NaN</td>\n",
              "      <td>NaN</td>\n",
              "      <td>NaN</td>\n",
              "      <td>NaN</td>\n",
              "      <td>0.000</td>\n",
              "      <td>NaT</td>\n",
              "      <td>True</td>\n",
              "    </tr>\n",
              "    <tr>\n",
              "      <th>1386000</th>\n",
              "      <td>https://www.orientini.com/go/2256russia.study_ar_</td>\n",
              "      <td>OK</td>\n",
              "      <td>Indexable</td>\n",
              "      <td>NaN</td>\n",
              "      <td>NaN</td>\n",
              "      <td>NaN</td>\n",
              "      <td>NaN</td>\n",
              "      <td>NaN</td>\n",
              "      <td>NaN</td>\n",
              "      <td>NaN</td>\n",
              "      <td>...</td>\n",
              "      <td>NaN</td>\n",
              "      <td>178</td>\n",
              "      <td>0</td>\n",
              "      <td>NaN</td>\n",
              "      <td>NaN</td>\n",
              "      <td>NaN</td>\n",
              "      <td>NaN</td>\n",
              "      <td>0.000</td>\n",
              "      <td>NaT</td>\n",
              "      <td>True</td>\n",
              "    </tr>\n",
              "    <tr>\n",
              "      <th>1482641</th>\n",
              "      <td>https://intranet.mehat.gov.tn/AccessInformatio...</td>\n",
              "      <td>OK</td>\n",
              "      <td>Indexable</td>\n",
              "      <td>NaN</td>\n",
              "      <td>NaN</td>\n",
              "      <td>NaN</td>\n",
              "      <td>NaN</td>\n",
              "      <td>NaN</td>\n",
              "      <td>NaN</td>\n",
              "      <td>NaN</td>\n",
              "      <td>...</td>\n",
              "      <td>NaN</td>\n",
              "      <td>240750</td>\n",
              "      <td>1159</td>\n",
              "      <td>627.0</td>\n",
              "      <td>1.848</td>\n",
              "      <td>100.0</td>\n",
              "      <td>Very Easy</td>\n",
              "      <td>4.408</td>\n",
              "      <td>NaT</td>\n",
              "      <td>True</td>\n",
              "    </tr>\n",
              "    <tr>\n",
              "      <th>701969</th>\n",
              "      <td>https://www.orientini.com/go/4904isigk.rnu.tn_fra</td>\n",
              "      <td>OK</td>\n",
              "      <td>Indexable</td>\n",
              "      <td>NaN</td>\n",
              "      <td>NaN</td>\n",
              "      <td>NaN</td>\n",
              "      <td>NaN</td>\n",
              "      <td>NaN</td>\n",
              "      <td>NaN</td>\n",
              "      <td>NaN</td>\n",
              "      <td>...</td>\n",
              "      <td>NaN</td>\n",
              "      <td>151</td>\n",
              "      <td>0</td>\n",
              "      <td>NaN</td>\n",
              "      <td>NaN</td>\n",
              "      <td>NaN</td>\n",
              "      <td>NaN</td>\n",
              "      <td>0.000</td>\n",
              "      <td>NaT</td>\n",
              "      <td>True</td>\n",
              "    </tr>\n",
              "  </tbody>\n",
              "</table>\n",
              "<p>5 rows × 26 columns</p>\n",
              "</div>\n",
              "    <div class=\"colab-df-buttons\">\n",
              "\n",
              "  <div class=\"colab-df-container\">\n",
              "    <button class=\"colab-df-convert\" onclick=\"convertToInteractive('df-b05e7bd8-5c95-4306-bf0e-b821a01ddbcf')\"\n",
              "            title=\"Convert this dataframe to an interactive table.\"\n",
              "            style=\"display:none;\">\n",
              "\n",
              "  <svg xmlns=\"http://www.w3.org/2000/svg\" height=\"24px\" viewBox=\"0 -960 960 960\">\n",
              "    <path d=\"M120-120v-720h720v720H120Zm60-500h600v-160H180v160Zm220 220h160v-160H400v160Zm0 220h160v-160H400v160ZM180-400h160v-160H180v160Zm440 0h160v-160H620v160ZM180-180h160v-160H180v160Zm440 0h160v-160H620v160Z\"/>\n",
              "  </svg>\n",
              "    </button>\n",
              "\n",
              "  <style>\n",
              "    .colab-df-container {\n",
              "      display:flex;\n",
              "      gap: 12px;\n",
              "    }\n",
              "\n",
              "    .colab-df-convert {\n",
              "      background-color: #E8F0FE;\n",
              "      border: none;\n",
              "      border-radius: 50%;\n",
              "      cursor: pointer;\n",
              "      display: none;\n",
              "      fill: #1967D2;\n",
              "      height: 32px;\n",
              "      padding: 0 0 0 0;\n",
              "      width: 32px;\n",
              "    }\n",
              "\n",
              "    .colab-df-convert:hover {\n",
              "      background-color: #E2EBFA;\n",
              "      box-shadow: 0px 1px 2px rgba(60, 64, 67, 0.3), 0px 1px 3px 1px rgba(60, 64, 67, 0.15);\n",
              "      fill: #174EA6;\n",
              "    }\n",
              "\n",
              "    .colab-df-buttons div {\n",
              "      margin-bottom: 4px;\n",
              "    }\n",
              "\n",
              "    [theme=dark] .colab-df-convert {\n",
              "      background-color: #3B4455;\n",
              "      fill: #D2E3FC;\n",
              "    }\n",
              "\n",
              "    [theme=dark] .colab-df-convert:hover {\n",
              "      background-color: #434B5C;\n",
              "      box-shadow: 0px 1px 3px 1px rgba(0, 0, 0, 0.15);\n",
              "      filter: drop-shadow(0px 1px 2px rgba(0, 0, 0, 0.3));\n",
              "      fill: #FFFFFF;\n",
              "    }\n",
              "  </style>\n",
              "\n",
              "    <script>\n",
              "      const buttonEl =\n",
              "        document.querySelector('#df-b05e7bd8-5c95-4306-bf0e-b821a01ddbcf button.colab-df-convert');\n",
              "      buttonEl.style.display =\n",
              "        google.colab.kernel.accessAllowed ? 'block' : 'none';\n",
              "\n",
              "      async function convertToInteractive(key) {\n",
              "        const element = document.querySelector('#df-b05e7bd8-5c95-4306-bf0e-b821a01ddbcf');\n",
              "        const dataTable =\n",
              "          await google.colab.kernel.invokeFunction('convertToInteractive',\n",
              "                                                    [key], {});\n",
              "        if (!dataTable) return;\n",
              "\n",
              "        const docLinkHtml = 'Like what you see? Visit the ' +\n",
              "          '<a target=\"_blank\" href=https://colab.research.google.com/notebooks/data_table.ipynb>data table notebook</a>'\n",
              "          + ' to learn more about interactive tables.';\n",
              "        element.innerHTML = '';\n",
              "        dataTable['output_type'] = 'display_data';\n",
              "        await google.colab.output.renderOutput(dataTable, element);\n",
              "        const docLink = document.createElement('div');\n",
              "        docLink.innerHTML = docLinkHtml;\n",
              "        element.appendChild(docLink);\n",
              "      }\n",
              "    </script>\n",
              "  </div>\n",
              "\n",
              "\n",
              "<div id=\"df-63cfe011-d319-4ece-afe6-fb6ac2724534\">\n",
              "  <button class=\"colab-df-quickchart\" onclick=\"quickchart('df-63cfe011-d319-4ece-afe6-fb6ac2724534')\"\n",
              "            title=\"Suggest charts.\"\n",
              "            style=\"display:none;\">\n",
              "\n",
              "<svg xmlns=\"http://www.w3.org/2000/svg\" height=\"24px\"viewBox=\"0 0 24 24\"\n",
              "     width=\"24px\">\n",
              "    <g>\n",
              "        <path d=\"M19 3H5c-1.1 0-2 .9-2 2v14c0 1.1.9 2 2 2h14c1.1 0 2-.9 2-2V5c0-1.1-.9-2-2-2zM9 17H7v-7h2v7zm4 0h-2V7h2v10zm4 0h-2v-4h2v4z\"/>\n",
              "    </g>\n",
              "</svg>\n",
              "  </button>\n",
              "\n",
              "<style>\n",
              "  .colab-df-quickchart {\n",
              "    background-color: #E8F0FE;\n",
              "    border: none;\n",
              "    border-radius: 50%;\n",
              "    cursor: pointer;\n",
              "    display: none;\n",
              "    fill: #1967D2;\n",
              "    height: 32px;\n",
              "    padding: 0 0 0 0;\n",
              "    width: 32px;\n",
              "  }\n",
              "\n",
              "  .colab-df-quickchart:hover {\n",
              "    background-color: #E2EBFA;\n",
              "    box-shadow: 0px 1px 2px rgba(60, 64, 67, 0.3), 0px 1px 3px 1px rgba(60, 64, 67, 0.15);\n",
              "    fill: #174EA6;\n",
              "  }\n",
              "\n",
              "  [theme=dark] .colab-df-quickchart {\n",
              "    background-color: #3B4455;\n",
              "    fill: #D2E3FC;\n",
              "  }\n",
              "\n",
              "  [theme=dark] .colab-df-quickchart:hover {\n",
              "    background-color: #434B5C;\n",
              "    box-shadow: 0px 1px 3px 1px rgba(0, 0, 0, 0.15);\n",
              "    filter: drop-shadow(0px 1px 2px rgba(0, 0, 0, 0.3));\n",
              "    fill: #FFFFFF;\n",
              "  }\n",
              "</style>\n",
              "\n",
              "  <script>\n",
              "    async function quickchart(key) {\n",
              "      const charts = await google.colab.kernel.invokeFunction(\n",
              "          'suggestCharts', [key], {});\n",
              "    }\n",
              "    (() => {\n",
              "      let quickchartButtonEl =\n",
              "        document.querySelector('#df-63cfe011-d319-4ece-afe6-fb6ac2724534 button');\n",
              "      quickchartButtonEl.style.display =\n",
              "        google.colab.kernel.accessAllowed ? 'block' : 'none';\n",
              "    })();\n",
              "  </script>\n",
              "</div>\n",
              "    </div>\n",
              "  </div>\n"
            ]
          },
          "metadata": {},
          "execution_count": 150
        }
      ]
    },
    {
      "cell_type": "code",
      "source": [
        "html_no_dup = html[~(html['Title 1'].isna() & html['Meta Description 1'].isna() & html['Meta Keywords 1'].isna() & html['H1-1'].isna() & html['H2-1'].isna())]"
      ],
      "metadata": {
        "id": "mjaMJG_jgWAc"
      },
      "execution_count": null,
      "outputs": []
    },
    {
      "cell_type": "code",
      "source": [
        "html_no_dup.shape"
      ],
      "metadata": {
        "colab": {
          "base_uri": "https://localhost:8080/"
        },
        "id": "Tr8uYgtkgYS9",
        "outputId": "e331c984-f14a-4fc7-ff3d-ae53e665c04a"
      },
      "execution_count": null,
      "outputs": [
        {
          "output_type": "execute_result",
          "data": {
            "text/plain": [
              "(1042442, 26)"
            ]
          },
          "metadata": {},
          "execution_count": 152
        }
      ]
    },
    {
      "cell_type": "code",
      "source": [
        "html_no_dup.drop_duplicates(subset=['Title 1', 'Meta Description 1', 'Meta Keywords 1', 'H1-1', 'H2-1'],keep='first', inplace=True)\n",
        "html_no_dup.shape"
      ],
      "metadata": {
        "colab": {
          "base_uri": "https://localhost:8080/"
        },
        "id": "bm4-OUTDgYY1",
        "outputId": "f2bf0028-df0e-4e73-fd88-719f71689336"
      },
      "execution_count": null,
      "outputs": [
        {
          "output_type": "stream",
          "name": "stderr",
          "text": [
            "<ipython-input-153-992a8e548abf>:1: SettingWithCopyWarning: \n",
            "A value is trying to be set on a copy of a slice from a DataFrame\n",
            "\n",
            "See the caveats in the documentation: https://pandas.pydata.org/pandas-docs/stable/user_guide/indexing.html#returning-a-view-versus-a-copy\n",
            "  html_no_dup.drop_duplicates(subset=['Title 1', 'Meta Description 1', 'Meta Keywords 1', 'H1-1', 'H2-1'],keep='first', inplace=True)\n"
          ]
        },
        {
          "output_type": "execute_result",
          "data": {
            "text/plain": [
              "(115974, 26)"
            ]
          },
          "metadata": {},
          "execution_count": 153
        }
      ]
    },
    {
      "cell_type": "code",
      "source": [
        "html_no_dup[html_no_dup['Title 1'].isna() & html['Meta Description 1'].isna() & html['Meta Keywords 1'].isna() & html['H1-1'].isna() & html['H2-1'].isna() ].shape"
      ],
      "metadata": {
        "colab": {
          "base_uri": "https://localhost:8080/"
        },
        "id": "9YkizL9CTRZj",
        "outputId": "39349c8c-3efd-44d1-d835-c9721b3f02c9"
      },
      "execution_count": null,
      "outputs": [
        {
          "output_type": "stream",
          "name": "stderr",
          "text": [
            "<ipython-input-154-263c45330010>:1: UserWarning: Boolean Series key will be reindexed to match DataFrame index.\n",
            "  html_no_dup[html_no_dup['Title 1'].isna() & html['Meta Description 1'].isna() & html['Meta Keywords 1'].isna() & html['H1-1'].isna() & html['H2-1'].isna() ].shape\n"
          ]
        },
        {
          "output_type": "execute_result",
          "data": {
            "text/plain": [
              "(0, 26)"
            ]
          },
          "metadata": {},
          "execution_count": 154
        }
      ]
    },
    {
      "cell_type": "code",
      "source": [
        "del html_no_dup['Is_Duplicate']"
      ],
      "metadata": {
        "id": "xYZRtrC611sa"
      },
      "execution_count": null,
      "outputs": []
    },
    {
      "cell_type": "code",
      "source": [
        "hp_html = html_no_dup.copy()"
      ],
      "metadata": {
        "id": "R5LqMkOTOf8a"
      },
      "execution_count": null,
      "outputs": []
    },
    {
      "cell_type": "code",
      "source": [
        "hp_html.shape"
      ],
      "metadata": {
        "colab": {
          "base_uri": "https://localhost:8080/"
        },
        "id": "GS1uNGdubNJI",
        "outputId": "8e017732-c23b-4dbd-f1b1-a7e46b41d1ae"
      },
      "execution_count": null,
      "outputs": [
        {
          "output_type": "execute_result",
          "data": {
            "text/plain": [
              "(115974, 25)"
            ]
          },
          "metadata": {},
          "execution_count": 157
        }
      ]
    },
    {
      "cell_type": "code",
      "source": [
        "hp_html.columns"
      ],
      "metadata": {
        "colab": {
          "base_uri": "https://localhost:8080/"
        },
        "id": "ToCV9RXicBH6",
        "outputId": "8c800381-6e4d-4f3f-fdc9-f177c3bd511d"
      },
      "execution_count": null,
      "outputs": [
        {
          "output_type": "execute_result",
          "data": {
            "text/plain": [
              "Index(['Address', 'Status', 'Indexability', 'Indexability Status', 'Title 1',\n",
              "       'Title 1 Length', 'Title 1 Pixel Width', 'Meta Description 1',\n",
              "       'Meta Description 1 Length', 'Meta Description 1 Pixel Width',\n",
              "       'Meta Keywords 1', 'Meta Keywords 1 Length', 'H1-1', 'H1-1 Length',\n",
              "       'H2-1', 'H2-1 Length', 'Meta Robots 1', 'Size (bytes)', 'Word Count',\n",
              "       'Sentence Count', 'Average Words Per Sentence',\n",
              "       'Flesch Reading Ease Score', 'Readability', 'Text Ratio',\n",
              "       'Last Modified'],\n",
              "      dtype='object')"
            ]
          },
          "metadata": {},
          "execution_count": 158
        }
      ]
    },
    {
      "cell_type": "code",
      "source": [
        "hp_html = hp_html[hp_html['Indexability'] == 'Indexable']"
      ],
      "metadata": {
        "id": "v8-ETw3lcC06"
      },
      "execution_count": null,
      "outputs": []
    },
    {
      "cell_type": "code",
      "source": [
        "hp_html.shape"
      ],
      "metadata": {
        "colab": {
          "base_uri": "https://localhost:8080/"
        },
        "id": "H1w1vn5HoWEY",
        "outputId": "234197fb-f7d4-45f4-ec2b-fefe90b06dbf"
      },
      "execution_count": null,
      "outputs": [
        {
          "output_type": "execute_result",
          "data": {
            "text/plain": [
              "(88158, 25)"
            ]
          },
          "metadata": {},
          "execution_count": 160
        }
      ]
    },
    {
      "cell_type": "code",
      "source": [
        "hp_html.isna().sum()"
      ],
      "metadata": {
        "colab": {
          "base_uri": "https://localhost:8080/"
        },
        "id": "fJGQqqKSoqhX",
        "outputId": "9ec0c0ed-0a94-479a-8553-a9ca53fb8543"
      },
      "execution_count": null,
      "outputs": [
        {
          "output_type": "execute_result",
          "data": {
            "text/plain": [
              "Address                               0\n",
              "Status                                0\n",
              "Indexability                          0\n",
              "Indexability Status               88158\n",
              "Title 1                             875\n",
              "Title 1 Length                      875\n",
              "Title 1 Pixel Width                 875\n",
              "Meta Description 1                28145\n",
              "Meta Description 1 Length         28145\n",
              "Meta Description 1 Pixel Width    28145\n",
              "Meta Keywords 1                   53572\n",
              "Meta Keywords 1 Length            53572\n",
              "H1-1                              25955\n",
              "H1-1 Length                       25955\n",
              "H2-1                              11135\n",
              "H2-1 Length                       11135\n",
              "Meta Robots 1                     77904\n",
              "Size (bytes)                          0\n",
              "Word Count                            0\n",
              "Sentence Count                       29\n",
              "Average Words Per Sentence           29\n",
              "Flesch Reading Ease Score            29\n",
              "Readability                          29\n",
              "Text Ratio                            0\n",
              "Last Modified                     63430\n",
              "dtype: int64"
            ]
          },
          "metadata": {},
          "execution_count": 161
        }
      ]
    },
    {
      "cell_type": "code",
      "source": [
        "hp_html[hp_html['Sentence Count']<=20].sample(10)"
      ],
      "metadata": {
        "colab": {
          "base_uri": "https://localhost:8080/",
          "height": 968
        },
        "id": "4B66mBK4uJ-5",
        "outputId": "5267bd0f-1947-4094-f97f-9e59c669a84f"
      },
      "execution_count": null,
      "outputs": [
        {
          "output_type": "execute_result",
          "data": {
            "text/plain": [
              "                                                  Address Status Indexability  \\\n",
              "203668  http://www.promotion.edunet.tn/2014/integsurgp...     OK    Indexable   \n",
              "280599  http://www.onpc.nat.tn/index.php/ar/component/...     OK    Indexable   \n",
              "349421  https://ent.uvt.rnu.tn/uvt/course/info.php?id=...     OK    Indexable   \n",
              "24971   https://www.uvt.rnu.tn/formations/formations-i...     OK    Indexable   \n",
              "342780  http://www.onpc.nat.tn/index.php/ar/component/...     OK    Indexable   \n",
              "191977  http://www.onpc.nat.tn/index.php/ar/component/...     OK    Indexable   \n",
              "976334  https://ent.uvt.rnu.tn/uvt/course/info.php?id=...     OK    Indexable   \n",
              "672691                  https://www.innorpi.tn/en/node/31     OK    Indexable   \n",
              "34084   http://www.onpc.nat.tn/index.php/ar/component/...     OK    Indexable   \n",
              "381147  http://www.hmp.defense.tn/index.php/fr/site-ma...     OK    Indexable   \n",
              "\n",
              "       Indexability Status                                            Title 1  \\\n",
              "203668                 NaN  إدماج القيمين العامين صنف (أ2) الحاملين للشهاد...   \n",
              "280599                 NaN  قابس / مارث 02-02-2021 الساعة 08:09 حادث مرور ...   \n",
              "349421                 NaN                             ملخص لـ  Ayouni wahida   \n",
              "24971                  NaN                          UVT - Licences appliquées   \n",
              "342780                 NaN  تونس/حلق الوادى الساعة 22:15 يوم 11/12/2022 مع...   \n",
              "191977                 NaN      الكاف / نبر 16/10/2021 الساعة 19:37 حادث مرور   \n",
              "976334                 NaN                   Résumé de Les compétences de vie   \n",
              "672691                 NaN  Consultation N° 01/2014 Location d’un local à ...   \n",
              "34084                  NaN  السواسي/المهدية يوم14/04/2023 الساعة 10:03  حر...   \n",
              "381147                 NaN                                         Tacfarinas   \n",
              "\n",
              "        Title 1 Length  Title 1 Pixel Width  \\\n",
              "203668           125.0               1041.0   \n",
              "280599            50.0                431.0   \n",
              "349421            22.0                193.0   \n",
              "24971             25.0                235.0   \n",
              "342780            54.0                475.0   \n",
              "191977            45.0                394.0   \n",
              "976334            32.0                321.0   \n",
              "672691            80.0                736.0   \n",
              "34084             54.0                474.0   \n",
              "381147            10.0                 95.0   \n",
              "\n",
              "                                       Meta Description 1  \\\n",
              "203668                                                NaN   \n",
              "280599  جد حادث مرور بمدخل مدينة كتانة من معتمدية مارث...   \n",
              "349421                                                NaN   \n",
              "24971                       Université Virtuelle de Tunis   \n",
              "342780  تولت وحدات النجدة و الإنقاذ التابعة للإدارة ال...   \n",
              "191977  جد حادث مرور على مستوى منطقة بئر بن شريفية من ...   \n",
              "976334                                                NaN   \n",
              "672691  Les offres doivent parvenir sous plis fermés p...   \n",
              "34084   تمكنت فرق الإطفاء التابعة للإدارة الجهوية للحم...   \n",
              "381147  Après une carrière militaire florissante, le c...   \n",
              "\n",
              "        Meta Description 1 Length  Meta Description 1 Pixel Width  ...  \\\n",
              "203668                        NaN                             NaN  ...   \n",
              "280599                      153.0                           833.0  ...   \n",
              "349421                        NaN                             NaN  ...   \n",
              "24971                        29.0                           169.0  ...   \n",
              "342780                      152.0                           835.0  ...   \n",
              "191977                      153.0                           836.0  ...   \n",
              "976334                        NaN                             NaN  ...   \n",
              "672691                      514.0                          3158.0  ...   \n",
              "34084                       153.0                           840.0  ...   \n",
              "381147                      153.0                           897.0  ...   \n",
              "\n",
              "       H2-1 Length  Meta Robots 1 Size (bytes)  Word Count Sentence Count  \\\n",
              "203668         NaN            NaN         3766          38            6.0   \n",
              "280599        50.0            NaN        39958          76           16.0   \n",
              "349421         NaN            NaN        40881          27           11.0   \n",
              "24971          7.0            NaN        69336          96           18.0   \n",
              "342780        54.0            NaN       105477          49            6.0   \n",
              "191977        45.0            NaN        14010          48            7.0   \n",
              "976334         NaN            NaN        39657          34           11.0   \n",
              "672691        11.0            NaN        34836          65           18.0   \n",
              "34084         53.0            NaN        13149          59            7.0   \n",
              "381147        10.0            NaN         7359          74           13.0   \n",
              "\n",
              "        Average Words Per Sentence Flesch Reading Ease Score  Readability  \\\n",
              "203668                       6.333                   100.000    Very Easy   \n",
              "280599                       4.750                   100.000    Very Easy   \n",
              "349421                       2.455                   100.000    Very Easy   \n",
              "24971                        5.333                    59.540  Fairly Hard   \n",
              "342780                       8.167                   100.000    Very Easy   \n",
              "191977                       6.857                   100.000    Very Easy   \n",
              "976334                       3.091                    81.774         Easy   \n",
              "672691                       3.611                    76.920  Fairly Easy   \n",
              "34084                        8.429                   100.000    Very Easy   \n",
              "381147                       5.692                    74.157  Fairly Easy   \n",
              "\n",
              "        Text Ratio             Last Modified  \n",
              "203668       6.260                       NaT  \n",
              "280599       4.817 2023-07-27 14:49:27+00:00  \n",
              "349421       2.083                       NaT  \n",
              "24971        6.405 2023-07-22 20:11:53+00:00  \n",
              "342780       0.277 2023-07-23 22:08:56+00:00  \n",
              "191977       2.066 2023-07-26 20:48:12+00:00  \n",
              "976334       2.213                       NaT  \n",
              "672691       6.483                       NaT  \n",
              "34084        2.691 2023-07-23 19:29:31+00:00  \n",
              "381147       6.409                       NaT  \n",
              "\n",
              "[10 rows x 25 columns]"
            ],
            "text/html": [
              "\n",
              "  <div id=\"df-6af53f2f-df5a-4ff0-b432-3bc9eb9cf624\" class=\"colab-df-container\">\n",
              "    <div>\n",
              "<style scoped>\n",
              "    .dataframe tbody tr th:only-of-type {\n",
              "        vertical-align: middle;\n",
              "    }\n",
              "\n",
              "    .dataframe tbody tr th {\n",
              "        vertical-align: top;\n",
              "    }\n",
              "\n",
              "    .dataframe thead th {\n",
              "        text-align: right;\n",
              "    }\n",
              "</style>\n",
              "<table border=\"1\" class=\"dataframe\">\n",
              "  <thead>\n",
              "    <tr style=\"text-align: right;\">\n",
              "      <th></th>\n",
              "      <th>Address</th>\n",
              "      <th>Status</th>\n",
              "      <th>Indexability</th>\n",
              "      <th>Indexability Status</th>\n",
              "      <th>Title 1</th>\n",
              "      <th>Title 1 Length</th>\n",
              "      <th>Title 1 Pixel Width</th>\n",
              "      <th>Meta Description 1</th>\n",
              "      <th>Meta Description 1 Length</th>\n",
              "      <th>Meta Description 1 Pixel Width</th>\n",
              "      <th>...</th>\n",
              "      <th>H2-1 Length</th>\n",
              "      <th>Meta Robots 1</th>\n",
              "      <th>Size (bytes)</th>\n",
              "      <th>Word Count</th>\n",
              "      <th>Sentence Count</th>\n",
              "      <th>Average Words Per Sentence</th>\n",
              "      <th>Flesch Reading Ease Score</th>\n",
              "      <th>Readability</th>\n",
              "      <th>Text Ratio</th>\n",
              "      <th>Last Modified</th>\n",
              "    </tr>\n",
              "  </thead>\n",
              "  <tbody>\n",
              "    <tr>\n",
              "      <th>203668</th>\n",
              "      <td>http://www.promotion.edunet.tn/2014/integsurgp...</td>\n",
              "      <td>OK</td>\n",
              "      <td>Indexable</td>\n",
              "      <td>NaN</td>\n",
              "      <td>إدماج القيمين العامين صنف (أ2) الحاملين للشهاد...</td>\n",
              "      <td>125.0</td>\n",
              "      <td>1041.0</td>\n",
              "      <td>NaN</td>\n",
              "      <td>NaN</td>\n",
              "      <td>NaN</td>\n",
              "      <td>...</td>\n",
              "      <td>NaN</td>\n",
              "      <td>NaN</td>\n",
              "      <td>3766</td>\n",
              "      <td>38</td>\n",
              "      <td>6.0</td>\n",
              "      <td>6.333</td>\n",
              "      <td>100.000</td>\n",
              "      <td>Very Easy</td>\n",
              "      <td>6.260</td>\n",
              "      <td>NaT</td>\n",
              "    </tr>\n",
              "    <tr>\n",
              "      <th>280599</th>\n",
              "      <td>http://www.onpc.nat.tn/index.php/ar/component/...</td>\n",
              "      <td>OK</td>\n",
              "      <td>Indexable</td>\n",
              "      <td>NaN</td>\n",
              "      <td>قابس / مارث 02-02-2021 الساعة 08:09 حادث مرور ...</td>\n",
              "      <td>50.0</td>\n",
              "      <td>431.0</td>\n",
              "      <td>جد حادث مرور بمدخل مدينة كتانة من معتمدية مارث...</td>\n",
              "      <td>153.0</td>\n",
              "      <td>833.0</td>\n",
              "      <td>...</td>\n",
              "      <td>50.0</td>\n",
              "      <td>NaN</td>\n",
              "      <td>39958</td>\n",
              "      <td>76</td>\n",
              "      <td>16.0</td>\n",
              "      <td>4.750</td>\n",
              "      <td>100.000</td>\n",
              "      <td>Very Easy</td>\n",
              "      <td>4.817</td>\n",
              "      <td>2023-07-27 14:49:27+00:00</td>\n",
              "    </tr>\n",
              "    <tr>\n",
              "      <th>349421</th>\n",
              "      <td>https://ent.uvt.rnu.tn/uvt/course/info.php?id=...</td>\n",
              "      <td>OK</td>\n",
              "      <td>Indexable</td>\n",
              "      <td>NaN</td>\n",
              "      <td>ملخص لـ  Ayouni wahida</td>\n",
              "      <td>22.0</td>\n",
              "      <td>193.0</td>\n",
              "      <td>NaN</td>\n",
              "      <td>NaN</td>\n",
              "      <td>NaN</td>\n",
              "      <td>...</td>\n",
              "      <td>NaN</td>\n",
              "      <td>NaN</td>\n",
              "      <td>40881</td>\n",
              "      <td>27</td>\n",
              "      <td>11.0</td>\n",
              "      <td>2.455</td>\n",
              "      <td>100.000</td>\n",
              "      <td>Very Easy</td>\n",
              "      <td>2.083</td>\n",
              "      <td>NaT</td>\n",
              "    </tr>\n",
              "    <tr>\n",
              "      <th>24971</th>\n",
              "      <td>https://www.uvt.rnu.tn/formations/formations-i...</td>\n",
              "      <td>OK</td>\n",
              "      <td>Indexable</td>\n",
              "      <td>NaN</td>\n",
              "      <td>UVT - Licences appliquées</td>\n",
              "      <td>25.0</td>\n",
              "      <td>235.0</td>\n",
              "      <td>Université Virtuelle de Tunis</td>\n",
              "      <td>29.0</td>\n",
              "      <td>169.0</td>\n",
              "      <td>...</td>\n",
              "      <td>7.0</td>\n",
              "      <td>NaN</td>\n",
              "      <td>69336</td>\n",
              "      <td>96</td>\n",
              "      <td>18.0</td>\n",
              "      <td>5.333</td>\n",
              "      <td>59.540</td>\n",
              "      <td>Fairly Hard</td>\n",
              "      <td>6.405</td>\n",
              "      <td>2023-07-22 20:11:53+00:00</td>\n",
              "    </tr>\n",
              "    <tr>\n",
              "      <th>342780</th>\n",
              "      <td>http://www.onpc.nat.tn/index.php/ar/component/...</td>\n",
              "      <td>OK</td>\n",
              "      <td>Indexable</td>\n",
              "      <td>NaN</td>\n",
              "      <td>تونس/حلق الوادى الساعة 22:15 يوم 11/12/2022 مع...</td>\n",
              "      <td>54.0</td>\n",
              "      <td>475.0</td>\n",
              "      <td>تولت وحدات النجدة و الإنقاذ التابعة للإدارة ال...</td>\n",
              "      <td>152.0</td>\n",
              "      <td>835.0</td>\n",
              "      <td>...</td>\n",
              "      <td>54.0</td>\n",
              "      <td>NaN</td>\n",
              "      <td>105477</td>\n",
              "      <td>49</td>\n",
              "      <td>6.0</td>\n",
              "      <td>8.167</td>\n",
              "      <td>100.000</td>\n",
              "      <td>Very Easy</td>\n",
              "      <td>0.277</td>\n",
              "      <td>2023-07-23 22:08:56+00:00</td>\n",
              "    </tr>\n",
              "    <tr>\n",
              "      <th>191977</th>\n",
              "      <td>http://www.onpc.nat.tn/index.php/ar/component/...</td>\n",
              "      <td>OK</td>\n",
              "      <td>Indexable</td>\n",
              "      <td>NaN</td>\n",
              "      <td>الكاف / نبر 16/10/2021 الساعة 19:37 حادث مرور</td>\n",
              "      <td>45.0</td>\n",
              "      <td>394.0</td>\n",
              "      <td>جد حادث مرور على مستوى منطقة بئر بن شريفية من ...</td>\n",
              "      <td>153.0</td>\n",
              "      <td>836.0</td>\n",
              "      <td>...</td>\n",
              "      <td>45.0</td>\n",
              "      <td>NaN</td>\n",
              "      <td>14010</td>\n",
              "      <td>48</td>\n",
              "      <td>7.0</td>\n",
              "      <td>6.857</td>\n",
              "      <td>100.000</td>\n",
              "      <td>Very Easy</td>\n",
              "      <td>2.066</td>\n",
              "      <td>2023-07-26 20:48:12+00:00</td>\n",
              "    </tr>\n",
              "    <tr>\n",
              "      <th>976334</th>\n",
              "      <td>https://ent.uvt.rnu.tn/uvt/course/info.php?id=...</td>\n",
              "      <td>OK</td>\n",
              "      <td>Indexable</td>\n",
              "      <td>NaN</td>\n",
              "      <td>Résumé de Les compétences de vie</td>\n",
              "      <td>32.0</td>\n",
              "      <td>321.0</td>\n",
              "      <td>NaN</td>\n",
              "      <td>NaN</td>\n",
              "      <td>NaN</td>\n",
              "      <td>...</td>\n",
              "      <td>NaN</td>\n",
              "      <td>NaN</td>\n",
              "      <td>39657</td>\n",
              "      <td>34</td>\n",
              "      <td>11.0</td>\n",
              "      <td>3.091</td>\n",
              "      <td>81.774</td>\n",
              "      <td>Easy</td>\n",
              "      <td>2.213</td>\n",
              "      <td>NaT</td>\n",
              "    </tr>\n",
              "    <tr>\n",
              "      <th>672691</th>\n",
              "      <td>https://www.innorpi.tn/en/node/31</td>\n",
              "      <td>OK</td>\n",
              "      <td>Indexable</td>\n",
              "      <td>NaN</td>\n",
              "      <td>Consultation N° 01/2014 Location d’un local à ...</td>\n",
              "      <td>80.0</td>\n",
              "      <td>736.0</td>\n",
              "      <td>Les offres doivent parvenir sous plis fermés p...</td>\n",
              "      <td>514.0</td>\n",
              "      <td>3158.0</td>\n",
              "      <td>...</td>\n",
              "      <td>11.0</td>\n",
              "      <td>NaN</td>\n",
              "      <td>34836</td>\n",
              "      <td>65</td>\n",
              "      <td>18.0</td>\n",
              "      <td>3.611</td>\n",
              "      <td>76.920</td>\n",
              "      <td>Fairly Easy</td>\n",
              "      <td>6.483</td>\n",
              "      <td>NaT</td>\n",
              "    </tr>\n",
              "    <tr>\n",
              "      <th>34084</th>\n",
              "      <td>http://www.onpc.nat.tn/index.php/ar/component/...</td>\n",
              "      <td>OK</td>\n",
              "      <td>Indexable</td>\n",
              "      <td>NaN</td>\n",
              "      <td>السواسي/المهدية يوم14/04/2023 الساعة 10:03  حر...</td>\n",
              "      <td>54.0</td>\n",
              "      <td>474.0</td>\n",
              "      <td>تمكنت فرق الإطفاء التابعة للإدارة الجهوية للحم...</td>\n",
              "      <td>153.0</td>\n",
              "      <td>840.0</td>\n",
              "      <td>...</td>\n",
              "      <td>53.0</td>\n",
              "      <td>NaN</td>\n",
              "      <td>13149</td>\n",
              "      <td>59</td>\n",
              "      <td>7.0</td>\n",
              "      <td>8.429</td>\n",
              "      <td>100.000</td>\n",
              "      <td>Very Easy</td>\n",
              "      <td>2.691</td>\n",
              "      <td>2023-07-23 19:29:31+00:00</td>\n",
              "    </tr>\n",
              "    <tr>\n",
              "      <th>381147</th>\n",
              "      <td>http://www.hmp.defense.tn/index.php/fr/site-ma...</td>\n",
              "      <td>OK</td>\n",
              "      <td>Indexable</td>\n",
              "      <td>NaN</td>\n",
              "      <td>Tacfarinas</td>\n",
              "      <td>10.0</td>\n",
              "      <td>95.0</td>\n",
              "      <td>Après une carrière militaire florissante, le c...</td>\n",
              "      <td>153.0</td>\n",
              "      <td>897.0</td>\n",
              "      <td>...</td>\n",
              "      <td>10.0</td>\n",
              "      <td>NaN</td>\n",
              "      <td>7359</td>\n",
              "      <td>74</td>\n",
              "      <td>13.0</td>\n",
              "      <td>5.692</td>\n",
              "      <td>74.157</td>\n",
              "      <td>Fairly Easy</td>\n",
              "      <td>6.409</td>\n",
              "      <td>NaT</td>\n",
              "    </tr>\n",
              "  </tbody>\n",
              "</table>\n",
              "<p>10 rows × 25 columns</p>\n",
              "</div>\n",
              "    <div class=\"colab-df-buttons\">\n",
              "\n",
              "  <div class=\"colab-df-container\">\n",
              "    <button class=\"colab-df-convert\" onclick=\"convertToInteractive('df-6af53f2f-df5a-4ff0-b432-3bc9eb9cf624')\"\n",
              "            title=\"Convert this dataframe to an interactive table.\"\n",
              "            style=\"display:none;\">\n",
              "\n",
              "  <svg xmlns=\"http://www.w3.org/2000/svg\" height=\"24px\" viewBox=\"0 -960 960 960\">\n",
              "    <path d=\"M120-120v-720h720v720H120Zm60-500h600v-160H180v160Zm220 220h160v-160H400v160Zm0 220h160v-160H400v160ZM180-400h160v-160H180v160Zm440 0h160v-160H620v160ZM180-180h160v-160H180v160Zm440 0h160v-160H620v160Z\"/>\n",
              "  </svg>\n",
              "    </button>\n",
              "\n",
              "  <style>\n",
              "    .colab-df-container {\n",
              "      display:flex;\n",
              "      gap: 12px;\n",
              "    }\n",
              "\n",
              "    .colab-df-convert {\n",
              "      background-color: #E8F0FE;\n",
              "      border: none;\n",
              "      border-radius: 50%;\n",
              "      cursor: pointer;\n",
              "      display: none;\n",
              "      fill: #1967D2;\n",
              "      height: 32px;\n",
              "      padding: 0 0 0 0;\n",
              "      width: 32px;\n",
              "    }\n",
              "\n",
              "    .colab-df-convert:hover {\n",
              "      background-color: #E2EBFA;\n",
              "      box-shadow: 0px 1px 2px rgba(60, 64, 67, 0.3), 0px 1px 3px 1px rgba(60, 64, 67, 0.15);\n",
              "      fill: #174EA6;\n",
              "    }\n",
              "\n",
              "    .colab-df-buttons div {\n",
              "      margin-bottom: 4px;\n",
              "    }\n",
              "\n",
              "    [theme=dark] .colab-df-convert {\n",
              "      background-color: #3B4455;\n",
              "      fill: #D2E3FC;\n",
              "    }\n",
              "\n",
              "    [theme=dark] .colab-df-convert:hover {\n",
              "      background-color: #434B5C;\n",
              "      box-shadow: 0px 1px 3px 1px rgba(0, 0, 0, 0.15);\n",
              "      filter: drop-shadow(0px 1px 2px rgba(0, 0, 0, 0.3));\n",
              "      fill: #FFFFFF;\n",
              "    }\n",
              "  </style>\n",
              "\n",
              "    <script>\n",
              "      const buttonEl =\n",
              "        document.querySelector('#df-6af53f2f-df5a-4ff0-b432-3bc9eb9cf624 button.colab-df-convert');\n",
              "      buttonEl.style.display =\n",
              "        google.colab.kernel.accessAllowed ? 'block' : 'none';\n",
              "\n",
              "      async function convertToInteractive(key) {\n",
              "        const element = document.querySelector('#df-6af53f2f-df5a-4ff0-b432-3bc9eb9cf624');\n",
              "        const dataTable =\n",
              "          await google.colab.kernel.invokeFunction('convertToInteractive',\n",
              "                                                    [key], {});\n",
              "        if (!dataTable) return;\n",
              "\n",
              "        const docLinkHtml = 'Like what you see? Visit the ' +\n",
              "          '<a target=\"_blank\" href=https://colab.research.google.com/notebooks/data_table.ipynb>data table notebook</a>'\n",
              "          + ' to learn more about interactive tables.';\n",
              "        element.innerHTML = '';\n",
              "        dataTable['output_type'] = 'display_data';\n",
              "        await google.colab.output.renderOutput(dataTable, element);\n",
              "        const docLink = document.createElement('div');\n",
              "        docLink.innerHTML = docLinkHtml;\n",
              "        element.appendChild(docLink);\n",
              "      }\n",
              "    </script>\n",
              "  </div>\n",
              "\n",
              "\n",
              "<div id=\"df-66fa1092-86c8-4ce7-bfa9-46c4f8fe7749\">\n",
              "  <button class=\"colab-df-quickchart\" onclick=\"quickchart('df-66fa1092-86c8-4ce7-bfa9-46c4f8fe7749')\"\n",
              "            title=\"Suggest charts.\"\n",
              "            style=\"display:none;\">\n",
              "\n",
              "<svg xmlns=\"http://www.w3.org/2000/svg\" height=\"24px\"viewBox=\"0 0 24 24\"\n",
              "     width=\"24px\">\n",
              "    <g>\n",
              "        <path d=\"M19 3H5c-1.1 0-2 .9-2 2v14c0 1.1.9 2 2 2h14c1.1 0 2-.9 2-2V5c0-1.1-.9-2-2-2zM9 17H7v-7h2v7zm4 0h-2V7h2v10zm4 0h-2v-4h2v4z\"/>\n",
              "    </g>\n",
              "</svg>\n",
              "  </button>\n",
              "\n",
              "<style>\n",
              "  .colab-df-quickchart {\n",
              "    background-color: #E8F0FE;\n",
              "    border: none;\n",
              "    border-radius: 50%;\n",
              "    cursor: pointer;\n",
              "    display: none;\n",
              "    fill: #1967D2;\n",
              "    height: 32px;\n",
              "    padding: 0 0 0 0;\n",
              "    width: 32px;\n",
              "  }\n",
              "\n",
              "  .colab-df-quickchart:hover {\n",
              "    background-color: #E2EBFA;\n",
              "    box-shadow: 0px 1px 2px rgba(60, 64, 67, 0.3), 0px 1px 3px 1px rgba(60, 64, 67, 0.15);\n",
              "    fill: #174EA6;\n",
              "  }\n",
              "\n",
              "  [theme=dark] .colab-df-quickchart {\n",
              "    background-color: #3B4455;\n",
              "    fill: #D2E3FC;\n",
              "  }\n",
              "\n",
              "  [theme=dark] .colab-df-quickchart:hover {\n",
              "    background-color: #434B5C;\n",
              "    box-shadow: 0px 1px 3px 1px rgba(0, 0, 0, 0.15);\n",
              "    filter: drop-shadow(0px 1px 2px rgba(0, 0, 0, 0.3));\n",
              "    fill: #FFFFFF;\n",
              "  }\n",
              "</style>\n",
              "\n",
              "  <script>\n",
              "    async function quickchart(key) {\n",
              "      const charts = await google.colab.kernel.invokeFunction(\n",
              "          'suggestCharts', [key], {});\n",
              "    }\n",
              "    (() => {\n",
              "      let quickchartButtonEl =\n",
              "        document.querySelector('#df-66fa1092-86c8-4ce7-bfa9-46c4f8fe7749 button');\n",
              "      quickchartButtonEl.style.display =\n",
              "        google.colab.kernel.accessAllowed ? 'block' : 'none';\n",
              "    })();\n",
              "  </script>\n",
              "</div>\n",
              "    </div>\n",
              "  </div>\n"
            ]
          },
          "metadata": {},
          "execution_count": 162
        }
      ]
    },
    {
      "cell_type": "code",
      "source": [
        "hp_html.dropna(subset='Title 1', inplace=True)"
      ],
      "metadata": {
        "id": "Y_HB7wUlcnKY"
      },
      "execution_count": null,
      "outputs": []
    },
    {
      "cell_type": "code",
      "source": [
        "hp_html = hp_html[~hp_html['Title 1'].str.contains('الساعة')]"
      ],
      "metadata": {
        "id": "vJNs9_GoWq2Y"
      },
      "execution_count": null,
      "outputs": []
    },
    {
      "cell_type": "code",
      "source": [
        "hp_html.shape"
      ],
      "metadata": {
        "colab": {
          "base_uri": "https://localhost:8080/"
        },
        "id": "h6ilf76raR6z",
        "outputId": "56b18774-2970-4245-bf42-62b2d9c6f688"
      },
      "execution_count": null,
      "outputs": [
        {
          "output_type": "execute_result",
          "data": {
            "text/plain": [
              "(85798, 25)"
            ]
          },
          "metadata": {},
          "execution_count": 165
        }
      ]
    },
    {
      "cell_type": "code",
      "source": [
        "# After trying many links with H1 = NaN we found most of them are irrelevant and must be removed except for orientini\n",
        "hp_html = hp_html[~(hp_html['H1-1'].isna() & ~(hp_html['Address'].str.contains('orientini')))]"
      ],
      "metadata": {
        "id": "sCCVa_TBd5NR"
      },
      "execution_count": null,
      "outputs": []
    },
    {
      "cell_type": "code",
      "source": [
        "hp_html.shape"
      ],
      "metadata": {
        "colab": {
          "base_uri": "https://localhost:8080/"
        },
        "id": "AF2nebvQpRlu",
        "outputId": "85a82f65-5b91-4079-e6e9-e94702e39c10"
      },
      "execution_count": null,
      "outputs": [
        {
          "output_type": "execute_result",
          "data": {
            "text/plain": [
              "(70273, 25)"
            ]
          },
          "metadata": {},
          "execution_count": 167
        }
      ]
    },
    {
      "cell_type": "code",
      "source": [
        "hp_html.isna().sum()"
      ],
      "metadata": {
        "colab": {
          "base_uri": "https://localhost:8080/"
        },
        "id": "1OP0UN_0oQUk",
        "outputId": "58131ee8-40a3-4296-a170-bb49a0161825"
      },
      "execution_count": null,
      "outputs": [
        {
          "output_type": "execute_result",
          "data": {
            "text/plain": [
              "Address                               0\n",
              "Status                                0\n",
              "Indexability                          0\n",
              "Indexability Status               70273\n",
              "Title 1                               0\n",
              "Title 1 Length                        0\n",
              "Title 1 Pixel Width                   0\n",
              "Meta Description 1                16585\n",
              "Meta Description 1 Length         16585\n",
              "Meta Description 1 Pixel Width    16585\n",
              "Meta Keywords 1                   41973\n",
              "Meta Keywords 1 Length            41973\n",
              "H1-1                               8712\n",
              "H1-1 Length                        8712\n",
              "H2-1                               7296\n",
              "H2-1 Length                        7296\n",
              "Meta Robots 1                     64518\n",
              "Size (bytes)                          0\n",
              "Word Count                            0\n",
              "Sentence Count                        0\n",
              "Average Words Per Sentence            0\n",
              "Flesch Reading Ease Score             0\n",
              "Readability                           0\n",
              "Text Ratio                            0\n",
              "Last Modified                     48944\n",
              "dtype: int64"
            ]
          },
          "metadata": {},
          "execution_count": 168
        }
      ]
    },
    {
      "cell_type": "code",
      "source": [
        "hp_html = hp_html[~hp_html['H2-1'].isna()]"
      ],
      "metadata": {
        "id": "L4zU0qAFpeqe"
      },
      "execution_count": null,
      "outputs": []
    },
    {
      "cell_type": "code",
      "source": [
        "hp_html.shape"
      ],
      "metadata": {
        "colab": {
          "base_uri": "https://localhost:8080/"
        },
        "id": "faSoa2UXujes",
        "outputId": "b6299d8e-b2fd-4db2-db1d-a5381a82d54c"
      },
      "execution_count": null,
      "outputs": [
        {
          "output_type": "execute_result",
          "data": {
            "text/plain": [
              "(62977, 25)"
            ]
          },
          "metadata": {},
          "execution_count": 170
        }
      ]
    },
    {
      "cell_type": "code",
      "source": [
        "# We found out that links with size < 50000 are irrelevant\n",
        "hp_html[hp_html['Size (bytes)'] < 50000].sample(5)"
      ],
      "metadata": {
        "colab": {
          "base_uri": "https://localhost:8080/",
          "height": 776
        },
        "id": "WKTt5UcDwXYT",
        "outputId": "ed406ffb-89aa-461d-c858-b835b7c9671c"
      },
      "execution_count": null,
      "outputs": [
        {
          "output_type": "execute_result",
          "data": {
            "text/plain": [
              "                                                   Address Status  \\\n",
              "1268597  https://www.interieur.gov.tn/actualite/3123/ال...     OK   \n",
              "434675   https://www.transtu.tn/fr/achats-publiques/053...     OK   \n",
              "776290   https://www.interieur.gov.tn/actualite/7499/ال...     OK   \n",
              "1050952  https://www.interieur.gov.tn/actualite/21541/أ...     OK   \n",
              "152728   https://www.interieur.gov.tn/actualite/11253/ك...     OK   \n",
              "\n",
              "        Indexability Indexability Status  \\\n",
              "1268597    Indexable                 NaN   \n",
              "434675     Indexable                 NaN   \n",
              "776290     Indexable                 NaN   \n",
              "1050952    Indexable                 NaN   \n",
              "152728     Indexable                 NaN   \n",
              "\n",
              "                                                   Title 1  Title 1 Length  \\\n",
              "1268597  القصرين – سيدي بوزيد - تطاوين / ضبط بضائع مهرب...            79.0   \n",
              "434675                                             Transtu             7.0   \n",
              "776290   الجم - المهدية / حجز بضائع مهربة مختلفة على مت...            67.0   \n",
              "1050952   أهمّ تدخّلات الحماية المدنيّة ليوم 22 جانفي 2021            48.0   \n",
              "152728   كاب زبيب- بنزرت/ القبض على 07 أشخاص كانوا بصدد...            73.0   \n",
              "\n",
              "         Title 1 Pixel Width                            Meta Description 1  \\\n",
              "1268597                657.0  Portail du Ministère de l'Intérieur Tunisien   \n",
              "434675                  69.0                                           NaN   \n",
              "776290                 551.0  Portail du Ministère de l'Intérieur Tunisien   \n",
              "1050952                416.0  Portail du Ministère de l'Intérieur Tunisien   \n",
              "152728                 609.0  Portail du Ministère de l'Intérieur Tunisien   \n",
              "\n",
              "         Meta Description 1 Length  Meta Description 1 Pixel Width  ...  \\\n",
              "1268597                       44.0                           253.0  ...   \n",
              "434675                         NaN                             NaN  ...   \n",
              "776290                        44.0                           253.0  ...   \n",
              "1050952                       44.0                           253.0  ...   \n",
              "152728                        44.0                           253.0  ...   \n",
              "\n",
              "        H2-1 Length  Meta Robots 1 Size (bytes)  Word Count Sentence Count  \\\n",
              "1268597         8.0            NaN        46943         331           96.0   \n",
              "434675        101.0            NaN        34165         770          117.0   \n",
              "776290          8.0            NaN        46099         352           99.0   \n",
              "1050952         8.0            NaN        43729         315           97.0   \n",
              "152728          8.0            NaN        46898         335           97.0   \n",
              "\n",
              "         Average Words Per Sentence Flesch Reading Ease Score  Readability  \\\n",
              "1268597                       3.448                   100.000    Very Easy   \n",
              "434675                        6.581                    79.188  Fairly Easy   \n",
              "776290                        3.556                   100.000    Very Easy   \n",
              "1050952                       3.247                   100.000    Very Easy   \n",
              "152728                        3.454                   100.000    Very Easy   \n",
              "\n",
              "         Text Ratio  Last Modified  \n",
              "1268597       6.947            NaT  \n",
              "434675       15.381            NaT  \n",
              "776290        7.372            NaT  \n",
              "1050952       7.269            NaT  \n",
              "152728        7.065            NaT  \n",
              "\n",
              "[5 rows x 25 columns]"
            ],
            "text/html": [
              "\n",
              "  <div id=\"df-917c9feb-87e3-4bd9-80d5-bbd3a43254bb\" class=\"colab-df-container\">\n",
              "    <div>\n",
              "<style scoped>\n",
              "    .dataframe tbody tr th:only-of-type {\n",
              "        vertical-align: middle;\n",
              "    }\n",
              "\n",
              "    .dataframe tbody tr th {\n",
              "        vertical-align: top;\n",
              "    }\n",
              "\n",
              "    .dataframe thead th {\n",
              "        text-align: right;\n",
              "    }\n",
              "</style>\n",
              "<table border=\"1\" class=\"dataframe\">\n",
              "  <thead>\n",
              "    <tr style=\"text-align: right;\">\n",
              "      <th></th>\n",
              "      <th>Address</th>\n",
              "      <th>Status</th>\n",
              "      <th>Indexability</th>\n",
              "      <th>Indexability Status</th>\n",
              "      <th>Title 1</th>\n",
              "      <th>Title 1 Length</th>\n",
              "      <th>Title 1 Pixel Width</th>\n",
              "      <th>Meta Description 1</th>\n",
              "      <th>Meta Description 1 Length</th>\n",
              "      <th>Meta Description 1 Pixel Width</th>\n",
              "      <th>...</th>\n",
              "      <th>H2-1 Length</th>\n",
              "      <th>Meta Robots 1</th>\n",
              "      <th>Size (bytes)</th>\n",
              "      <th>Word Count</th>\n",
              "      <th>Sentence Count</th>\n",
              "      <th>Average Words Per Sentence</th>\n",
              "      <th>Flesch Reading Ease Score</th>\n",
              "      <th>Readability</th>\n",
              "      <th>Text Ratio</th>\n",
              "      <th>Last Modified</th>\n",
              "    </tr>\n",
              "  </thead>\n",
              "  <tbody>\n",
              "    <tr>\n",
              "      <th>1268597</th>\n",
              "      <td>https://www.interieur.gov.tn/actualite/3123/ال...</td>\n",
              "      <td>OK</td>\n",
              "      <td>Indexable</td>\n",
              "      <td>NaN</td>\n",
              "      <td>القصرين – سيدي بوزيد - تطاوين / ضبط بضائع مهرب...</td>\n",
              "      <td>79.0</td>\n",
              "      <td>657.0</td>\n",
              "      <td>Portail du Ministère de l'Intérieur Tunisien</td>\n",
              "      <td>44.0</td>\n",
              "      <td>253.0</td>\n",
              "      <td>...</td>\n",
              "      <td>8.0</td>\n",
              "      <td>NaN</td>\n",
              "      <td>46943</td>\n",
              "      <td>331</td>\n",
              "      <td>96.0</td>\n",
              "      <td>3.448</td>\n",
              "      <td>100.000</td>\n",
              "      <td>Very Easy</td>\n",
              "      <td>6.947</td>\n",
              "      <td>NaT</td>\n",
              "    </tr>\n",
              "    <tr>\n",
              "      <th>434675</th>\n",
              "      <td>https://www.transtu.tn/fr/achats-publiques/053...</td>\n",
              "      <td>OK</td>\n",
              "      <td>Indexable</td>\n",
              "      <td>NaN</td>\n",
              "      <td>Transtu</td>\n",
              "      <td>7.0</td>\n",
              "      <td>69.0</td>\n",
              "      <td>NaN</td>\n",
              "      <td>NaN</td>\n",
              "      <td>NaN</td>\n",
              "      <td>...</td>\n",
              "      <td>101.0</td>\n",
              "      <td>NaN</td>\n",
              "      <td>34165</td>\n",
              "      <td>770</td>\n",
              "      <td>117.0</td>\n",
              "      <td>6.581</td>\n",
              "      <td>79.188</td>\n",
              "      <td>Fairly Easy</td>\n",
              "      <td>15.381</td>\n",
              "      <td>NaT</td>\n",
              "    </tr>\n",
              "    <tr>\n",
              "      <th>776290</th>\n",
              "      <td>https://www.interieur.gov.tn/actualite/7499/ال...</td>\n",
              "      <td>OK</td>\n",
              "      <td>Indexable</td>\n",
              "      <td>NaN</td>\n",
              "      <td>الجم - المهدية / حجز بضائع مهربة مختلفة على مت...</td>\n",
              "      <td>67.0</td>\n",
              "      <td>551.0</td>\n",
              "      <td>Portail du Ministère de l'Intérieur Tunisien</td>\n",
              "      <td>44.0</td>\n",
              "      <td>253.0</td>\n",
              "      <td>...</td>\n",
              "      <td>8.0</td>\n",
              "      <td>NaN</td>\n",
              "      <td>46099</td>\n",
              "      <td>352</td>\n",
              "      <td>99.0</td>\n",
              "      <td>3.556</td>\n",
              "      <td>100.000</td>\n",
              "      <td>Very Easy</td>\n",
              "      <td>7.372</td>\n",
              "      <td>NaT</td>\n",
              "    </tr>\n",
              "    <tr>\n",
              "      <th>1050952</th>\n",
              "      <td>https://www.interieur.gov.tn/actualite/21541/أ...</td>\n",
              "      <td>OK</td>\n",
              "      <td>Indexable</td>\n",
              "      <td>NaN</td>\n",
              "      <td>أهمّ تدخّلات الحماية المدنيّة ليوم 22 جانفي 2021</td>\n",
              "      <td>48.0</td>\n",
              "      <td>416.0</td>\n",
              "      <td>Portail du Ministère de l'Intérieur Tunisien</td>\n",
              "      <td>44.0</td>\n",
              "      <td>253.0</td>\n",
              "      <td>...</td>\n",
              "      <td>8.0</td>\n",
              "      <td>NaN</td>\n",
              "      <td>43729</td>\n",
              "      <td>315</td>\n",
              "      <td>97.0</td>\n",
              "      <td>3.247</td>\n",
              "      <td>100.000</td>\n",
              "      <td>Very Easy</td>\n",
              "      <td>7.269</td>\n",
              "      <td>NaT</td>\n",
              "    </tr>\n",
              "    <tr>\n",
              "      <th>152728</th>\n",
              "      <td>https://www.interieur.gov.tn/actualite/11253/ك...</td>\n",
              "      <td>OK</td>\n",
              "      <td>Indexable</td>\n",
              "      <td>NaN</td>\n",
              "      <td>كاب زبيب- بنزرت/ القبض على 07 أشخاص كانوا بصدد...</td>\n",
              "      <td>73.0</td>\n",
              "      <td>609.0</td>\n",
              "      <td>Portail du Ministère de l'Intérieur Tunisien</td>\n",
              "      <td>44.0</td>\n",
              "      <td>253.0</td>\n",
              "      <td>...</td>\n",
              "      <td>8.0</td>\n",
              "      <td>NaN</td>\n",
              "      <td>46898</td>\n",
              "      <td>335</td>\n",
              "      <td>97.0</td>\n",
              "      <td>3.454</td>\n",
              "      <td>100.000</td>\n",
              "      <td>Very Easy</td>\n",
              "      <td>7.065</td>\n",
              "      <td>NaT</td>\n",
              "    </tr>\n",
              "  </tbody>\n",
              "</table>\n",
              "<p>5 rows × 25 columns</p>\n",
              "</div>\n",
              "    <div class=\"colab-df-buttons\">\n",
              "\n",
              "  <div class=\"colab-df-container\">\n",
              "    <button class=\"colab-df-convert\" onclick=\"convertToInteractive('df-917c9feb-87e3-4bd9-80d5-bbd3a43254bb')\"\n",
              "            title=\"Convert this dataframe to an interactive table.\"\n",
              "            style=\"display:none;\">\n",
              "\n",
              "  <svg xmlns=\"http://www.w3.org/2000/svg\" height=\"24px\" viewBox=\"0 -960 960 960\">\n",
              "    <path d=\"M120-120v-720h720v720H120Zm60-500h600v-160H180v160Zm220 220h160v-160H400v160Zm0 220h160v-160H400v160ZM180-400h160v-160H180v160Zm440 0h160v-160H620v160ZM180-180h160v-160H180v160Zm440 0h160v-160H620v160Z\"/>\n",
              "  </svg>\n",
              "    </button>\n",
              "\n",
              "  <style>\n",
              "    .colab-df-container {\n",
              "      display:flex;\n",
              "      gap: 12px;\n",
              "    }\n",
              "\n",
              "    .colab-df-convert {\n",
              "      background-color: #E8F0FE;\n",
              "      border: none;\n",
              "      border-radius: 50%;\n",
              "      cursor: pointer;\n",
              "      display: none;\n",
              "      fill: #1967D2;\n",
              "      height: 32px;\n",
              "      padding: 0 0 0 0;\n",
              "      width: 32px;\n",
              "    }\n",
              "\n",
              "    .colab-df-convert:hover {\n",
              "      background-color: #E2EBFA;\n",
              "      box-shadow: 0px 1px 2px rgba(60, 64, 67, 0.3), 0px 1px 3px 1px rgba(60, 64, 67, 0.15);\n",
              "      fill: #174EA6;\n",
              "    }\n",
              "\n",
              "    .colab-df-buttons div {\n",
              "      margin-bottom: 4px;\n",
              "    }\n",
              "\n",
              "    [theme=dark] .colab-df-convert {\n",
              "      background-color: #3B4455;\n",
              "      fill: #D2E3FC;\n",
              "    }\n",
              "\n",
              "    [theme=dark] .colab-df-convert:hover {\n",
              "      background-color: #434B5C;\n",
              "      box-shadow: 0px 1px 3px 1px rgba(0, 0, 0, 0.15);\n",
              "      filter: drop-shadow(0px 1px 2px rgba(0, 0, 0, 0.3));\n",
              "      fill: #FFFFFF;\n",
              "    }\n",
              "  </style>\n",
              "\n",
              "    <script>\n",
              "      const buttonEl =\n",
              "        document.querySelector('#df-917c9feb-87e3-4bd9-80d5-bbd3a43254bb button.colab-df-convert');\n",
              "      buttonEl.style.display =\n",
              "        google.colab.kernel.accessAllowed ? 'block' : 'none';\n",
              "\n",
              "      async function convertToInteractive(key) {\n",
              "        const element = document.querySelector('#df-917c9feb-87e3-4bd9-80d5-bbd3a43254bb');\n",
              "        const dataTable =\n",
              "          await google.colab.kernel.invokeFunction('convertToInteractive',\n",
              "                                                    [key], {});\n",
              "        if (!dataTable) return;\n",
              "\n",
              "        const docLinkHtml = 'Like what you see? Visit the ' +\n",
              "          '<a target=\"_blank\" href=https://colab.research.google.com/notebooks/data_table.ipynb>data table notebook</a>'\n",
              "          + ' to learn more about interactive tables.';\n",
              "        element.innerHTML = '';\n",
              "        dataTable['output_type'] = 'display_data';\n",
              "        await google.colab.output.renderOutput(dataTable, element);\n",
              "        const docLink = document.createElement('div');\n",
              "        docLink.innerHTML = docLinkHtml;\n",
              "        element.appendChild(docLink);\n",
              "      }\n",
              "    </script>\n",
              "  </div>\n",
              "\n",
              "\n",
              "<div id=\"df-fd71d4d9-2a1d-413e-a4df-5e287249ee26\">\n",
              "  <button class=\"colab-df-quickchart\" onclick=\"quickchart('df-fd71d4d9-2a1d-413e-a4df-5e287249ee26')\"\n",
              "            title=\"Suggest charts.\"\n",
              "            style=\"display:none;\">\n",
              "\n",
              "<svg xmlns=\"http://www.w3.org/2000/svg\" height=\"24px\"viewBox=\"0 0 24 24\"\n",
              "     width=\"24px\">\n",
              "    <g>\n",
              "        <path d=\"M19 3H5c-1.1 0-2 .9-2 2v14c0 1.1.9 2 2 2h14c1.1 0 2-.9 2-2V5c0-1.1-.9-2-2-2zM9 17H7v-7h2v7zm4 0h-2V7h2v10zm4 0h-2v-4h2v4z\"/>\n",
              "    </g>\n",
              "</svg>\n",
              "  </button>\n",
              "\n",
              "<style>\n",
              "  .colab-df-quickchart {\n",
              "    background-color: #E8F0FE;\n",
              "    border: none;\n",
              "    border-radius: 50%;\n",
              "    cursor: pointer;\n",
              "    display: none;\n",
              "    fill: #1967D2;\n",
              "    height: 32px;\n",
              "    padding: 0 0 0 0;\n",
              "    width: 32px;\n",
              "  }\n",
              "\n",
              "  .colab-df-quickchart:hover {\n",
              "    background-color: #E2EBFA;\n",
              "    box-shadow: 0px 1px 2px rgba(60, 64, 67, 0.3), 0px 1px 3px 1px rgba(60, 64, 67, 0.15);\n",
              "    fill: #174EA6;\n",
              "  }\n",
              "\n",
              "  [theme=dark] .colab-df-quickchart {\n",
              "    background-color: #3B4455;\n",
              "    fill: #D2E3FC;\n",
              "  }\n",
              "\n",
              "  [theme=dark] .colab-df-quickchart:hover {\n",
              "    background-color: #434B5C;\n",
              "    box-shadow: 0px 1px 3px 1px rgba(0, 0, 0, 0.15);\n",
              "    filter: drop-shadow(0px 1px 2px rgba(0, 0, 0, 0.3));\n",
              "    fill: #FFFFFF;\n",
              "  }\n",
              "</style>\n",
              "\n",
              "  <script>\n",
              "    async function quickchart(key) {\n",
              "      const charts = await google.colab.kernel.invokeFunction(\n",
              "          'suggestCharts', [key], {});\n",
              "    }\n",
              "    (() => {\n",
              "      let quickchartButtonEl =\n",
              "        document.querySelector('#df-fd71d4d9-2a1d-413e-a4df-5e287249ee26 button');\n",
              "      quickchartButtonEl.style.display =\n",
              "        google.colab.kernel.accessAllowed ? 'block' : 'none';\n",
              "    })();\n",
              "  </script>\n",
              "</div>\n",
              "    </div>\n",
              "  </div>\n"
            ]
          },
          "metadata": {},
          "execution_count": 171
        }
      ]
    },
    {
      "cell_type": "code",
      "source": [
        "hp_html = hp_html[~(hp_html['Size (bytes)'] < 50000)]"
      ],
      "metadata": {
        "id": "1MnG_1P_0d0b"
      },
      "execution_count": null,
      "outputs": []
    },
    {
      "cell_type": "code",
      "source": [
        "hp_html.shape"
      ],
      "metadata": {
        "colab": {
          "base_uri": "https://localhost:8080/"
        },
        "id": "3crmI-8-yIm1",
        "outputId": "90d08bc4-7924-4799-9303-92a362efb552"
      },
      "execution_count": null,
      "outputs": [
        {
          "output_type": "execute_result",
          "data": {
            "text/plain": [
              "(44329, 25)"
            ]
          },
          "metadata": {},
          "execution_count": 173
        }
      ]
    },
    {
      "cell_type": "code",
      "source": [
        "hp_html.head()"
      ],
      "metadata": {
        "colab": {
          "base_uri": "https://localhost:8080/",
          "height": 672
        },
        "id": "XtA4PxMq3-2Y",
        "outputId": "62dd9d42-75d2-4706-ae07-736bc3c71984"
      },
      "execution_count": null,
      "outputs": [
        {
          "output_type": "execute_result",
          "data": {
            "text/plain": [
              "                                              Address Status Indexability  \\\n",
              "6   https://www.atct.tn/fr/arabie-saoudite-recrute...     OK    Indexable   \n",
              "15  https://www.atct.tn/fr/node/80573/node/ar/node...     OK    Indexable   \n",
              "39  https://www.interieur.gov.tn/filtre/categorie/...     OK    Indexable   \n",
              "53  https://www.defense.tn/category/actualite/actu...     OK    Indexable   \n",
              "75  https://www.jat.tn/ar/publicationjurisprudence...     OK    Indexable   \n",
              "\n",
              "   Indexability Status                                            Title 1  \\\n",
              "6                  NaN  Arabie saoudite : recrutement de médecins spéc...   \n",
              "15                 NaN  How do you judge the access to the spaces on t...   \n",
              "39                 NaN       Portail du Ministère de l'Intérieur Tunisien   \n",
              "53                 NaN             Actualités du ministère – Page 2 – MDN   \n",
              "75                 NaN  القرار التعقيبي الصادر في القضية عدد 310667 بت...   \n",
              "\n",
              "    Title 1 Length  Title 1 Pixel Width  \\\n",
              "6             71.0                633.0   \n",
              "15            61.0                541.0   \n",
              "39            44.0                371.0   \n",
              "53            38.0                359.0   \n",
              "75            92.0                804.0   \n",
              "\n",
              "                                   Meta Description 1  \\\n",
              "6   Le Ministère de la Santé d’Arabie Saoudite dés...   \n",
              "15                                                NaN   \n",
              "39       Portail du Ministère de l'Intérieur Tunisien   \n",
              "53                                                NaN   \n",
              "75                                              تحميل   \n",
              "\n",
              "    Meta Description 1 Length  Meta Description 1 Pixel Width  ...  \\\n",
              "6                       221.0                          1287.0  ...   \n",
              "15                        NaN                             NaN  ...   \n",
              "39                       44.0                           253.0  ...   \n",
              "53                        NaN                             NaN  ...   \n",
              "75                        5.0                            30.0  ...   \n",
              "\n",
              "   H2-1 Length  Meta Robots 1 Size (bytes)  Word Count Sentence Count  \\\n",
              "6          8.0            NaN        91173         634          173.0   \n",
              "15         8.0            NaN        87687         551          159.0   \n",
              "39         6.0            NaN        93693        1978          456.0   \n",
              "53        70.0            NaN       205951        1109          243.0   \n",
              "75        20.0            NaN        64240         357          108.0   \n",
              "\n",
              "    Average Words Per Sentence Flesch Reading Ease Score  Readability  \\\n",
              "6                        3.665                    93.162    Very Easy   \n",
              "15                       3.465                    95.073    Very Easy   \n",
              "39                       4.338                   100.000    Very Easy   \n",
              "53                       4.564                    46.429         Hard   \n",
              "75                       3.306                   100.000    Very Easy   \n",
              "\n",
              "    Text Ratio             Last Modified  \n",
              "6        6.162                       NaT  \n",
              "15       5.799                       NaT  \n",
              "39      14.325                       NaT  \n",
              "53       9.066                       NaT  \n",
              "75       3.797 2023-07-28 14:27:50+00:00  \n",
              "\n",
              "[5 rows x 25 columns]"
            ],
            "text/html": [
              "\n",
              "  <div id=\"df-275a8d0c-8494-4a19-8fc4-a47b99c42d56\" class=\"colab-df-container\">\n",
              "    <div>\n",
              "<style scoped>\n",
              "    .dataframe tbody tr th:only-of-type {\n",
              "        vertical-align: middle;\n",
              "    }\n",
              "\n",
              "    .dataframe tbody tr th {\n",
              "        vertical-align: top;\n",
              "    }\n",
              "\n",
              "    .dataframe thead th {\n",
              "        text-align: right;\n",
              "    }\n",
              "</style>\n",
              "<table border=\"1\" class=\"dataframe\">\n",
              "  <thead>\n",
              "    <tr style=\"text-align: right;\">\n",
              "      <th></th>\n",
              "      <th>Address</th>\n",
              "      <th>Status</th>\n",
              "      <th>Indexability</th>\n",
              "      <th>Indexability Status</th>\n",
              "      <th>Title 1</th>\n",
              "      <th>Title 1 Length</th>\n",
              "      <th>Title 1 Pixel Width</th>\n",
              "      <th>Meta Description 1</th>\n",
              "      <th>Meta Description 1 Length</th>\n",
              "      <th>Meta Description 1 Pixel Width</th>\n",
              "      <th>...</th>\n",
              "      <th>H2-1 Length</th>\n",
              "      <th>Meta Robots 1</th>\n",
              "      <th>Size (bytes)</th>\n",
              "      <th>Word Count</th>\n",
              "      <th>Sentence Count</th>\n",
              "      <th>Average Words Per Sentence</th>\n",
              "      <th>Flesch Reading Ease Score</th>\n",
              "      <th>Readability</th>\n",
              "      <th>Text Ratio</th>\n",
              "      <th>Last Modified</th>\n",
              "    </tr>\n",
              "  </thead>\n",
              "  <tbody>\n",
              "    <tr>\n",
              "      <th>6</th>\n",
              "      <td>https://www.atct.tn/fr/arabie-saoudite-recrute...</td>\n",
              "      <td>OK</td>\n",
              "      <td>Indexable</td>\n",
              "      <td>NaN</td>\n",
              "      <td>Arabie saoudite : recrutement de médecins spéc...</td>\n",
              "      <td>71.0</td>\n",
              "      <td>633.0</td>\n",
              "      <td>Le Ministère de la Santé d’Arabie Saoudite dés...</td>\n",
              "      <td>221.0</td>\n",
              "      <td>1287.0</td>\n",
              "      <td>...</td>\n",
              "      <td>8.0</td>\n",
              "      <td>NaN</td>\n",
              "      <td>91173</td>\n",
              "      <td>634</td>\n",
              "      <td>173.0</td>\n",
              "      <td>3.665</td>\n",
              "      <td>93.162</td>\n",
              "      <td>Very Easy</td>\n",
              "      <td>6.162</td>\n",
              "      <td>NaT</td>\n",
              "    </tr>\n",
              "    <tr>\n",
              "      <th>15</th>\n",
              "      <td>https://www.atct.tn/fr/node/80573/node/ar/node...</td>\n",
              "      <td>OK</td>\n",
              "      <td>Indexable</td>\n",
              "      <td>NaN</td>\n",
              "      <td>How do you judge the access to the spaces on t...</td>\n",
              "      <td>61.0</td>\n",
              "      <td>541.0</td>\n",
              "      <td>NaN</td>\n",
              "      <td>NaN</td>\n",
              "      <td>NaN</td>\n",
              "      <td>...</td>\n",
              "      <td>8.0</td>\n",
              "      <td>NaN</td>\n",
              "      <td>87687</td>\n",
              "      <td>551</td>\n",
              "      <td>159.0</td>\n",
              "      <td>3.465</td>\n",
              "      <td>95.073</td>\n",
              "      <td>Very Easy</td>\n",
              "      <td>5.799</td>\n",
              "      <td>NaT</td>\n",
              "    </tr>\n",
              "    <tr>\n",
              "      <th>39</th>\n",
              "      <td>https://www.interieur.gov.tn/filtre/categorie/...</td>\n",
              "      <td>OK</td>\n",
              "      <td>Indexable</td>\n",
              "      <td>NaN</td>\n",
              "      <td>Portail du Ministère de l'Intérieur Tunisien</td>\n",
              "      <td>44.0</td>\n",
              "      <td>371.0</td>\n",
              "      <td>Portail du Ministère de l'Intérieur Tunisien</td>\n",
              "      <td>44.0</td>\n",
              "      <td>253.0</td>\n",
              "      <td>...</td>\n",
              "      <td>6.0</td>\n",
              "      <td>NaN</td>\n",
              "      <td>93693</td>\n",
              "      <td>1978</td>\n",
              "      <td>456.0</td>\n",
              "      <td>4.338</td>\n",
              "      <td>100.000</td>\n",
              "      <td>Very Easy</td>\n",
              "      <td>14.325</td>\n",
              "      <td>NaT</td>\n",
              "    </tr>\n",
              "    <tr>\n",
              "      <th>53</th>\n",
              "      <td>https://www.defense.tn/category/actualite/actu...</td>\n",
              "      <td>OK</td>\n",
              "      <td>Indexable</td>\n",
              "      <td>NaN</td>\n",
              "      <td>Actualités du ministère – Page 2 – MDN</td>\n",
              "      <td>38.0</td>\n",
              "      <td>359.0</td>\n",
              "      <td>NaN</td>\n",
              "      <td>NaN</td>\n",
              "      <td>NaN</td>\n",
              "      <td>...</td>\n",
              "      <td>70.0</td>\n",
              "      <td>NaN</td>\n",
              "      <td>205951</td>\n",
              "      <td>1109</td>\n",
              "      <td>243.0</td>\n",
              "      <td>4.564</td>\n",
              "      <td>46.429</td>\n",
              "      <td>Hard</td>\n",
              "      <td>9.066</td>\n",
              "      <td>NaT</td>\n",
              "    </tr>\n",
              "    <tr>\n",
              "      <th>75</th>\n",
              "      <td>https://www.jat.tn/ar/publicationjurisprudence...</td>\n",
              "      <td>OK</td>\n",
              "      <td>Indexable</td>\n",
              "      <td>NaN</td>\n",
              "      <td>القرار التعقيبي الصادر في القضية عدد 310667 بت...</td>\n",
              "      <td>92.0</td>\n",
              "      <td>804.0</td>\n",
              "      <td>تحميل</td>\n",
              "      <td>5.0</td>\n",
              "      <td>30.0</td>\n",
              "      <td>...</td>\n",
              "      <td>20.0</td>\n",
              "      <td>NaN</td>\n",
              "      <td>64240</td>\n",
              "      <td>357</td>\n",
              "      <td>108.0</td>\n",
              "      <td>3.306</td>\n",
              "      <td>100.000</td>\n",
              "      <td>Very Easy</td>\n",
              "      <td>3.797</td>\n",
              "      <td>2023-07-28 14:27:50+00:00</td>\n",
              "    </tr>\n",
              "  </tbody>\n",
              "</table>\n",
              "<p>5 rows × 25 columns</p>\n",
              "</div>\n",
              "    <div class=\"colab-df-buttons\">\n",
              "\n",
              "  <div class=\"colab-df-container\">\n",
              "    <button class=\"colab-df-convert\" onclick=\"convertToInteractive('df-275a8d0c-8494-4a19-8fc4-a47b99c42d56')\"\n",
              "            title=\"Convert this dataframe to an interactive table.\"\n",
              "            style=\"display:none;\">\n",
              "\n",
              "  <svg xmlns=\"http://www.w3.org/2000/svg\" height=\"24px\" viewBox=\"0 -960 960 960\">\n",
              "    <path d=\"M120-120v-720h720v720H120Zm60-500h600v-160H180v160Zm220 220h160v-160H400v160Zm0 220h160v-160H400v160ZM180-400h160v-160H180v160Zm440 0h160v-160H620v160ZM180-180h160v-160H180v160Zm440 0h160v-160H620v160Z\"/>\n",
              "  </svg>\n",
              "    </button>\n",
              "\n",
              "  <style>\n",
              "    .colab-df-container {\n",
              "      display:flex;\n",
              "      gap: 12px;\n",
              "    }\n",
              "\n",
              "    .colab-df-convert {\n",
              "      background-color: #E8F0FE;\n",
              "      border: none;\n",
              "      border-radius: 50%;\n",
              "      cursor: pointer;\n",
              "      display: none;\n",
              "      fill: #1967D2;\n",
              "      height: 32px;\n",
              "      padding: 0 0 0 0;\n",
              "      width: 32px;\n",
              "    }\n",
              "\n",
              "    .colab-df-convert:hover {\n",
              "      background-color: #E2EBFA;\n",
              "      box-shadow: 0px 1px 2px rgba(60, 64, 67, 0.3), 0px 1px 3px 1px rgba(60, 64, 67, 0.15);\n",
              "      fill: #174EA6;\n",
              "    }\n",
              "\n",
              "    .colab-df-buttons div {\n",
              "      margin-bottom: 4px;\n",
              "    }\n",
              "\n",
              "    [theme=dark] .colab-df-convert {\n",
              "      background-color: #3B4455;\n",
              "      fill: #D2E3FC;\n",
              "    }\n",
              "\n",
              "    [theme=dark] .colab-df-convert:hover {\n",
              "      background-color: #434B5C;\n",
              "      box-shadow: 0px 1px 3px 1px rgba(0, 0, 0, 0.15);\n",
              "      filter: drop-shadow(0px 1px 2px rgba(0, 0, 0, 0.3));\n",
              "      fill: #FFFFFF;\n",
              "    }\n",
              "  </style>\n",
              "\n",
              "    <script>\n",
              "      const buttonEl =\n",
              "        document.querySelector('#df-275a8d0c-8494-4a19-8fc4-a47b99c42d56 button.colab-df-convert');\n",
              "      buttonEl.style.display =\n",
              "        google.colab.kernel.accessAllowed ? 'block' : 'none';\n",
              "\n",
              "      async function convertToInteractive(key) {\n",
              "        const element = document.querySelector('#df-275a8d0c-8494-4a19-8fc4-a47b99c42d56');\n",
              "        const dataTable =\n",
              "          await google.colab.kernel.invokeFunction('convertToInteractive',\n",
              "                                                    [key], {});\n",
              "        if (!dataTable) return;\n",
              "\n",
              "        const docLinkHtml = 'Like what you see? Visit the ' +\n",
              "          '<a target=\"_blank\" href=https://colab.research.google.com/notebooks/data_table.ipynb>data table notebook</a>'\n",
              "          + ' to learn more about interactive tables.';\n",
              "        element.innerHTML = '';\n",
              "        dataTable['output_type'] = 'display_data';\n",
              "        await google.colab.output.renderOutput(dataTable, element);\n",
              "        const docLink = document.createElement('div');\n",
              "        docLink.innerHTML = docLinkHtml;\n",
              "        element.appendChild(docLink);\n",
              "      }\n",
              "    </script>\n",
              "  </div>\n",
              "\n",
              "\n",
              "<div id=\"df-d7b38446-56d0-4caa-80ed-25a1feda4c5d\">\n",
              "  <button class=\"colab-df-quickchart\" onclick=\"quickchart('df-d7b38446-56d0-4caa-80ed-25a1feda4c5d')\"\n",
              "            title=\"Suggest charts.\"\n",
              "            style=\"display:none;\">\n",
              "\n",
              "<svg xmlns=\"http://www.w3.org/2000/svg\" height=\"24px\"viewBox=\"0 0 24 24\"\n",
              "     width=\"24px\">\n",
              "    <g>\n",
              "        <path d=\"M19 3H5c-1.1 0-2 .9-2 2v14c0 1.1.9 2 2 2h14c1.1 0 2-.9 2-2V5c0-1.1-.9-2-2-2zM9 17H7v-7h2v7zm4 0h-2V7h2v10zm4 0h-2v-4h2v4z\"/>\n",
              "    </g>\n",
              "</svg>\n",
              "  </button>\n",
              "\n",
              "<style>\n",
              "  .colab-df-quickchart {\n",
              "    background-color: #E8F0FE;\n",
              "    border: none;\n",
              "    border-radius: 50%;\n",
              "    cursor: pointer;\n",
              "    display: none;\n",
              "    fill: #1967D2;\n",
              "    height: 32px;\n",
              "    padding: 0 0 0 0;\n",
              "    width: 32px;\n",
              "  }\n",
              "\n",
              "  .colab-df-quickchart:hover {\n",
              "    background-color: #E2EBFA;\n",
              "    box-shadow: 0px 1px 2px rgba(60, 64, 67, 0.3), 0px 1px 3px 1px rgba(60, 64, 67, 0.15);\n",
              "    fill: #174EA6;\n",
              "  }\n",
              "\n",
              "  [theme=dark] .colab-df-quickchart {\n",
              "    background-color: #3B4455;\n",
              "    fill: #D2E3FC;\n",
              "  }\n",
              "\n",
              "  [theme=dark] .colab-df-quickchart:hover {\n",
              "    background-color: #434B5C;\n",
              "    box-shadow: 0px 1px 3px 1px rgba(0, 0, 0, 0.15);\n",
              "    filter: drop-shadow(0px 1px 2px rgba(0, 0, 0, 0.3));\n",
              "    fill: #FFFFFF;\n",
              "  }\n",
              "</style>\n",
              "\n",
              "  <script>\n",
              "    async function quickchart(key) {\n",
              "      const charts = await google.colab.kernel.invokeFunction(\n",
              "          'suggestCharts', [key], {});\n",
              "    }\n",
              "    (() => {\n",
              "      let quickchartButtonEl =\n",
              "        document.querySelector('#df-d7b38446-56d0-4caa-80ed-25a1feda4c5d button');\n",
              "      quickchartButtonEl.style.display =\n",
              "        google.colab.kernel.accessAllowed ? 'block' : 'none';\n",
              "    })();\n",
              "  </script>\n",
              "</div>\n",
              "    </div>\n",
              "  </div>\n"
            ]
          },
          "metadata": {},
          "execution_count": 174
        }
      ]
    },
    {
      "cell_type": "code",
      "source": [
        "hp_html = hp_html[~(hp_html['Address'].str.contains('atct') & hp_html['Address'].str.contains('isdb'))]"
      ],
      "metadata": {
        "id": "0hM3JK_Q3b2p"
      },
      "execution_count": null,
      "outputs": []
    },
    {
      "cell_type": "code",
      "source": [
        "hp_html.sample(5)"
      ],
      "metadata": {
        "colab": {
          "base_uri": "https://localhost:8080/",
          "height": 724
        },
        "id": "hZ1VcmHY3RLP",
        "outputId": "b38005a2-da35-47bd-b52d-7e221f4ba7af"
      },
      "execution_count": null,
      "outputs": [
        {
          "output_type": "execute_result",
          "data": {
            "text/plain": [
              "                                                  Address Status Indexability  \\\n",
              "496831  https://orientini.com/FR/Annonces_Orientation_...     OK    Indexable   \n",
              "694666  http://www.education.gov.tn/?m=202205&paged=2&...     OK    Indexable   \n",
              "116996  https://www.jat.tn/ar/publicationjurisprudence...     OK    Indexable   \n",
              "281570  https://orientini.com/FR/Annonces_Orientation_...     OK    Indexable   \n",
              "603635  https://www.jat.tn/ar/publicationjurisprudence...     OK    Indexable   \n",
              "\n",
              "       Indexability Status                                            Title 1  \\\n",
              "496831                 NaN  المركز القطاعي للتكوين والتقنيات التطبيقية في ...   \n",
              "694666                 NaN  mai 2022 – Page 2 – Ministère de l'éducation T...   \n",
              "116996                 NaN  الحكم الإبتدائي الصادر في القضية عدد 11563 بتا...   \n",
              "281570                 NaN  جامعة قابس : قائمة الطلبة المقبولين للحصول على...   \n",
              "603635                 NaN  الحكم الإبتدائي الصادر في القضية عدد 122270 بت...   \n",
              "\n",
              "        Title 1 Length  Title 1 Pixel Width  \\\n",
              "496831           122.0                992.0   \n",
              "694666            52.0                473.0   \n",
              "116996            90.0                763.0   \n",
              "281570            92.0                747.0   \n",
              "603635            91.0                774.0   \n",
              "\n",
              "                                       Meta Description 1  \\\n",
              "496831  Guide interactif de l'orientation, filières un...   \n",
              "694666                                                NaN   \n",
              "116996                                              تحميل   \n",
              "281570  Guide interactif de l'orientation, filières un...   \n",
              "603635                                              تحميل   \n",
              "\n",
              "        Meta Description 1 Length  Meta Description 1 Pixel Width  ...  \\\n",
              "496831                      194.0                          1134.0  ...   \n",
              "694666                        NaN                             NaN  ...   \n",
              "116996                        5.0                            30.0  ...   \n",
              "281570                      194.0                          1134.0  ...   \n",
              "603635                        5.0                            30.0  ...   \n",
              "\n",
              "       H2-1 Length  Meta Robots 1 Size (bytes)  Word Count Sentence Count  \\\n",
              "496831        92.0            NaN       285240        2586          492.0   \n",
              "694666        26.0            NaN        79028         734          199.0   \n",
              "116996        20.0            NaN        66970         420          113.0   \n",
              "281570        63.0            NaN       312003        2763          536.0   \n",
              "603635        20.0            NaN        64675         364          108.0   \n",
              "\n",
              "        Average Words Per Sentence Flesch Reading Ease Score  Readability  \\\n",
              "496831                       5.256                     100.0    Very Easy   \n",
              "694666                       3.688                     100.0    Very Easy   \n",
              "116996                       3.717                     100.0    Very Easy   \n",
              "281570                       5.155                     100.0    Very Easy   \n",
              "603635                       3.370                     100.0    Very Easy   \n",
              "\n",
              "        Text Ratio             Last Modified  \n",
              "496831       8.649                       NaT  \n",
              "694666       9.484                       NaT  \n",
              "116996       4.354 2023-07-28 15:46:48+00:00  \n",
              "281570       8.258                       NaT  \n",
              "603635       3.934 2023-07-28 15:58:20+00:00  \n",
              "\n",
              "[5 rows x 25 columns]"
            ],
            "text/html": [
              "\n",
              "  <div id=\"df-be8186e2-d159-44b6-9ba0-e3d9fe298979\" class=\"colab-df-container\">\n",
              "    <div>\n",
              "<style scoped>\n",
              "    .dataframe tbody tr th:only-of-type {\n",
              "        vertical-align: middle;\n",
              "    }\n",
              "\n",
              "    .dataframe tbody tr th {\n",
              "        vertical-align: top;\n",
              "    }\n",
              "\n",
              "    .dataframe thead th {\n",
              "        text-align: right;\n",
              "    }\n",
              "</style>\n",
              "<table border=\"1\" class=\"dataframe\">\n",
              "  <thead>\n",
              "    <tr style=\"text-align: right;\">\n",
              "      <th></th>\n",
              "      <th>Address</th>\n",
              "      <th>Status</th>\n",
              "      <th>Indexability</th>\n",
              "      <th>Indexability Status</th>\n",
              "      <th>Title 1</th>\n",
              "      <th>Title 1 Length</th>\n",
              "      <th>Title 1 Pixel Width</th>\n",
              "      <th>Meta Description 1</th>\n",
              "      <th>Meta Description 1 Length</th>\n",
              "      <th>Meta Description 1 Pixel Width</th>\n",
              "      <th>...</th>\n",
              "      <th>H2-1 Length</th>\n",
              "      <th>Meta Robots 1</th>\n",
              "      <th>Size (bytes)</th>\n",
              "      <th>Word Count</th>\n",
              "      <th>Sentence Count</th>\n",
              "      <th>Average Words Per Sentence</th>\n",
              "      <th>Flesch Reading Ease Score</th>\n",
              "      <th>Readability</th>\n",
              "      <th>Text Ratio</th>\n",
              "      <th>Last Modified</th>\n",
              "    </tr>\n",
              "  </thead>\n",
              "  <tbody>\n",
              "    <tr>\n",
              "      <th>496831</th>\n",
              "      <td>https://orientini.com/FR/Annonces_Orientation_...</td>\n",
              "      <td>OK</td>\n",
              "      <td>Indexable</td>\n",
              "      <td>NaN</td>\n",
              "      <td>المركز القطاعي للتكوين والتقنيات التطبيقية في ...</td>\n",
              "      <td>122.0</td>\n",
              "      <td>992.0</td>\n",
              "      <td>Guide interactif de l'orientation, filières un...</td>\n",
              "      <td>194.0</td>\n",
              "      <td>1134.0</td>\n",
              "      <td>...</td>\n",
              "      <td>92.0</td>\n",
              "      <td>NaN</td>\n",
              "      <td>285240</td>\n",
              "      <td>2586</td>\n",
              "      <td>492.0</td>\n",
              "      <td>5.256</td>\n",
              "      <td>100.0</td>\n",
              "      <td>Very Easy</td>\n",
              "      <td>8.649</td>\n",
              "      <td>NaT</td>\n",
              "    </tr>\n",
              "    <tr>\n",
              "      <th>694666</th>\n",
              "      <td>http://www.education.gov.tn/?m=202205&amp;paged=2&amp;...</td>\n",
              "      <td>OK</td>\n",
              "      <td>Indexable</td>\n",
              "      <td>NaN</td>\n",
              "      <td>mai 2022 – Page 2 – Ministère de l'éducation T...</td>\n",
              "      <td>52.0</td>\n",
              "      <td>473.0</td>\n",
              "      <td>NaN</td>\n",
              "      <td>NaN</td>\n",
              "      <td>NaN</td>\n",
              "      <td>...</td>\n",
              "      <td>26.0</td>\n",
              "      <td>NaN</td>\n",
              "      <td>79028</td>\n",
              "      <td>734</td>\n",
              "      <td>199.0</td>\n",
              "      <td>3.688</td>\n",
              "      <td>100.0</td>\n",
              "      <td>Very Easy</td>\n",
              "      <td>9.484</td>\n",
              "      <td>NaT</td>\n",
              "    </tr>\n",
              "    <tr>\n",
              "      <th>116996</th>\n",
              "      <td>https://www.jat.tn/ar/publicationjurisprudence...</td>\n",
              "      <td>OK</td>\n",
              "      <td>Indexable</td>\n",
              "      <td>NaN</td>\n",
              "      <td>الحكم الإبتدائي الصادر في القضية عدد 11563 بتا...</td>\n",
              "      <td>90.0</td>\n",
              "      <td>763.0</td>\n",
              "      <td>تحميل</td>\n",
              "      <td>5.0</td>\n",
              "      <td>30.0</td>\n",
              "      <td>...</td>\n",
              "      <td>20.0</td>\n",
              "      <td>NaN</td>\n",
              "      <td>66970</td>\n",
              "      <td>420</td>\n",
              "      <td>113.0</td>\n",
              "      <td>3.717</td>\n",
              "      <td>100.0</td>\n",
              "      <td>Very Easy</td>\n",
              "      <td>4.354</td>\n",
              "      <td>2023-07-28 15:46:48+00:00</td>\n",
              "    </tr>\n",
              "    <tr>\n",
              "      <th>281570</th>\n",
              "      <td>https://orientini.com/FR/Annonces_Orientation_...</td>\n",
              "      <td>OK</td>\n",
              "      <td>Indexable</td>\n",
              "      <td>NaN</td>\n",
              "      <td>جامعة قابس : قائمة الطلبة المقبولين للحصول على...</td>\n",
              "      <td>92.0</td>\n",
              "      <td>747.0</td>\n",
              "      <td>Guide interactif de l'orientation, filières un...</td>\n",
              "      <td>194.0</td>\n",
              "      <td>1134.0</td>\n",
              "      <td>...</td>\n",
              "      <td>63.0</td>\n",
              "      <td>NaN</td>\n",
              "      <td>312003</td>\n",
              "      <td>2763</td>\n",
              "      <td>536.0</td>\n",
              "      <td>5.155</td>\n",
              "      <td>100.0</td>\n",
              "      <td>Very Easy</td>\n",
              "      <td>8.258</td>\n",
              "      <td>NaT</td>\n",
              "    </tr>\n",
              "    <tr>\n",
              "      <th>603635</th>\n",
              "      <td>https://www.jat.tn/ar/publicationjurisprudence...</td>\n",
              "      <td>OK</td>\n",
              "      <td>Indexable</td>\n",
              "      <td>NaN</td>\n",
              "      <td>الحكم الإبتدائي الصادر في القضية عدد 122270 بت...</td>\n",
              "      <td>91.0</td>\n",
              "      <td>774.0</td>\n",
              "      <td>تحميل</td>\n",
              "      <td>5.0</td>\n",
              "      <td>30.0</td>\n",
              "      <td>...</td>\n",
              "      <td>20.0</td>\n",
              "      <td>NaN</td>\n",
              "      <td>64675</td>\n",
              "      <td>364</td>\n",
              "      <td>108.0</td>\n",
              "      <td>3.370</td>\n",
              "      <td>100.0</td>\n",
              "      <td>Very Easy</td>\n",
              "      <td>3.934</td>\n",
              "      <td>2023-07-28 15:58:20+00:00</td>\n",
              "    </tr>\n",
              "  </tbody>\n",
              "</table>\n",
              "<p>5 rows × 25 columns</p>\n",
              "</div>\n",
              "    <div class=\"colab-df-buttons\">\n",
              "\n",
              "  <div class=\"colab-df-container\">\n",
              "    <button class=\"colab-df-convert\" onclick=\"convertToInteractive('df-be8186e2-d159-44b6-9ba0-e3d9fe298979')\"\n",
              "            title=\"Convert this dataframe to an interactive table.\"\n",
              "            style=\"display:none;\">\n",
              "\n",
              "  <svg xmlns=\"http://www.w3.org/2000/svg\" height=\"24px\" viewBox=\"0 -960 960 960\">\n",
              "    <path d=\"M120-120v-720h720v720H120Zm60-500h600v-160H180v160Zm220 220h160v-160H400v160Zm0 220h160v-160H400v160ZM180-400h160v-160H180v160Zm440 0h160v-160H620v160ZM180-180h160v-160H180v160Zm440 0h160v-160H620v160Z\"/>\n",
              "  </svg>\n",
              "    </button>\n",
              "\n",
              "  <style>\n",
              "    .colab-df-container {\n",
              "      display:flex;\n",
              "      gap: 12px;\n",
              "    }\n",
              "\n",
              "    .colab-df-convert {\n",
              "      background-color: #E8F0FE;\n",
              "      border: none;\n",
              "      border-radius: 50%;\n",
              "      cursor: pointer;\n",
              "      display: none;\n",
              "      fill: #1967D2;\n",
              "      height: 32px;\n",
              "      padding: 0 0 0 0;\n",
              "      width: 32px;\n",
              "    }\n",
              "\n",
              "    .colab-df-convert:hover {\n",
              "      background-color: #E2EBFA;\n",
              "      box-shadow: 0px 1px 2px rgba(60, 64, 67, 0.3), 0px 1px 3px 1px rgba(60, 64, 67, 0.15);\n",
              "      fill: #174EA6;\n",
              "    }\n",
              "\n",
              "    .colab-df-buttons div {\n",
              "      margin-bottom: 4px;\n",
              "    }\n",
              "\n",
              "    [theme=dark] .colab-df-convert {\n",
              "      background-color: #3B4455;\n",
              "      fill: #D2E3FC;\n",
              "    }\n",
              "\n",
              "    [theme=dark] .colab-df-convert:hover {\n",
              "      background-color: #434B5C;\n",
              "      box-shadow: 0px 1px 3px 1px rgba(0, 0, 0, 0.15);\n",
              "      filter: drop-shadow(0px 1px 2px rgba(0, 0, 0, 0.3));\n",
              "      fill: #FFFFFF;\n",
              "    }\n",
              "  </style>\n",
              "\n",
              "    <script>\n",
              "      const buttonEl =\n",
              "        document.querySelector('#df-be8186e2-d159-44b6-9ba0-e3d9fe298979 button.colab-df-convert');\n",
              "      buttonEl.style.display =\n",
              "        google.colab.kernel.accessAllowed ? 'block' : 'none';\n",
              "\n",
              "      async function convertToInteractive(key) {\n",
              "        const element = document.querySelector('#df-be8186e2-d159-44b6-9ba0-e3d9fe298979');\n",
              "        const dataTable =\n",
              "          await google.colab.kernel.invokeFunction('convertToInteractive',\n",
              "                                                    [key], {});\n",
              "        if (!dataTable) return;\n",
              "\n",
              "        const docLinkHtml = 'Like what you see? Visit the ' +\n",
              "          '<a target=\"_blank\" href=https://colab.research.google.com/notebooks/data_table.ipynb>data table notebook</a>'\n",
              "          + ' to learn more about interactive tables.';\n",
              "        element.innerHTML = '';\n",
              "        dataTable['output_type'] = 'display_data';\n",
              "        await google.colab.output.renderOutput(dataTable, element);\n",
              "        const docLink = document.createElement('div');\n",
              "        docLink.innerHTML = docLinkHtml;\n",
              "        element.appendChild(docLink);\n",
              "      }\n",
              "    </script>\n",
              "  </div>\n",
              "\n",
              "\n",
              "<div id=\"df-b4a92386-ea93-48ee-884b-80f5262d147c\">\n",
              "  <button class=\"colab-df-quickchart\" onclick=\"quickchart('df-b4a92386-ea93-48ee-884b-80f5262d147c')\"\n",
              "            title=\"Suggest charts.\"\n",
              "            style=\"display:none;\">\n",
              "\n",
              "<svg xmlns=\"http://www.w3.org/2000/svg\" height=\"24px\"viewBox=\"0 0 24 24\"\n",
              "     width=\"24px\">\n",
              "    <g>\n",
              "        <path d=\"M19 3H5c-1.1 0-2 .9-2 2v14c0 1.1.9 2 2 2h14c1.1 0 2-.9 2-2V5c0-1.1-.9-2-2-2zM9 17H7v-7h2v7zm4 0h-2V7h2v10zm4 0h-2v-4h2v4z\"/>\n",
              "    </g>\n",
              "</svg>\n",
              "  </button>\n",
              "\n",
              "<style>\n",
              "  .colab-df-quickchart {\n",
              "    background-color: #E8F0FE;\n",
              "    border: none;\n",
              "    border-radius: 50%;\n",
              "    cursor: pointer;\n",
              "    display: none;\n",
              "    fill: #1967D2;\n",
              "    height: 32px;\n",
              "    padding: 0 0 0 0;\n",
              "    width: 32px;\n",
              "  }\n",
              "\n",
              "  .colab-df-quickchart:hover {\n",
              "    background-color: #E2EBFA;\n",
              "    box-shadow: 0px 1px 2px rgba(60, 64, 67, 0.3), 0px 1px 3px 1px rgba(60, 64, 67, 0.15);\n",
              "    fill: #174EA6;\n",
              "  }\n",
              "\n",
              "  [theme=dark] .colab-df-quickchart {\n",
              "    background-color: #3B4455;\n",
              "    fill: #D2E3FC;\n",
              "  }\n",
              "\n",
              "  [theme=dark] .colab-df-quickchart:hover {\n",
              "    background-color: #434B5C;\n",
              "    box-shadow: 0px 1px 3px 1px rgba(0, 0, 0, 0.15);\n",
              "    filter: drop-shadow(0px 1px 2px rgba(0, 0, 0, 0.3));\n",
              "    fill: #FFFFFF;\n",
              "  }\n",
              "</style>\n",
              "\n",
              "  <script>\n",
              "    async function quickchart(key) {\n",
              "      const charts = await google.colab.kernel.invokeFunction(\n",
              "          'suggestCharts', [key], {});\n",
              "    }\n",
              "    (() => {\n",
              "      let quickchartButtonEl =\n",
              "        document.querySelector('#df-b4a92386-ea93-48ee-884b-80f5262d147c button');\n",
              "      quickchartButtonEl.style.display =\n",
              "        google.colab.kernel.accessAllowed ? 'block' : 'none';\n",
              "    })();\n",
              "  </script>\n",
              "</div>\n",
              "    </div>\n",
              "  </div>\n"
            ]
          },
          "metadata": {},
          "execution_count": 176
        }
      ]
    },
    {
      "cell_type": "markdown",
      "source": [
        "## Low-Priority HTML"
      ],
      "metadata": {
        "id": "RcJQN2rV3Et2"
      }
    },
    {
      "cell_type": "code",
      "source": [
        "lp_html = html_no_dup.copy()\n",
        "\n",
        "# Drop high-priority HTML rows from lp_html\n",
        "lp_html = lp_html.drop(hp_html.index)"
      ],
      "metadata": {
        "id": "FnCrhZIZ3Jck"
      },
      "execution_count": null,
      "outputs": []
    },
    {
      "cell_type": "code",
      "source": [
        "lp_html.shape"
      ],
      "metadata": {
        "colab": {
          "base_uri": "https://localhost:8080/"
        },
        "id": "64E7B9BT9L0_",
        "outputId": "58fc95d8-cb6d-4590-a630-2189c21882c2"
      },
      "execution_count": null,
      "outputs": [
        {
          "output_type": "execute_result",
          "data": {
            "text/plain": [
              "(71651, 25)"
            ]
          },
          "metadata": {},
          "execution_count": 178
        }
      ]
    },
    {
      "cell_type": "code",
      "source": [
        "# Reset the index of both datasets\n",
        "lp_html.reset_index(drop=True, inplace=True)"
      ],
      "metadata": {
        "id": "c9zUUTMp3Jhp"
      },
      "execution_count": null,
      "outputs": []
    },
    {
      "cell_type": "code",
      "source": [
        "# Reset the index of both datasets\n",
        "hp_html.reset_index(drop=True, inplace=True)"
      ],
      "metadata": {
        "id": "i6PUYYzi9h93"
      },
      "execution_count": null,
      "outputs": []
    },
    {
      "cell_type": "code",
      "source": [
        "pdf.reset_index(drop=True, inplace=True)"
      ],
      "metadata": {
        "id": "JgKktypc-w1a"
      },
      "execution_count": null,
      "outputs": []
    },
    {
      "cell_type": "code",
      "source": [
        "lp_html.index"
      ],
      "metadata": {
        "colab": {
          "base_uri": "https://localhost:8080/"
        },
        "id": "NsmWEoIZ9ewg",
        "outputId": "778e3c43-e7b2-412c-b96a-030bcb49f33a"
      },
      "execution_count": null,
      "outputs": [
        {
          "output_type": "execute_result",
          "data": {
            "text/plain": [
              "RangeIndex(start=0, stop=71651, step=1)"
            ]
          },
          "metadata": {},
          "execution_count": 181
        }
      ]
    },
    {
      "cell_type": "code",
      "source": [
        "hp_html.index"
      ],
      "metadata": {
        "colab": {
          "base_uri": "https://localhost:8080/"
        },
        "id": "JM-eqmwP9c3f",
        "outputId": "e2219188-04e9-404b-a9d3-c220163e6fbf"
      },
      "execution_count": null,
      "outputs": [
        {
          "output_type": "execute_result",
          "data": {
            "text/plain": [
              "RangeIndex(start=0, stop=44323, step=1)"
            ]
          },
          "metadata": {},
          "execution_count": 182
        }
      ]
    },
    {
      "cell_type": "code",
      "source": [
        "pdf.to_csv('pdf.csv', sep=',', encoding='utf-8')\n",
        "hp_html.to_csv('hp_html.csv', sep=',', encoding='utf-8')\n",
        "lp_html.to_csv('lp_html.csv', sep=',', encoding='utf-8')"
      ],
      "metadata": {
        "id": "2TXX-GHi-Vap"
      },
      "execution_count": null,
      "outputs": []
    },
    {
      "cell_type": "code",
      "source": [],
      "metadata": {
        "id": "Nb8K_3Ix_zZC"
      },
      "execution_count": null,
      "outputs": []
    }
  ],
  "metadata": {
    "accelerator": "GPU",
    "colab": {
      "provenance": [],
      "toc_visible": true
    },
    "kernelspec": {
      "display_name": "Python 3",
      "name": "python3"
    },
    "language_info": {
      "name": "python"
    }
  },
  "nbformat": 4,
  "nbformat_minor": 0
}